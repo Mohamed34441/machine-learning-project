{
  "cells": [
    {
      "cell_type": "markdown",
      "metadata": {
        "id": "2OsdFGbTQF8f"
      },
      "source": [
        "# Importing the Libraries and the data"
      ]
    },
    {
      "cell_type": "code",
      "execution_count": 2,
      "metadata": {
        "id": "BY7PyNpIQF8i"
      },
      "outputs": [],
      "source": [
        "import pandas as pd\n",
        "import numpy as np\n",
        "import matplotlib.pyplot as plt\n",
        "import seaborn as sns"
      ]
    },
    {
      "cell_type": "code",
      "execution_count": 3,
      "metadata": {
        "colab": {
          "base_uri": "https://localhost:8080/"
        },
        "id": "8KwLK70hR1s3",
        "outputId": "dacdecd2-9c4d-4e14-e5b1-8055db1a74d3"
      },
      "outputs": [
        {
          "data": {
            "text/html": [
              "<div>\n",
              "<style scoped>\n",
              "    .dataframe tbody tr th:only-of-type {\n",
              "        vertical-align: middle;\n",
              "    }\n",
              "\n",
              "    .dataframe tbody tr th {\n",
              "        vertical-align: top;\n",
              "    }\n",
              "\n",
              "    .dataframe thead th {\n",
              "        text-align: right;\n",
              "    }\n",
              "</style>\n",
              "<table border=\"1\" class=\"dataframe\">\n",
              "  <thead>\n",
              "    <tr style=\"text-align: right;\">\n",
              "      <th></th>\n",
              "      <th>Type</th>\n",
              "      <th>Price</th>\n",
              "      <th>Bedrooms</th>\n",
              "      <th>Bathrooms</th>\n",
              "      <th>Area</th>\n",
              "      <th>Furnished</th>\n",
              "      <th>Level</th>\n",
              "      <th>Compound</th>\n",
              "      <th>Payment_Option</th>\n",
              "      <th>Delivery_Date</th>\n",
              "      <th>Delivery_Term</th>\n",
              "      <th>City</th>\n",
              "    </tr>\n",
              "  </thead>\n",
              "  <tbody>\n",
              "    <tr>\n",
              "      <th>0</th>\n",
              "      <td>Duplex</td>\n",
              "      <td>4000000</td>\n",
              "      <td>3.0</td>\n",
              "      <td>3.0</td>\n",
              "      <td>400.0</td>\n",
              "      <td>No</td>\n",
              "      <td>7</td>\n",
              "      <td>Unknown</td>\n",
              "      <td>Cash</td>\n",
              "      <td>Ready to move</td>\n",
              "      <td>Finished</td>\n",
              "      <td>Nasr City</td>\n",
              "    </tr>\n",
              "    <tr>\n",
              "      <th>1</th>\n",
              "      <td>Apartment</td>\n",
              "      <td>4000000</td>\n",
              "      <td>3.0</td>\n",
              "      <td>3.0</td>\n",
              "      <td>160.0</td>\n",
              "      <td>No</td>\n",
              "      <td>10+</td>\n",
              "      <td>Unknown</td>\n",
              "      <td>Cash</td>\n",
              "      <td>Ready to move</td>\n",
              "      <td>Finished</td>\n",
              "      <td>Camp Caesar</td>\n",
              "    </tr>\n",
              "    <tr>\n",
              "      <th>2</th>\n",
              "      <td>Apartment</td>\n",
              "      <td>2250000</td>\n",
              "      <td>3.0</td>\n",
              "      <td>2.0</td>\n",
              "      <td>165.0</td>\n",
              "      <td>No</td>\n",
              "      <td>1</td>\n",
              "      <td>Unknown</td>\n",
              "      <td>Cash</td>\n",
              "      <td>Ready to move</td>\n",
              "      <td>Finished</td>\n",
              "      <td>Smoha</td>\n",
              "    </tr>\n",
              "    <tr>\n",
              "      <th>3</th>\n",
              "      <td>Apartment</td>\n",
              "      <td>1900000</td>\n",
              "      <td>3.0</td>\n",
              "      <td>2.0</td>\n",
              "      <td>230.0</td>\n",
              "      <td>No</td>\n",
              "      <td>10</td>\n",
              "      <td>Unknown</td>\n",
              "      <td>Cash</td>\n",
              "      <td>Ready to move</td>\n",
              "      <td>Finished</td>\n",
              "      <td>Nasr City</td>\n",
              "    </tr>\n",
              "    <tr>\n",
              "      <th>4</th>\n",
              "      <td>Apartment</td>\n",
              "      <td>5800000</td>\n",
              "      <td>2.0</td>\n",
              "      <td>3.0</td>\n",
              "      <td>160.0</td>\n",
              "      <td>No</td>\n",
              "      <td>Ground</td>\n",
              "      <td>Eastown</td>\n",
              "      <td>Cash</td>\n",
              "      <td>Ready to move</td>\n",
              "      <td>Semi Finished</td>\n",
              "      <td>New Cairo - El Tagamoa</td>\n",
              "    </tr>\n",
              "  </tbody>\n",
              "</table>\n",
              "</div>"
            ],
            "text/plain": [
              "        Type    Price Bedrooms Bathrooms   Area Furnished   Level Compound  \\\n",
              "0     Duplex  4000000      3.0       3.0  400.0        No       7  Unknown   \n",
              "1  Apartment  4000000      3.0       3.0  160.0        No     10+  Unknown   \n",
              "2  Apartment  2250000      3.0       2.0  165.0        No       1  Unknown   \n",
              "3  Apartment  1900000      3.0       2.0  230.0        No      10  Unknown   \n",
              "4  Apartment  5800000      2.0       3.0  160.0        No  Ground  Eastown   \n",
              "\n",
              "  Payment_Option  Delivery_Date  Delivery_Term                    City  \n",
              "0           Cash  Ready to move       Finished               Nasr City  \n",
              "1           Cash  Ready to move       Finished             Camp Caesar  \n",
              "2           Cash  Ready to move       Finished                   Smoha  \n",
              "3           Cash  Ready to move       Finished               Nasr City  \n",
              "4           Cash  Ready to move  Semi Finished  New Cairo - El Tagamoa  "
            ]
          },
          "execution_count": 3,
          "metadata": {},
          "output_type": "execute_result"
        }
      ],
      "source": [
        "import pandas as pd\n",
        "\n",
        "\n",
        "file_path = 'Egypt_Houses_Price.csv'\n",
        "\n",
        "\n",
        "df = pd.read_csv(file_path)\n",
        "\n",
        "\n",
        "df.head()"
      ]
    },
    {
      "cell_type": "markdown",
      "metadata": {
        "id": "_B0MGo2cQF8k"
      },
      "source": [
        "# Exploring the Data"
      ]
    },
    {
      "cell_type": "code",
      "execution_count": 4,
      "metadata": {
        "colab": {
          "base_uri": "https://localhost:8080/"
        },
        "id": "kUzcIdMuQF8l",
        "outputId": "a405ea70-6ba7-44ed-f146-aa3f71a90eec"
      },
      "outputs": [
        {
          "data": {
            "text/plain": [
              "(27361, 12)"
            ]
          },
          "execution_count": 4,
          "metadata": {},
          "output_type": "execute_result"
        }
      ],
      "source": [
        "df.shape"
      ]
    },
    {
      "cell_type": "code",
      "execution_count": 5,
      "metadata": {
        "colab": {
          "base_uri": "https://localhost:8080/",
          "height": 460
        },
        "id": "zE3dYXVsQF8l",
        "outputId": "8e4ab95a-0098-49ec-f732-d9f1caf59d5f"
      },
      "outputs": [
        {
          "data": {
            "text/plain": [
              "Type              object\n",
              "Price             object\n",
              "Bedrooms          object\n",
              "Bathrooms         object\n",
              "Area              object\n",
              "Furnished         object\n",
              "Level             object\n",
              "Compound          object\n",
              "Payment_Option    object\n",
              "Delivery_Date     object\n",
              "Delivery_Term     object\n",
              "City              object\n",
              "dtype: object"
            ]
          },
          "execution_count": 5,
          "metadata": {},
          "output_type": "execute_result"
        }
      ],
      "source": [
        "df.dtypes"
      ]
    },
    {
      "cell_type": "code",
      "execution_count": 6,
      "metadata": {
        "colab": {
          "base_uri": "https://localhost:8080/",
          "height": 460
        },
        "id": "CzTf6Fk8QF8l",
        "outputId": "a6b16e31-31ae-497d-ec9d-18d01f807117"
      },
      "outputs": [
        {
          "data": {
            "text/plain": [
              "Type                0\n",
              "Price               2\n",
              "Bedrooms          203\n",
              "Bathrooms         171\n",
              "Area              471\n",
              "Furnished           0\n",
              "Level               0\n",
              "Compound            0\n",
              "Payment_Option      0\n",
              "Delivery_Date       0\n",
              "Delivery_Term       0\n",
              "City                0\n",
              "dtype: int64"
            ]
          },
          "execution_count": 6,
          "metadata": {},
          "output_type": "execute_result"
        }
      ],
      "source": [
        "df.isnull().sum()"
      ]
    },
    {
      "cell_type": "markdown",
      "metadata": {
        "id": "X1qgnt-UQF8l"
      },
      "source": [
        "Number of null values is low so we can drop them"
      ]
    },
    {
      "cell_type": "code",
      "execution_count": 7,
      "metadata": {
        "colab": {
          "base_uri": "https://localhost:8080/",
          "height": 460
        },
        "id": "7mE-oa-_QF8l",
        "outputId": "421508b7-1d2f-4fb9-bd8f-a8c91716e5ae"
      },
      "outputs": [
        {
          "data": {
            "text/plain": [
              "Type              0\n",
              "Price             0\n",
              "Bedrooms          0\n",
              "Bathrooms         0\n",
              "Area              0\n",
              "Furnished         0\n",
              "Level             0\n",
              "Compound          0\n",
              "Payment_Option    0\n",
              "Delivery_Date     0\n",
              "Delivery_Term     0\n",
              "City              0\n",
              "dtype: int64"
            ]
          },
          "execution_count": 7,
          "metadata": {},
          "output_type": "execute_result"
        }
      ],
      "source": [
        "df.dropna(inplace=True)\n",
        "df.isnull().sum()"
      ]
    },
    {
      "cell_type": "code",
      "execution_count": 8,
      "metadata": {
        "colab": {
          "base_uri": "https://localhost:8080/"
        },
        "id": "3tHEBv-ZQF8m",
        "outputId": "e4d8b08c-ac39-4375-eff9-e16347b43af0"
      },
      "outputs": [
        {
          "data": {
            "text/plain": [
              "(26730, 12)"
            ]
          },
          "execution_count": 8,
          "metadata": {},
          "output_type": "execute_result"
        }
      ],
      "source": [
        "df.shape"
      ]
    },
    {
      "cell_type": "markdown",
      "metadata": {
        "id": "XY8FQQOOQF8m"
      },
      "source": [
        "# Data cleaning"
      ]
    },
    {
      "cell_type": "markdown",
      "metadata": {
        "id": "Jc8FWLTWQF8m"
      },
      "source": [
        "As we saw the columns of (price , bedrooms , Bathrooms, Area) are objects so lets see why and try to solve this problem"
      ]
    },
    {
      "cell_type": "code",
      "execution_count": 9,
      "metadata": {
        "colab": {
          "base_uri": "https://localhost:8080/"
        },
        "id": "xsXPpZqEQF8m",
        "outputId": "81cf74f8-fc4c-4803-8538-e41eae99120f"
      },
      "outputs": [
        {
          "name": "stdout",
          "output_type": "stream",
          "text": [
            "Price : ['4000000' '2250000' '1900000' ... '6276000' '11950000' '12284000']\n",
            "Bedrooms : ['3.0' '2.0' '4.0' '5.0' '1.0' 'Unknown' '7.0' '6.0' '10+' '3' '2' '5' '4'\n",
            " '1' '6' '7' '8' '10' '9' '9.0' '8.0' '10.0']\n",
            "Bathrooms : ['3.0' '2.0' '5.0' '1.0' '4.0' 'Unknown' '7.0' '10+' '3' '2' '1' '4' '6'\n",
            " '5' '7' '6.0' '10' '8' '9' '8.0' '10.0' '9.0']\n"
          ]
        }
      ],
      "source": [
        "for col in ['Price','Bedrooms','Bathrooms']:\n",
        "    print(f'{col} : {df[col].unique()}')"
      ]
    },
    {
      "cell_type": "code",
      "execution_count": 10,
      "metadata": {
        "colab": {
          "base_uri": "https://localhost:8080/",
          "height": 98
        },
        "id": "7EcHVlHtQF8m",
        "outputId": "75a04a86-971d-4da7-867f-f4f0fec6343c"
      },
      "outputs": [
        {
          "data": {
            "text/html": [
              "<div>\n",
              "<style scoped>\n",
              "    .dataframe tbody tr th:only-of-type {\n",
              "        vertical-align: middle;\n",
              "    }\n",
              "\n",
              "    .dataframe tbody tr th {\n",
              "        vertical-align: top;\n",
              "    }\n",
              "\n",
              "    .dataframe thead th {\n",
              "        text-align: right;\n",
              "    }\n",
              "</style>\n",
              "<table border=\"1\" class=\"dataframe\">\n",
              "  <thead>\n",
              "    <tr style=\"text-align: right;\">\n",
              "      <th></th>\n",
              "      <th>Type</th>\n",
              "      <th>Price</th>\n",
              "      <th>Bedrooms</th>\n",
              "      <th>Bathrooms</th>\n",
              "      <th>Area</th>\n",
              "      <th>Furnished</th>\n",
              "      <th>Level</th>\n",
              "      <th>Compound</th>\n",
              "      <th>Payment_Option</th>\n",
              "      <th>Delivery_Date</th>\n",
              "      <th>Delivery_Term</th>\n",
              "      <th>City</th>\n",
              "    </tr>\n",
              "  </thead>\n",
              "  <tbody>\n",
              "    <tr>\n",
              "      <th>1746</th>\n",
              "      <td>Apartment</td>\n",
              "      <td>2000000</td>\n",
              "      <td>10+</td>\n",
              "      <td>10+</td>\n",
              "      <td>550.0</td>\n",
              "      <td>Unknown</td>\n",
              "      <td>5</td>\n",
              "      <td>Unknown</td>\n",
              "      <td>Cash</td>\n",
              "      <td>Ready to move</td>\n",
              "      <td>Semi Finished</td>\n",
              "      <td>New Cairo - El Tagamoa</td>\n",
              "    </tr>\n",
              "  </tbody>\n",
              "</table>\n",
              "</div>"
            ],
            "text/plain": [
              "           Type    Price Bedrooms Bathrooms   Area Furnished Level Compound  \\\n",
              "1746  Apartment  2000000      10+       10+  550.0   Unknown     5  Unknown   \n",
              "\n",
              "     Payment_Option  Delivery_Date  Delivery_Term                    City  \n",
              "1746           Cash  Ready to move  Semi Finished  New Cairo - El Tagamoa  "
            ]
          },
          "execution_count": 10,
          "metadata": {},
          "output_type": "execute_result"
        }
      ],
      "source": [
        "df[df['Bedrooms'] == '10+']"
      ]
    },
    {
      "cell_type": "markdown",
      "metadata": {
        "id": "GVoILSIQQF8n"
      },
      "source": [
        "There is only 1 row that have the bedrooms and bathroms 10+ so we can drop it with no problem"
      ]
    },
    {
      "cell_type": "code",
      "execution_count": 11,
      "metadata": {
        "id": "4Iv6m1CyQF8n"
      },
      "outputs": [],
      "source": [
        "df.drop(df[df['Bedrooms'] == '10+'].index,inplace=True)"
      ]
    },
    {
      "cell_type": "markdown",
      "metadata": {
        "id": "X70Hs5KJQF8n"
      },
      "source": [
        "now lets try to change them to int and float"
      ]
    },
    {
      "cell_type": "code",
      "execution_count": 12,
      "metadata": {
        "colab": {
          "base_uri": "https://localhost:8080/",
          "height": 304
        },
        "id": "EsDUfS5YQF8n",
        "outputId": "f75e3085-bc2c-4749-976c-2f6702e3baf9"
      },
      "outputs": [
        {
          "ename": "ValueError",
          "evalue": "could not convert string to float: 'Unknown': Error while type casting for column 'Price'",
          "output_type": "error",
          "traceback": [
            "\u001b[1;31m---------------------------------------------------------------------------\u001b[0m",
            "\u001b[1;31mValueError\u001b[0m                                Traceback (most recent call last)",
            "Cell \u001b[1;32mIn[12], line 1\u001b[0m\n\u001b[1;32m----> 1\u001b[0m df \u001b[38;5;241m=\u001b[39m \u001b[43mdf\u001b[49m\u001b[38;5;241;43m.\u001b[39;49m\u001b[43mastype\u001b[49m\u001b[43m(\u001b[49m\u001b[43m{\u001b[49m\u001b[38;5;124;43m'\u001b[39;49m\u001b[38;5;124;43mPrice\u001b[39;49m\u001b[38;5;124;43m'\u001b[39;49m\u001b[43m \u001b[49m\u001b[43m:\u001b[49m\u001b[43m \u001b[49m\u001b[38;5;124;43m'\u001b[39;49m\u001b[38;5;124;43mfloat\u001b[39;49m\u001b[38;5;124;43m'\u001b[39;49m\u001b[43m,\u001b[49m\u001b[43m \u001b[49m\u001b[38;5;124;43m'\u001b[39;49m\u001b[38;5;124;43mBedrooms\u001b[39;49m\u001b[38;5;124;43m'\u001b[39;49m\u001b[43m \u001b[49m\u001b[43m:\u001b[49m\u001b[43m \u001b[49m\u001b[38;5;124;43m'\u001b[39;49m\u001b[38;5;124;43mint\u001b[39;49m\u001b[38;5;124;43m'\u001b[39;49m\u001b[43m \u001b[49m\u001b[43m,\u001b[49m\u001b[43m \u001b[49m\u001b[38;5;124;43m'\u001b[39;49m\u001b[38;5;124;43mBathrooms\u001b[39;49m\u001b[38;5;124;43m'\u001b[39;49m\u001b[43m \u001b[49m\u001b[43m:\u001b[49m\u001b[43m \u001b[49m\u001b[38;5;124;43m'\u001b[39;49m\u001b[38;5;124;43mint\u001b[39;49m\u001b[38;5;124;43m'\u001b[39;49m\u001b[43m \u001b[49m\u001b[43m,\u001b[49m\u001b[43m \u001b[49m\u001b[38;5;124;43m'\u001b[39;49m\u001b[38;5;124;43mArea\u001b[39;49m\u001b[38;5;124;43m'\u001b[39;49m\u001b[43m \u001b[49m\u001b[43m:\u001b[49m\u001b[43m \u001b[49m\u001b[38;5;124;43m'\u001b[39;49m\u001b[38;5;124;43mfloat\u001b[39;49m\u001b[38;5;124;43m'\u001b[39;49m\u001b[43m}\u001b[49m\u001b[43m)\u001b[49m\n\u001b[0;32m      2\u001b[0m df\u001b[38;5;241m.\u001b[39mdtypes\n",
            "File \u001b[1;32mc:\\Users\\user\\AppData\\Local\\Programs\\Python\\Python311\\Lib\\site-packages\\pandas\\core\\generic.py:6620\u001b[0m, in \u001b[0;36mNDFrame.astype\u001b[1;34m(self, dtype, copy, errors)\u001b[0m\n\u001b[0;32m   6618\u001b[0m \u001b[38;5;28;01melse\u001b[39;00m:\n\u001b[0;32m   6619\u001b[0m     \u001b[38;5;28;01mtry\u001b[39;00m:\n\u001b[1;32m-> 6620\u001b[0m         res_col \u001b[38;5;241m=\u001b[39m \u001b[43mcol\u001b[49m\u001b[38;5;241;43m.\u001b[39;49m\u001b[43mastype\u001b[49m\u001b[43m(\u001b[49m\u001b[43mdtype\u001b[49m\u001b[38;5;241;43m=\u001b[39;49m\u001b[43mcdt\u001b[49m\u001b[43m,\u001b[49m\u001b[43m \u001b[49m\u001b[43mcopy\u001b[49m\u001b[38;5;241;43m=\u001b[39;49m\u001b[43mcopy\u001b[49m\u001b[43m,\u001b[49m\u001b[43m \u001b[49m\u001b[43merrors\u001b[49m\u001b[38;5;241;43m=\u001b[39;49m\u001b[43merrors\u001b[49m\u001b[43m)\u001b[49m\n\u001b[0;32m   6621\u001b[0m     \u001b[38;5;28;01mexcept\u001b[39;00m \u001b[38;5;167;01mValueError\u001b[39;00m \u001b[38;5;28;01mas\u001b[39;00m ex:\n\u001b[0;32m   6622\u001b[0m         ex\u001b[38;5;241m.\u001b[39margs \u001b[38;5;241m=\u001b[39m (\n\u001b[0;32m   6623\u001b[0m             \u001b[38;5;124mf\u001b[39m\u001b[38;5;124m\"\u001b[39m\u001b[38;5;132;01m{\u001b[39;00mex\u001b[38;5;132;01m}\u001b[39;00m\u001b[38;5;124m: Error while type casting for column \u001b[39m\u001b[38;5;124m'\u001b[39m\u001b[38;5;132;01m{\u001b[39;00mcol_name\u001b[38;5;132;01m}\u001b[39;00m\u001b[38;5;124m'\u001b[39m\u001b[38;5;124m\"\u001b[39m,\n\u001b[0;32m   6624\u001b[0m         )\n",
            "File \u001b[1;32mc:\\Users\\user\\AppData\\Local\\Programs\\Python\\Python311\\Lib\\site-packages\\pandas\\core\\generic.py:6643\u001b[0m, in \u001b[0;36mNDFrame.astype\u001b[1;34m(self, dtype, copy, errors)\u001b[0m\n\u001b[0;32m   6637\u001b[0m     results \u001b[38;5;241m=\u001b[39m [\n\u001b[0;32m   6638\u001b[0m         ser\u001b[38;5;241m.\u001b[39mastype(dtype, copy\u001b[38;5;241m=\u001b[39mcopy, errors\u001b[38;5;241m=\u001b[39merrors) \u001b[38;5;28;01mfor\u001b[39;00m _, ser \u001b[38;5;129;01min\u001b[39;00m \u001b[38;5;28mself\u001b[39m\u001b[38;5;241m.\u001b[39mitems()\n\u001b[0;32m   6639\u001b[0m     ]\n\u001b[0;32m   6641\u001b[0m \u001b[38;5;28;01melse\u001b[39;00m:\n\u001b[0;32m   6642\u001b[0m     \u001b[38;5;66;03m# else, only a single dtype is given\u001b[39;00m\n\u001b[1;32m-> 6643\u001b[0m     new_data \u001b[38;5;241m=\u001b[39m \u001b[38;5;28;43mself\u001b[39;49m\u001b[38;5;241;43m.\u001b[39;49m\u001b[43m_mgr\u001b[49m\u001b[38;5;241;43m.\u001b[39;49m\u001b[43mastype\u001b[49m\u001b[43m(\u001b[49m\u001b[43mdtype\u001b[49m\u001b[38;5;241;43m=\u001b[39;49m\u001b[43mdtype\u001b[49m\u001b[43m,\u001b[49m\u001b[43m \u001b[49m\u001b[43mcopy\u001b[49m\u001b[38;5;241;43m=\u001b[39;49m\u001b[43mcopy\u001b[49m\u001b[43m,\u001b[49m\u001b[43m \u001b[49m\u001b[43merrors\u001b[49m\u001b[38;5;241;43m=\u001b[39;49m\u001b[43merrors\u001b[49m\u001b[43m)\u001b[49m\n\u001b[0;32m   6644\u001b[0m     res \u001b[38;5;241m=\u001b[39m \u001b[38;5;28mself\u001b[39m\u001b[38;5;241m.\u001b[39m_constructor_from_mgr(new_data, axes\u001b[38;5;241m=\u001b[39mnew_data\u001b[38;5;241m.\u001b[39maxes)\n\u001b[0;32m   6645\u001b[0m     \u001b[38;5;28;01mreturn\u001b[39;00m res\u001b[38;5;241m.\u001b[39m__finalize__(\u001b[38;5;28mself\u001b[39m, method\u001b[38;5;241m=\u001b[39m\u001b[38;5;124m\"\u001b[39m\u001b[38;5;124mastype\u001b[39m\u001b[38;5;124m\"\u001b[39m)\n",
            "File \u001b[1;32mc:\\Users\\user\\AppData\\Local\\Programs\\Python\\Python311\\Lib\\site-packages\\pandas\\core\\internals\\managers.py:430\u001b[0m, in \u001b[0;36mBaseBlockManager.astype\u001b[1;34m(self, dtype, copy, errors)\u001b[0m\n\u001b[0;32m    427\u001b[0m \u001b[38;5;28;01melif\u001b[39;00m using_copy_on_write():\n\u001b[0;32m    428\u001b[0m     copy \u001b[38;5;241m=\u001b[39m \u001b[38;5;28;01mFalse\u001b[39;00m\n\u001b[1;32m--> 430\u001b[0m \u001b[38;5;28;01mreturn\u001b[39;00m \u001b[38;5;28;43mself\u001b[39;49m\u001b[38;5;241;43m.\u001b[39;49m\u001b[43mapply\u001b[49m\u001b[43m(\u001b[49m\n\u001b[0;32m    431\u001b[0m \u001b[43m    \u001b[49m\u001b[38;5;124;43m\"\u001b[39;49m\u001b[38;5;124;43mastype\u001b[39;49m\u001b[38;5;124;43m\"\u001b[39;49m\u001b[43m,\u001b[49m\n\u001b[0;32m    432\u001b[0m \u001b[43m    \u001b[49m\u001b[43mdtype\u001b[49m\u001b[38;5;241;43m=\u001b[39;49m\u001b[43mdtype\u001b[49m\u001b[43m,\u001b[49m\n\u001b[0;32m    433\u001b[0m \u001b[43m    \u001b[49m\u001b[43mcopy\u001b[49m\u001b[38;5;241;43m=\u001b[39;49m\u001b[43mcopy\u001b[49m\u001b[43m,\u001b[49m\n\u001b[0;32m    434\u001b[0m \u001b[43m    \u001b[49m\u001b[43merrors\u001b[49m\u001b[38;5;241;43m=\u001b[39;49m\u001b[43merrors\u001b[49m\u001b[43m,\u001b[49m\n\u001b[0;32m    435\u001b[0m \u001b[43m    \u001b[49m\u001b[43musing_cow\u001b[49m\u001b[38;5;241;43m=\u001b[39;49m\u001b[43musing_copy_on_write\u001b[49m\u001b[43m(\u001b[49m\u001b[43m)\u001b[49m\u001b[43m,\u001b[49m\n\u001b[0;32m    436\u001b[0m \u001b[43m\u001b[49m\u001b[43m)\u001b[49m\n",
            "File \u001b[1;32mc:\\Users\\user\\AppData\\Local\\Programs\\Python\\Python311\\Lib\\site-packages\\pandas\\core\\internals\\managers.py:363\u001b[0m, in \u001b[0;36mBaseBlockManager.apply\u001b[1;34m(self, f, align_keys, **kwargs)\u001b[0m\n\u001b[0;32m    361\u001b[0m         applied \u001b[38;5;241m=\u001b[39m b\u001b[38;5;241m.\u001b[39mapply(f, \u001b[38;5;241m*\u001b[39m\u001b[38;5;241m*\u001b[39mkwargs)\n\u001b[0;32m    362\u001b[0m     \u001b[38;5;28;01melse\u001b[39;00m:\n\u001b[1;32m--> 363\u001b[0m         applied \u001b[38;5;241m=\u001b[39m \u001b[38;5;28;43mgetattr\u001b[39;49m\u001b[43m(\u001b[49m\u001b[43mb\u001b[49m\u001b[43m,\u001b[49m\u001b[43m \u001b[49m\u001b[43mf\u001b[49m\u001b[43m)\u001b[49m\u001b[43m(\u001b[49m\u001b[38;5;241;43m*\u001b[39;49m\u001b[38;5;241;43m*\u001b[39;49m\u001b[43mkwargs\u001b[49m\u001b[43m)\u001b[49m\n\u001b[0;32m    364\u001b[0m     result_blocks \u001b[38;5;241m=\u001b[39m extend_blocks(applied, result_blocks)\n\u001b[0;32m    366\u001b[0m out \u001b[38;5;241m=\u001b[39m \u001b[38;5;28mtype\u001b[39m(\u001b[38;5;28mself\u001b[39m)\u001b[38;5;241m.\u001b[39mfrom_blocks(result_blocks, \u001b[38;5;28mself\u001b[39m\u001b[38;5;241m.\u001b[39maxes)\n",
            "File \u001b[1;32mc:\\Users\\user\\AppData\\Local\\Programs\\Python\\Python311\\Lib\\site-packages\\pandas\\core\\internals\\blocks.py:758\u001b[0m, in \u001b[0;36mBlock.astype\u001b[1;34m(self, dtype, copy, errors, using_cow, squeeze)\u001b[0m\n\u001b[0;32m    755\u001b[0m         \u001b[38;5;28;01mraise\u001b[39;00m \u001b[38;5;167;01mValueError\u001b[39;00m(\u001b[38;5;124m\"\u001b[39m\u001b[38;5;124mCan not squeeze with more than one column.\u001b[39m\u001b[38;5;124m\"\u001b[39m)\n\u001b[0;32m    756\u001b[0m     values \u001b[38;5;241m=\u001b[39m values[\u001b[38;5;241m0\u001b[39m, :]  \u001b[38;5;66;03m# type: ignore[call-overload]\u001b[39;00m\n\u001b[1;32m--> 758\u001b[0m new_values \u001b[38;5;241m=\u001b[39m \u001b[43mastype_array_safe\u001b[49m\u001b[43m(\u001b[49m\u001b[43mvalues\u001b[49m\u001b[43m,\u001b[49m\u001b[43m \u001b[49m\u001b[43mdtype\u001b[49m\u001b[43m,\u001b[49m\u001b[43m \u001b[49m\u001b[43mcopy\u001b[49m\u001b[38;5;241;43m=\u001b[39;49m\u001b[43mcopy\u001b[49m\u001b[43m,\u001b[49m\u001b[43m \u001b[49m\u001b[43merrors\u001b[49m\u001b[38;5;241;43m=\u001b[39;49m\u001b[43merrors\u001b[49m\u001b[43m)\u001b[49m\n\u001b[0;32m    760\u001b[0m new_values \u001b[38;5;241m=\u001b[39m maybe_coerce_values(new_values)\n\u001b[0;32m    762\u001b[0m refs \u001b[38;5;241m=\u001b[39m \u001b[38;5;28;01mNone\u001b[39;00m\n",
            "File \u001b[1;32mc:\\Users\\user\\AppData\\Local\\Programs\\Python\\Python311\\Lib\\site-packages\\pandas\\core\\dtypes\\astype.py:237\u001b[0m, in \u001b[0;36mastype_array_safe\u001b[1;34m(values, dtype, copy, errors)\u001b[0m\n\u001b[0;32m    234\u001b[0m     dtype \u001b[38;5;241m=\u001b[39m dtype\u001b[38;5;241m.\u001b[39mnumpy_dtype\n\u001b[0;32m    236\u001b[0m \u001b[38;5;28;01mtry\u001b[39;00m:\n\u001b[1;32m--> 237\u001b[0m     new_values \u001b[38;5;241m=\u001b[39m \u001b[43mastype_array\u001b[49m\u001b[43m(\u001b[49m\u001b[43mvalues\u001b[49m\u001b[43m,\u001b[49m\u001b[43m \u001b[49m\u001b[43mdtype\u001b[49m\u001b[43m,\u001b[49m\u001b[43m \u001b[49m\u001b[43mcopy\u001b[49m\u001b[38;5;241;43m=\u001b[39;49m\u001b[43mcopy\u001b[49m\u001b[43m)\u001b[49m\n\u001b[0;32m    238\u001b[0m \u001b[38;5;28;01mexcept\u001b[39;00m (\u001b[38;5;167;01mValueError\u001b[39;00m, \u001b[38;5;167;01mTypeError\u001b[39;00m):\n\u001b[0;32m    239\u001b[0m     \u001b[38;5;66;03m# e.g. _astype_nansafe can fail on object-dtype of strings\u001b[39;00m\n\u001b[0;32m    240\u001b[0m     \u001b[38;5;66;03m#  trying to convert to float\u001b[39;00m\n\u001b[0;32m    241\u001b[0m     \u001b[38;5;28;01mif\u001b[39;00m errors \u001b[38;5;241m==\u001b[39m \u001b[38;5;124m\"\u001b[39m\u001b[38;5;124mignore\u001b[39m\u001b[38;5;124m\"\u001b[39m:\n",
            "File \u001b[1;32mc:\\Users\\user\\AppData\\Local\\Programs\\Python\\Python311\\Lib\\site-packages\\pandas\\core\\dtypes\\astype.py:182\u001b[0m, in \u001b[0;36mastype_array\u001b[1;34m(values, dtype, copy)\u001b[0m\n\u001b[0;32m    179\u001b[0m     values \u001b[38;5;241m=\u001b[39m values\u001b[38;5;241m.\u001b[39mastype(dtype, copy\u001b[38;5;241m=\u001b[39mcopy)\n\u001b[0;32m    181\u001b[0m \u001b[38;5;28;01melse\u001b[39;00m:\n\u001b[1;32m--> 182\u001b[0m     values \u001b[38;5;241m=\u001b[39m \u001b[43m_astype_nansafe\u001b[49m\u001b[43m(\u001b[49m\u001b[43mvalues\u001b[49m\u001b[43m,\u001b[49m\u001b[43m \u001b[49m\u001b[43mdtype\u001b[49m\u001b[43m,\u001b[49m\u001b[43m \u001b[49m\u001b[43mcopy\u001b[49m\u001b[38;5;241;43m=\u001b[39;49m\u001b[43mcopy\u001b[49m\u001b[43m)\u001b[49m\n\u001b[0;32m    184\u001b[0m \u001b[38;5;66;03m# in pandas we don't store numpy str dtypes, so convert to object\u001b[39;00m\n\u001b[0;32m    185\u001b[0m \u001b[38;5;28;01mif\u001b[39;00m \u001b[38;5;28misinstance\u001b[39m(dtype, np\u001b[38;5;241m.\u001b[39mdtype) \u001b[38;5;129;01mand\u001b[39;00m \u001b[38;5;28missubclass\u001b[39m(values\u001b[38;5;241m.\u001b[39mdtype\u001b[38;5;241m.\u001b[39mtype, \u001b[38;5;28mstr\u001b[39m):\n",
            "File \u001b[1;32mc:\\Users\\user\\AppData\\Local\\Programs\\Python\\Python311\\Lib\\site-packages\\pandas\\core\\dtypes\\astype.py:133\u001b[0m, in \u001b[0;36m_astype_nansafe\u001b[1;34m(arr, dtype, copy, skipna)\u001b[0m\n\u001b[0;32m    129\u001b[0m     \u001b[38;5;28;01mraise\u001b[39;00m \u001b[38;5;167;01mValueError\u001b[39;00m(msg)\n\u001b[0;32m    131\u001b[0m \u001b[38;5;28;01mif\u001b[39;00m copy \u001b[38;5;129;01mor\u001b[39;00m arr\u001b[38;5;241m.\u001b[39mdtype \u001b[38;5;241m==\u001b[39m \u001b[38;5;28mobject\u001b[39m \u001b[38;5;129;01mor\u001b[39;00m dtype \u001b[38;5;241m==\u001b[39m \u001b[38;5;28mobject\u001b[39m:\n\u001b[0;32m    132\u001b[0m     \u001b[38;5;66;03m# Explicit copy, or required since NumPy can't view from / to object.\u001b[39;00m\n\u001b[1;32m--> 133\u001b[0m     \u001b[38;5;28;01mreturn\u001b[39;00m \u001b[43marr\u001b[49m\u001b[38;5;241;43m.\u001b[39;49m\u001b[43mastype\u001b[49m\u001b[43m(\u001b[49m\u001b[43mdtype\u001b[49m\u001b[43m,\u001b[49m\u001b[43m \u001b[49m\u001b[43mcopy\u001b[49m\u001b[38;5;241;43m=\u001b[39;49m\u001b[38;5;28;43;01mTrue\u001b[39;49;00m\u001b[43m)\u001b[49m\n\u001b[0;32m    135\u001b[0m \u001b[38;5;28;01mreturn\u001b[39;00m arr\u001b[38;5;241m.\u001b[39mastype(dtype, copy\u001b[38;5;241m=\u001b[39mcopy)\n",
            "\u001b[1;31mValueError\u001b[0m: could not convert string to float: 'Unknown': Error while type casting for column 'Price'"
          ]
        }
      ],
      "source": [
        "df = df.astype({'Price' : 'float', 'Bedrooms' : 'int' , 'Bathrooms' : 'int' , 'Area' : 'float'})\n",
        "df.dtypes"
      ]
    },
    {
      "cell_type": "markdown",
      "metadata": {
        "id": "3ZTk3zcqQF8n"
      },
      "source": [
        "as we see there is a problem in the price that it have rows with unknown value so we will drop them as the price is our target"
      ]
    },
    {
      "cell_type": "code",
      "execution_count": 13,
      "metadata": {
        "colab": {
          "base_uri": "https://localhost:8080/"
        },
        "id": "CPU9saTqQF8n",
        "outputId": "259751d6-fb36-43a3-eaa3-77b42a0b824b"
      },
      "outputs": [
        {
          "data": {
            "text/plain": [
              "(26692, 12)"
            ]
          },
          "execution_count": 13,
          "metadata": {},
          "output_type": "execute_result"
        }
      ],
      "source": [
        "df = df[df['Price'] != 'Unknown']\n",
        "df.shape"
      ]
    },
    {
      "cell_type": "markdown",
      "metadata": {
        "id": "EdEoJiMyQF8o"
      },
      "source": [
        "now lets try to change the type again"
      ]
    },
    {
      "cell_type": "code",
      "execution_count": 14,
      "metadata": {
        "colab": {
          "base_uri": "https://localhost:8080/",
          "height": 460
        },
        "id": "zwgd8Nv7QF8o",
        "outputId": "38e9169b-9b16-4b70-ceb6-9013afe5caf3"
      },
      "outputs": [
        {
          "data": {
            "text/plain": [
              "Type               object\n",
              "Price             float64\n",
              "Bedrooms          float64\n",
              "Bathrooms         float64\n",
              "Area              float64\n",
              "Furnished          object\n",
              "Level              object\n",
              "Compound           object\n",
              "Payment_Option     object\n",
              "Delivery_Date      object\n",
              "Delivery_Term      object\n",
              "City               object\n",
              "dtype: object"
            ]
          },
          "execution_count": 14,
          "metadata": {},
          "output_type": "execute_result"
        }
      ],
      "source": [
        "df = df.astype({'Price' : 'float', 'Bedrooms' : 'float' , 'Bathrooms' : 'float' , 'Area' : 'float'})\n",
        "df.dtypes"
      ]
    },
    {
      "cell_type": "markdown",
      "metadata": {
        "id": "KF3C_uNvQF8o"
      },
      "source": [
        "Amazing!! it worked let's continue"
      ]
    },
    {
      "cell_type": "markdown",
      "metadata": {
        "id": "8pz7vVjnQF8o"
      },
      "source": [
        "I am thinking about removing the compound and delivery_term columns but at first let's check if they are correlated to our target"
      ]
    },
    {
      "cell_type": "code",
      "execution_count": 15,
      "metadata": {
        "colab": {
          "base_uri": "https://localhost:8080/"
        },
        "id": "g-PmlkWwQF8o",
        "outputId": "54ed664f-c654-4f85-ed3b-fb5e8035bbf9"
      },
      "outputs": [
        {
          "data": {
            "text/plain": [
              "np.float64(-0.11513106540309359)"
            ]
          },
          "execution_count": 15,
          "metadata": {},
          "output_type": "execute_result"
        }
      ],
      "source": [
        "df['Compound'].astype('category').cat.codes.corr(df['Price'])"
      ]
    },
    {
      "cell_type": "code",
      "execution_count": 16,
      "metadata": {
        "colab": {
          "base_uri": "https://localhost:8080/"
        },
        "id": "F7cCjbn3QF8o",
        "outputId": "0d1467c8-805e-4645-e3c2-030e432f1695"
      },
      "outputs": [
        {
          "data": {
            "text/plain": [
              "np.float64(-0.020522557085531905)"
            ]
          },
          "execution_count": 16,
          "metadata": {},
          "output_type": "execute_result"
        }
      ],
      "source": [
        "df['Delivery_Term'].astype('category').cat.codes.corr(df['Price'])"
      ]
    },
    {
      "cell_type": "markdown",
      "metadata": {
        "id": "Mj-HN7L7QF8p"
      },
      "source": [
        "Since they are not correlated to our target we can drop them"
      ]
    },
    {
      "cell_type": "code",
      "execution_count": 17,
      "metadata": {
        "id": "DoNmh4zUQF8p"
      },
      "outputs": [],
      "source": [
        "df.drop(['Compound','Delivery_Term'],axis='columns',inplace=True)"
      ]
    },
    {
      "cell_type": "markdown",
      "metadata": {
        "id": "TV80JT2kQF8p"
      },
      "source": [
        "Now let's see unique values of other columns in our data"
      ]
    },
    {
      "cell_type": "code",
      "execution_count": 18,
      "metadata": {
        "colab": {
          "base_uri": "https://localhost:8080/"
        },
        "id": "ouyLa7KLQF8p",
        "outputId": "623a268b-3620-45da-c9c3-132d73f6f16d"
      },
      "outputs": [
        {
          "name": "stdout",
          "output_type": "stream",
          "text": [
            "Type : ['Duplex' 'Apartment' 'Penthouse' 'Studio' 'Chalet' 'Standalone Villa'\n",
            " 'Twin house' 'Town House' 'Stand Alone Villa' 'Twin House']\n",
            "Furnished : ['No' 'Unknown' 'Yes']\n",
            "Level : ['7' '10+' '1' '10' 'Ground' 'Highest' '3' '2' '4' '9' '5' '8' '6'\n",
            " 'Unknown']\n",
            "Payment_Option : ['Cash' 'Cash or Installment' 'Unknown Payment' 'Installment']\n",
            "Delivery_Date : ['Ready to move' '2024' 'Unknown' '2023' 'soon' '2025' 'within 6 months'\n",
            " '2022' '2026' '2027']\n",
            "City : ['Nasr City' 'Camp Caesar' 'Smoha' 'New Cairo - El Tagamoa' 'Sheikh Zayed'\n",
            " 'Shorouk City' 'Sidi Beshr' 'Gesr Al Suez' 'Mokattam' 'New Capital City'\n",
            " 'New Damietta' 'Zahraa Al Maadi' '6th of October' 'Mansura'\n",
            " 'New Heliopolis' 'Kafr al-Sheikh City' 'Badr City' 'Sporting' 'Imbaba'\n",
            " 'Gamasa' 'Borg al-Arab' 'Mohandessin' 'Glim' 'Ain Sukhna' 'Abasiya'\n",
            " 'Fleming' 'Maadi' 'Hadayek 6th of October' 'Madinaty' 'Haram'\n",
            " 'Damietta City' 'Ismailia City' '10th of Ramadan' 'Heliopolis'\n",
            " 'Rehab City' 'Dar al-Salaam' 'Hadayek al-Ahram' 'North Coast' 'Nakheel'\n",
            " 'Bacchus' 'Obour City' 'Hurghada' 'Agouza' 'Tanta' 'Tura'\n",
            " 'Faisal District' 'Mandara' 'Helmeyat El Zaytoun' 'Katameya' 'Alamein'\n",
            " 'Qasr al-Nil' 'Miami' 'Hadayek al-Kobba' 'Tersa' 'Mostakbal City' 'Agami'\n",
            " 'Ras al-Bar' 'Port Fouad' 'Salam City' 'Aswan City' 'Helwan' 'Bolkly'\n",
            " '15 May City' 'Maamoura' 'Seyouf' 'Sharq District' 'Ain Shams'\n",
            " 'Sidi Gaber' 'Shubra al-Khaimah' 'Laurent' 'Manakh District'\n",
            " 'Al Ibrahimiyyah' 'Cleopatra' 'Talkha' 'New Nozha' 'New Mansoura'\n",
            " 'Manshiyya' 'Dokki' 'Suez District' 'Sheraton' 'Matareya' 'Faisal'\n",
            " 'Roushdy' 'Al Hadrah' 'Zagazig' 'Moharam Bik' 'San Stefano'\n",
            " 'Bahray - Anfoshy' 'Al Manial' 'Sahl Hasheesh' 'West Somid' 'Gianaclis'\n",
            " 'Asafra' 'Garden City' 'Gouna' 'Zamalek' 'Minya City' 'Shubra'\n",
            " 'Marsa Matrouh' 'Giza District' 'Almazah' 'Saba Pasha' 'Kafr Abdo'\n",
            " 'Asyut City' 'Rod al-Farag' 'Azarita' 'Boulaq' 'Sayeda Zeinab' 'Montazah'\n",
            " 'Zezenia' 'Shatby' 'Markaz Sohag' 'El Fostat' 'Ezbet El Nakhl'\n",
            " 'Downtown Cairo' 'Mahalla al-Kobra' 'Warraq' 'Kit Kat' 'Boulaq Dakrour'\n",
            " 'Mit Ghamr' 'Beni Suef City' 'Maryotaya' 'Schutz' 'Khanka' 'Stanley'\n",
            " 'Zohour District' 'Al Amiriyyah' 'Dhahria' 'Hadayek Helwan' 'Damanhour'\n",
            " 'Amreya' 'Masr al-Kadema' 'Dawahy District' 'Shebin al-Koum' 'Qena City'\n",
            " 'Sharabeya' 'Minya al-Qamh' 'Abu Talat' 'Sharm al-Sheikh' 'Banha'\n",
            " 'Hammam' 'Awayed' 'Gomrok' 'Arab District' 'Manzala' 'New Beni Suef'\n",
            " 'Kafr al-Dawwar' 'Qalyub' 'Raml Station' 'Arbaeen' 'Darb al-Ahmar'\n",
            " 'Abu Qir' 'Quesna' 'Ard El Lewa' 'Safaga' 'Victoria' 'Attarin'\n",
            " 'Saft El Laban' 'El Max' 'Zawya al-Hamra' 'Attaka'\n",
            " 'Ramses + Ramses Extension' 'Khosous' 'Markaz al-Giza' 'Ras Sedr' 'Fayed'\n",
            " 'Dabaa' 'Ganoub District' 'Sadat' 'Aga' '(View phone number)' 'Ataba'\n",
            " 'New Minya' 'Kabbary' 'Qanater al-Khairia' 'Bella' 'Kafr Shukr'\n",
            " 'Abu Rawash']\n"
          ]
        }
      ],
      "source": [
        "for col in df.drop(['Area','Price','Bedrooms','Bathrooms'],axis='columns').columns:\n",
        "    print(f'{col} : {df[col].unique()}')"
      ]
    },
    {
      "cell_type": "markdown",
      "metadata": {
        "id": "dJB7zbilQF8p"
      },
      "source": [
        "## 'Type' column cleaning"
      ]
    },
    {
      "cell_type": "markdown",
      "metadata": {
        "id": "k8hhIqwpQF8q"
      },
      "source": [
        "as we saw not all the data in the same case so lets convert them to lower"
      ]
    },
    {
      "cell_type": "code",
      "execution_count": 19,
      "metadata": {
        "colab": {
          "base_uri": "https://localhost:8080/"
        },
        "id": "1OMMt6bPQF8q",
        "outputId": "2ee2a1f7-4665-4ce4-eb50-98ca38082d7f"
      },
      "outputs": [
        {
          "data": {
            "text/plain": [
              "array(['duplex', 'apartment', 'penthouse', 'studio', 'chalet',\n",
              "       'standalone villa', 'twin house', 'town house',\n",
              "       'stand alone villa'], dtype=object)"
            ]
          },
          "execution_count": 19,
          "metadata": {},
          "output_type": "execute_result"
        }
      ],
      "source": [
        "df['Type'] = df['Type'].apply(lambda x : x.lower())\n",
        "df['Type'].unique()"
      ]
    },
    {
      "cell_type": "markdown",
      "metadata": {
        "id": "U-xWJozHQF8q"
      },
      "source": [
        "we have 'standalone villa' and 'stand alone villa' which are the same type so lets make them in the shape of 'standalone villa'"
      ]
    },
    {
      "cell_type": "code",
      "execution_count": 20,
      "metadata": {
        "colab": {
          "base_uri": "https://localhost:8080/"
        },
        "id": "FP-7jkCbQF8q",
        "outputId": "74b277e0-b9a7-47e4-a636-812ea76ad89d"
      },
      "outputs": [
        {
          "data": {
            "text/plain": [
              "array(['duplex', 'apartment', 'penthouse', 'studio', 'chalet',\n",
              "       'standalone villa', 'twin house', 'town house'], dtype=object)"
            ]
          },
          "execution_count": 20,
          "metadata": {},
          "output_type": "execute_result"
        }
      ],
      "source": [
        "df['Type'] = df['Type'].str.replace('stand alone villa','standalone villa')\n",
        "df['Type'].unique()"
      ]
    },
    {
      "cell_type": "markdown",
      "metadata": {
        "id": "s3cOKYYEQF8q"
      },
      "source": [
        "Now let's see the value counts of this columns"
      ]
    },
    {
      "cell_type": "code",
      "execution_count": 21,
      "metadata": {
        "colab": {
          "base_uri": "https://localhost:8080/",
          "height": 366
        },
        "id": "agbuQYZaQF8r",
        "outputId": "16b42b34-e213-4577-f1e8-91dc8007aacd"
      },
      "outputs": [
        {
          "data": {
            "text/plain": [
              "Type\n",
              "apartment           8498\n",
              "chalet              6589\n",
              "standalone villa    4633\n",
              "town house          3067\n",
              "twin house          2270\n",
              "duplex               860\n",
              "penthouse            526\n",
              "studio               249\n",
              "Name: count, dtype: int64"
            ]
          },
          "execution_count": 21,
          "metadata": {},
          "output_type": "execute_result"
        }
      ],
      "source": [
        "df['Type'].value_counts()"
      ]
    },
    {
      "cell_type": "markdown",
      "metadata": {
        "id": "9L-l0rdPQF8r"
      },
      "source": [
        "Penthouse and studio are small compared to other types and also in egypt we don't have much of these houses types so lets drop them"
      ]
    },
    {
      "cell_type": "code",
      "execution_count": 22,
      "metadata": {
        "id": "Q41MXdhvQF8r"
      },
      "outputs": [],
      "source": [
        "df.drop(df[(df['Type'] == 'penthouse')|(df['Type'] == 'studio')].index,inplace=True)"
      ]
    },
    {
      "cell_type": "code",
      "execution_count": 23,
      "metadata": {
        "colab": {
          "base_uri": "https://localhost:8080/",
          "height": 303
        },
        "id": "uo9r7kSgQF8w",
        "outputId": "4003e867-e9c3-4c0e-9894-a3b6242467c1"
      },
      "outputs": [
        {
          "data": {
            "text/plain": [
              "Type\n",
              "apartment           8498\n",
              "chalet              6589\n",
              "standalone villa    4633\n",
              "town house          3067\n",
              "twin house          2270\n",
              "duplex               860\n",
              "Name: count, dtype: int64"
            ]
          },
          "execution_count": 23,
          "metadata": {},
          "output_type": "execute_result"
        }
      ],
      "source": [
        "df['Type'].value_counts()"
      ]
    },
    {
      "cell_type": "markdown",
      "metadata": {
        "id": "GUOzqs1oQF8w"
      },
      "source": [
        "## 'Level' column cleaning"
      ]
    },
    {
      "cell_type": "code",
      "execution_count": 24,
      "metadata": {
        "colab": {
          "base_uri": "https://localhost:8080/"
        },
        "id": "enXMouBQQF8w",
        "outputId": "d8ab03c6-1c20-4261-f551-cecaa92c6f1c"
      },
      "outputs": [
        {
          "data": {
            "text/plain": [
              "array(['7', '10+', '1', '10', 'Ground', 'Highest', '3', '2', '9', '4',\n",
              "       '5', '8', '6', 'Unknown'], dtype=object)"
            ]
          },
          "execution_count": 24,
          "metadata": {},
          "output_type": "execute_result"
        }
      ],
      "source": [
        "df.Level.unique()"
      ]
    },
    {
      "cell_type": "markdown",
      "metadata": {
        "id": "q2wqe0hVQF8w"
      },
      "source": [
        "At first lets see the unknown levels"
      ]
    },
    {
      "cell_type": "code",
      "execution_count": 25,
      "metadata": {
        "colab": {
          "base_uri": "https://localhost:8080/",
          "height": 423
        },
        "id": "HGt3QIv-QF8w",
        "outputId": "cc79dea5-60c2-4cf3-9c15-63d05d9a7975"
      },
      "outputs": [
        {
          "data": {
            "text/html": [
              "<div>\n",
              "<style scoped>\n",
              "    .dataframe tbody tr th:only-of-type {\n",
              "        vertical-align: middle;\n",
              "    }\n",
              "\n",
              "    .dataframe tbody tr th {\n",
              "        vertical-align: top;\n",
              "    }\n",
              "\n",
              "    .dataframe thead th {\n",
              "        text-align: right;\n",
              "    }\n",
              "</style>\n",
              "<table border=\"1\" class=\"dataframe\">\n",
              "  <thead>\n",
              "    <tr style=\"text-align: right;\">\n",
              "      <th></th>\n",
              "      <th>Type</th>\n",
              "      <th>Price</th>\n",
              "      <th>Bedrooms</th>\n",
              "      <th>Bathrooms</th>\n",
              "      <th>Area</th>\n",
              "      <th>Furnished</th>\n",
              "      <th>Level</th>\n",
              "      <th>Payment_Option</th>\n",
              "      <th>Delivery_Date</th>\n",
              "      <th>City</th>\n",
              "    </tr>\n",
              "  </thead>\n",
              "  <tbody>\n",
              "    <tr>\n",
              "      <th>9585</th>\n",
              "      <td>chalet</td>\n",
              "      <td>110000.0</td>\n",
              "      <td>2.0</td>\n",
              "      <td>1.0</td>\n",
              "      <td>58.0</td>\n",
              "      <td>Unknown</td>\n",
              "      <td>Unknown</td>\n",
              "      <td>Cash or Installment</td>\n",
              "      <td>Unknown</td>\n",
              "      <td>Alamein</td>\n",
              "    </tr>\n",
              "    <tr>\n",
              "      <th>9587</th>\n",
              "      <td>chalet</td>\n",
              "      <td>2800000.0</td>\n",
              "      <td>2.0</td>\n",
              "      <td>2.0</td>\n",
              "      <td>115.0</td>\n",
              "      <td>Unknown</td>\n",
              "      <td>Unknown</td>\n",
              "      <td>Cash or Installment</td>\n",
              "      <td>Unknown</td>\n",
              "      <td>North Coast</td>\n",
              "    </tr>\n",
              "    <tr>\n",
              "      <th>9589</th>\n",
              "      <td>chalet</td>\n",
              "      <td>1552000.0</td>\n",
              "      <td>3.0</td>\n",
              "      <td>3.0</td>\n",
              "      <td>115.0</td>\n",
              "      <td>No</td>\n",
              "      <td>Unknown</td>\n",
              "      <td>Cash or Installment</td>\n",
              "      <td>Unknown</td>\n",
              "      <td>North Coast</td>\n",
              "    </tr>\n",
              "    <tr>\n",
              "      <th>9594</th>\n",
              "      <td>chalet</td>\n",
              "      <td>14000000.0</td>\n",
              "      <td>3.0</td>\n",
              "      <td>3.0</td>\n",
              "      <td>145.0</td>\n",
              "      <td>Unknown</td>\n",
              "      <td>Unknown</td>\n",
              "      <td>Cash</td>\n",
              "      <td>Unknown</td>\n",
              "      <td>North Coast</td>\n",
              "    </tr>\n",
              "    <tr>\n",
              "      <th>9596</th>\n",
              "      <td>standalone villa</td>\n",
              "      <td>30750000.0</td>\n",
              "      <td>4.0</td>\n",
              "      <td>4.0</td>\n",
              "      <td>462.0</td>\n",
              "      <td>Unknown</td>\n",
              "      <td>Unknown</td>\n",
              "      <td>Unknown Payment</td>\n",
              "      <td>Ready to move</td>\n",
              "      <td>Marsa Matrouh</td>\n",
              "    </tr>\n",
              "    <tr>\n",
              "      <th>...</th>\n",
              "      <td>...</td>\n",
              "      <td>...</td>\n",
              "      <td>...</td>\n",
              "      <td>...</td>\n",
              "      <td>...</td>\n",
              "      <td>...</td>\n",
              "      <td>...</td>\n",
              "      <td>...</td>\n",
              "      <td>...</td>\n",
              "      <td>...</td>\n",
              "    </tr>\n",
              "    <tr>\n",
              "      <th>27355</th>\n",
              "      <td>standalone villa</td>\n",
              "      <td>4800000.0</td>\n",
              "      <td>4.0</td>\n",
              "      <td>3.0</td>\n",
              "      <td>165.0</td>\n",
              "      <td>Unknown</td>\n",
              "      <td>Unknown</td>\n",
              "      <td>Cash or Installment</td>\n",
              "      <td>Unknown</td>\n",
              "      <td>New Cairo - El Tagamoa</td>\n",
              "    </tr>\n",
              "    <tr>\n",
              "      <th>27356</th>\n",
              "      <td>town house</td>\n",
              "      <td>890000.0</td>\n",
              "      <td>3.0</td>\n",
              "      <td>2.0</td>\n",
              "      <td>240.0</td>\n",
              "      <td>Unknown</td>\n",
              "      <td>Unknown</td>\n",
              "      <td>Unknown Payment</td>\n",
              "      <td>Unknown</td>\n",
              "      <td>North Coast</td>\n",
              "    </tr>\n",
              "    <tr>\n",
              "      <th>27357</th>\n",
              "      <td>town house</td>\n",
              "      <td>4000000.0</td>\n",
              "      <td>4.0</td>\n",
              "      <td>3.0</td>\n",
              "      <td>218.0</td>\n",
              "      <td>Unknown</td>\n",
              "      <td>Unknown</td>\n",
              "      <td>Cash or Installment</td>\n",
              "      <td>Unknown</td>\n",
              "      <td>New Cairo - El Tagamoa</td>\n",
              "    </tr>\n",
              "    <tr>\n",
              "      <th>27358</th>\n",
              "      <td>twin house</td>\n",
              "      <td>13800000.0</td>\n",
              "      <td>3.0</td>\n",
              "      <td>4.0</td>\n",
              "      <td>308.0</td>\n",
              "      <td>No</td>\n",
              "      <td>Unknown</td>\n",
              "      <td>Cash</td>\n",
              "      <td>Ready to move</td>\n",
              "      <td>New Cairo - El Tagamoa</td>\n",
              "    </tr>\n",
              "    <tr>\n",
              "      <th>27359</th>\n",
              "      <td>standalone villa</td>\n",
              "      <td>35000000.0</td>\n",
              "      <td>4.0</td>\n",
              "      <td>4.0</td>\n",
              "      <td>478.0</td>\n",
              "      <td>Unknown</td>\n",
              "      <td>Unknown</td>\n",
              "      <td>Unknown Payment</td>\n",
              "      <td>Unknown</td>\n",
              "      <td>Mokattam</td>\n",
              "    </tr>\n",
              "  </tbody>\n",
              "</table>\n",
              "<p>9758 rows × 10 columns</p>\n",
              "</div>"
            ],
            "text/plain": [
              "                   Type       Price  Bedrooms  Bathrooms   Area Furnished  \\\n",
              "9585             chalet    110000.0       2.0        1.0   58.0   Unknown   \n",
              "9587             chalet   2800000.0       2.0        2.0  115.0   Unknown   \n",
              "9589             chalet   1552000.0       3.0        3.0  115.0        No   \n",
              "9594             chalet  14000000.0       3.0        3.0  145.0   Unknown   \n",
              "9596   standalone villa  30750000.0       4.0        4.0  462.0   Unknown   \n",
              "...                 ...         ...       ...        ...    ...       ...   \n",
              "27355  standalone villa   4800000.0       4.0        3.0  165.0   Unknown   \n",
              "27356        town house    890000.0       3.0        2.0  240.0   Unknown   \n",
              "27357        town house   4000000.0       4.0        3.0  218.0   Unknown   \n",
              "27358        twin house  13800000.0       3.0        4.0  308.0        No   \n",
              "27359  standalone villa  35000000.0       4.0        4.0  478.0   Unknown   \n",
              "\n",
              "         Level       Payment_Option  Delivery_Date                    City  \n",
              "9585   Unknown  Cash or Installment        Unknown                 Alamein  \n",
              "9587   Unknown  Cash or Installment        Unknown             North Coast  \n",
              "9589   Unknown  Cash or Installment        Unknown             North Coast  \n",
              "9594   Unknown                 Cash        Unknown             North Coast  \n",
              "9596   Unknown      Unknown Payment  Ready to move           Marsa Matrouh  \n",
              "...        ...                  ...            ...                     ...  \n",
              "27355  Unknown  Cash or Installment        Unknown  New Cairo - El Tagamoa  \n",
              "27356  Unknown      Unknown Payment        Unknown             North Coast  \n",
              "27357  Unknown  Cash or Installment        Unknown  New Cairo - El Tagamoa  \n",
              "27358  Unknown                 Cash  Ready to move  New Cairo - El Tagamoa  \n",
              "27359  Unknown      Unknown Payment        Unknown                Mokattam  \n",
              "\n",
              "[9758 rows x 10 columns]"
            ]
          },
          "execution_count": 25,
          "metadata": {},
          "output_type": "execute_result"
        }
      ],
      "source": [
        "df[df['Level'] == 'Unknown']"
      ]
    },
    {
      "cell_type": "code",
      "execution_count": 26,
      "metadata": {
        "colab": {
          "base_uri": "https://localhost:8080/",
          "height": 53
        },
        "id": "ye-Tncf7QF8w",
        "outputId": "b8e62b7c-230f-410f-ba62-2c57f90816e5"
      },
      "outputs": [
        {
          "data": {
            "text/html": [
              "<div>\n",
              "<style scoped>\n",
              "    .dataframe tbody tr th:only-of-type {\n",
              "        vertical-align: middle;\n",
              "    }\n",
              "\n",
              "    .dataframe tbody tr th {\n",
              "        vertical-align: top;\n",
              "    }\n",
              "\n",
              "    .dataframe thead th {\n",
              "        text-align: right;\n",
              "    }\n",
              "</style>\n",
              "<table border=\"1\" class=\"dataframe\">\n",
              "  <thead>\n",
              "    <tr style=\"text-align: right;\">\n",
              "      <th></th>\n",
              "      <th>Type</th>\n",
              "      <th>Price</th>\n",
              "      <th>Bedrooms</th>\n",
              "      <th>Bathrooms</th>\n",
              "      <th>Area</th>\n",
              "      <th>Furnished</th>\n",
              "      <th>Level</th>\n",
              "      <th>Payment_Option</th>\n",
              "      <th>Delivery_Date</th>\n",
              "      <th>City</th>\n",
              "    </tr>\n",
              "  </thead>\n",
              "  <tbody>\n",
              "  </tbody>\n",
              "</table>\n",
              "</div>"
            ],
            "text/plain": [
              "Empty DataFrame\n",
              "Columns: [Type, Price, Bedrooms, Bathrooms, Area, Furnished, Level, Payment_Option, Delivery_Date, City]\n",
              "Index: []"
            ]
          },
          "execution_count": 26,
          "metadata": {},
          "output_type": "execute_result"
        }
      ],
      "source": [
        "df[(df['Level'] == 'Unknown') & (df['Type'] == 'apartment')]"
      ]
    },
    {
      "cell_type": "markdown",
      "metadata": {
        "id": "d22BGe2oQF8x"
      },
      "source": [
        "we don't have apartments with unknow level and it is pretty good but we have chalets with unknown levels so lets drop them"
      ]
    },
    {
      "cell_type": "code",
      "execution_count": 27,
      "metadata": {
        "id": "G5ADYRjXQF8x"
      },
      "outputs": [],
      "source": [
        "df.drop(df[(df['Level'] == 'Unknown') & (df['Type'] == 'chalet')].index,inplace=True)"
      ]
    },
    {
      "cell_type": "markdown",
      "metadata": {
        "id": "yJfNQWk9QF8x"
      },
      "source": [
        "For villas and houses that actually don't have level lets assign special value to them like -1"
      ]
    },
    {
      "cell_type": "code",
      "execution_count": 28,
      "metadata": {
        "id": "xTZdrOhTQF8x"
      },
      "outputs": [],
      "source": [
        "for type in df.Type.unique():\n",
        "    if type not in ['duplex','apartment','chalet']:\n",
        "        df.loc[df['Type'] == type, 'Level'] = '-1'"
      ]
    },
    {
      "cell_type": "code",
      "execution_count": 29,
      "metadata": {
        "colab": {
          "base_uri": "https://localhost:8080/",
          "height": 206
        },
        "id": "fp_r2MO3QF8y",
        "outputId": "59182091-04f0-4923-b386-3b89687e5e12"
      },
      "outputs": [
        {
          "data": {
            "text/html": [
              "<div>\n",
              "<style scoped>\n",
              "    .dataframe tbody tr th:only-of-type {\n",
              "        vertical-align: middle;\n",
              "    }\n",
              "\n",
              "    .dataframe tbody tr th {\n",
              "        vertical-align: top;\n",
              "    }\n",
              "\n",
              "    .dataframe thead th {\n",
              "        text-align: right;\n",
              "    }\n",
              "</style>\n",
              "<table border=\"1\" class=\"dataframe\">\n",
              "  <thead>\n",
              "    <tr style=\"text-align: right;\">\n",
              "      <th></th>\n",
              "      <th>Type</th>\n",
              "      <th>Price</th>\n",
              "      <th>Bedrooms</th>\n",
              "      <th>Bathrooms</th>\n",
              "      <th>Area</th>\n",
              "      <th>Furnished</th>\n",
              "      <th>Level</th>\n",
              "      <th>Payment_Option</th>\n",
              "      <th>Delivery_Date</th>\n",
              "      <th>City</th>\n",
              "    </tr>\n",
              "  </thead>\n",
              "  <tbody>\n",
              "    <tr>\n",
              "      <th>18893</th>\n",
              "      <td>town house</td>\n",
              "      <td>590000.0</td>\n",
              "      <td>4.0</td>\n",
              "      <td>4.0</td>\n",
              "      <td>275.0</td>\n",
              "      <td>No</td>\n",
              "      <td>-1</td>\n",
              "      <td>Cash or Installment</td>\n",
              "      <td>Ready to move</td>\n",
              "      <td>New Cairo - El Tagamoa</td>\n",
              "    </tr>\n",
              "    <tr>\n",
              "      <th>5506</th>\n",
              "      <td>apartment</td>\n",
              "      <td>1500000.0</td>\n",
              "      <td>3.0</td>\n",
              "      <td>2.0</td>\n",
              "      <td>160.0</td>\n",
              "      <td>No</td>\n",
              "      <td>2</td>\n",
              "      <td>Cash or Installment</td>\n",
              "      <td>Unknown</td>\n",
              "      <td>Zahraa Al Maadi</td>\n",
              "    </tr>\n",
              "    <tr>\n",
              "      <th>27352</th>\n",
              "      <td>twin house</td>\n",
              "      <td>12284000.0</td>\n",
              "      <td>4.0</td>\n",
              "      <td>4.0</td>\n",
              "      <td>337.0</td>\n",
              "      <td>No</td>\n",
              "      <td>-1</td>\n",
              "      <td>Cash or Installment</td>\n",
              "      <td>Ready to move</td>\n",
              "      <td>Sheikh Zayed</td>\n",
              "    </tr>\n",
              "    <tr>\n",
              "      <th>11058</th>\n",
              "      <td>chalet</td>\n",
              "      <td>1850000.0</td>\n",
              "      <td>2.0</td>\n",
              "      <td>1.0</td>\n",
              "      <td>67.0</td>\n",
              "      <td>No</td>\n",
              "      <td>1</td>\n",
              "      <td>Cash or Installment</td>\n",
              "      <td>Unknown</td>\n",
              "      <td>North Coast</td>\n",
              "    </tr>\n",
              "    <tr>\n",
              "      <th>11570</th>\n",
              "      <td>chalet</td>\n",
              "      <td>330000.0</td>\n",
              "      <td>3.0</td>\n",
              "      <td>2.0</td>\n",
              "      <td>125.0</td>\n",
              "      <td>Unknown</td>\n",
              "      <td>1</td>\n",
              "      <td>Cash or Installment</td>\n",
              "      <td>Unknown</td>\n",
              "      <td>North Coast</td>\n",
              "    </tr>\n",
              "  </tbody>\n",
              "</table>\n",
              "</div>"
            ],
            "text/plain": [
              "             Type       Price  Bedrooms  Bathrooms   Area Furnished Level  \\\n",
              "18893  town house    590000.0       4.0        4.0  275.0        No    -1   \n",
              "5506    apartment   1500000.0       3.0        2.0  160.0        No     2   \n",
              "27352  twin house  12284000.0       4.0        4.0  337.0        No    -1   \n",
              "11058      chalet   1850000.0       2.0        1.0   67.0        No     1   \n",
              "11570      chalet    330000.0       3.0        2.0  125.0   Unknown     1   \n",
              "\n",
              "            Payment_Option  Delivery_Date                    City  \n",
              "18893  Cash or Installment  Ready to move  New Cairo - El Tagamoa  \n",
              "5506   Cash or Installment        Unknown         Zahraa Al Maadi  \n",
              "27352  Cash or Installment  Ready to move            Sheikh Zayed  \n",
              "11058  Cash or Installment        Unknown             North Coast  \n",
              "11570  Cash or Installment        Unknown             North Coast  "
            ]
          },
          "execution_count": 29,
          "metadata": {},
          "output_type": "execute_result"
        }
      ],
      "source": [
        "df.sample(5)"
      ]
    },
    {
      "cell_type": "code",
      "execution_count": 30,
      "metadata": {
        "colab": {
          "base_uri": "https://localhost:8080/",
          "height": 739
        },
        "id": "2pHSESUTQF8y",
        "outputId": "4fb5c138-2696-429f-c178-f499c7d740b0"
      },
      "outputs": [
        {
          "data": {
            "text/html": [
              "<div>\n",
              "<style scoped>\n",
              "    .dataframe tbody tr th:only-of-type {\n",
              "        vertical-align: middle;\n",
              "    }\n",
              "\n",
              "    .dataframe tbody tr th {\n",
              "        vertical-align: top;\n",
              "    }\n",
              "\n",
              "    .dataframe thead th {\n",
              "        text-align: right;\n",
              "    }\n",
              "</style>\n",
              "<table border=\"1\" class=\"dataframe\">\n",
              "  <thead>\n",
              "    <tr style=\"text-align: right;\">\n",
              "      <th></th>\n",
              "      <th>Type</th>\n",
              "      <th>Price</th>\n",
              "      <th>Bedrooms</th>\n",
              "      <th>Bathrooms</th>\n",
              "      <th>Area</th>\n",
              "      <th>Furnished</th>\n",
              "      <th>Level</th>\n",
              "      <th>Payment_Option</th>\n",
              "      <th>Delivery_Date</th>\n",
              "      <th>City</th>\n",
              "    </tr>\n",
              "  </thead>\n",
              "  <tbody>\n",
              "    <tr>\n",
              "      <th>9884</th>\n",
              "      <td>duplex</td>\n",
              "      <td>2800000.0</td>\n",
              "      <td>3.0</td>\n",
              "      <td>3.0</td>\n",
              "      <td>137.0</td>\n",
              "      <td>No</td>\n",
              "      <td>Unknown</td>\n",
              "      <td>Installment</td>\n",
              "      <td>Unknown</td>\n",
              "      <td>North Coast</td>\n",
              "    </tr>\n",
              "    <tr>\n",
              "      <th>12082</th>\n",
              "      <td>duplex</td>\n",
              "      <td>1100000.0</td>\n",
              "      <td>3.0</td>\n",
              "      <td>2.0</td>\n",
              "      <td>120.0</td>\n",
              "      <td>Yes</td>\n",
              "      <td>Unknown</td>\n",
              "      <td>Cash or Installment</td>\n",
              "      <td>Unknown</td>\n",
              "      <td>Ain Sukhna</td>\n",
              "    </tr>\n",
              "    <tr>\n",
              "      <th>12291</th>\n",
              "      <td>duplex</td>\n",
              "      <td>2800000.0</td>\n",
              "      <td>3.0</td>\n",
              "      <td>3.0</td>\n",
              "      <td>137.0</td>\n",
              "      <td>No</td>\n",
              "      <td>Unknown</td>\n",
              "      <td>Installment</td>\n",
              "      <td>Unknown</td>\n",
              "      <td>North Coast</td>\n",
              "    </tr>\n",
              "    <tr>\n",
              "      <th>12356</th>\n",
              "      <td>duplex</td>\n",
              "      <td>4800000.0</td>\n",
              "      <td>3.0</td>\n",
              "      <td>3.0</td>\n",
              "      <td>192.0</td>\n",
              "      <td>No</td>\n",
              "      <td>Unknown</td>\n",
              "      <td>Installment</td>\n",
              "      <td>Unknown</td>\n",
              "      <td>North Coast</td>\n",
              "    </tr>\n",
              "    <tr>\n",
              "      <th>12357</th>\n",
              "      <td>duplex</td>\n",
              "      <td>5100000.0</td>\n",
              "      <td>3.0</td>\n",
              "      <td>3.0</td>\n",
              "      <td>194.0</td>\n",
              "      <td>No</td>\n",
              "      <td>Unknown</td>\n",
              "      <td>Installment</td>\n",
              "      <td>Unknown</td>\n",
              "      <td>North Coast</td>\n",
              "    </tr>\n",
              "    <tr>\n",
              "      <th>12501</th>\n",
              "      <td>duplex</td>\n",
              "      <td>5200000.0</td>\n",
              "      <td>3.0</td>\n",
              "      <td>3.0</td>\n",
              "      <td>180.0</td>\n",
              "      <td>Yes</td>\n",
              "      <td>Unknown</td>\n",
              "      <td>Unknown Payment</td>\n",
              "      <td>Unknown</td>\n",
              "      <td>North Coast</td>\n",
              "    </tr>\n",
              "    <tr>\n",
              "      <th>12775</th>\n",
              "      <td>duplex</td>\n",
              "      <td>1700000.0</td>\n",
              "      <td>2.0</td>\n",
              "      <td>2.0</td>\n",
              "      <td>100.0</td>\n",
              "      <td>Unknown</td>\n",
              "      <td>Unknown</td>\n",
              "      <td>Unknown Payment</td>\n",
              "      <td>Unknown</td>\n",
              "      <td>North Coast</td>\n",
              "    </tr>\n",
              "    <tr>\n",
              "      <th>12902</th>\n",
              "      <td>duplex</td>\n",
              "      <td>255000.0</td>\n",
              "      <td>4.0</td>\n",
              "      <td>3.0</td>\n",
              "      <td>187.0</td>\n",
              "      <td>Unknown</td>\n",
              "      <td>Unknown</td>\n",
              "      <td>Unknown Payment</td>\n",
              "      <td>Unknown</td>\n",
              "      <td>North Coast</td>\n",
              "    </tr>\n",
              "    <tr>\n",
              "      <th>13209</th>\n",
              "      <td>duplex</td>\n",
              "      <td>2636000.0</td>\n",
              "      <td>3.0</td>\n",
              "      <td>2.0</td>\n",
              "      <td>140.0</td>\n",
              "      <td>Unknown</td>\n",
              "      <td>Unknown</td>\n",
              "      <td>Cash or Installment</td>\n",
              "      <td>Unknown</td>\n",
              "      <td>North Coast</td>\n",
              "    </tr>\n",
              "    <tr>\n",
              "      <th>14498</th>\n",
              "      <td>duplex</td>\n",
              "      <td>4800000.0</td>\n",
              "      <td>3.0</td>\n",
              "      <td>3.0</td>\n",
              "      <td>192.0</td>\n",
              "      <td>No</td>\n",
              "      <td>Unknown</td>\n",
              "      <td>Installment</td>\n",
              "      <td>2026</td>\n",
              "      <td>North Coast</td>\n",
              "    </tr>\n",
              "    <tr>\n",
              "      <th>15126</th>\n",
              "      <td>duplex</td>\n",
              "      <td>4600000.0</td>\n",
              "      <td>4.0</td>\n",
              "      <td>3.0</td>\n",
              "      <td>146.0</td>\n",
              "      <td>Unknown</td>\n",
              "      <td>Unknown</td>\n",
              "      <td>Cash or Installment</td>\n",
              "      <td>Unknown</td>\n",
              "      <td>North Coast</td>\n",
              "    </tr>\n",
              "    <tr>\n",
              "      <th>15249</th>\n",
              "      <td>duplex</td>\n",
              "      <td>2800000.0</td>\n",
              "      <td>3.0</td>\n",
              "      <td>2.0</td>\n",
              "      <td>137.0</td>\n",
              "      <td>No</td>\n",
              "      <td>Unknown</td>\n",
              "      <td>Installment</td>\n",
              "      <td>Unknown</td>\n",
              "      <td>North Coast</td>\n",
              "    </tr>\n",
              "    <tr>\n",
              "      <th>16174</th>\n",
              "      <td>duplex</td>\n",
              "      <td>4800000.0</td>\n",
              "      <td>4.0</td>\n",
              "      <td>3.0</td>\n",
              "      <td>270.0</td>\n",
              "      <td>Yes</td>\n",
              "      <td>Unknown</td>\n",
              "      <td>Cash</td>\n",
              "      <td>Ready to move</td>\n",
              "      <td>North Coast</td>\n",
              "    </tr>\n",
              "    <tr>\n",
              "      <th>16220</th>\n",
              "      <td>duplex</td>\n",
              "      <td>481000.0</td>\n",
              "      <td>4.0</td>\n",
              "      <td>3.0</td>\n",
              "      <td>155.0</td>\n",
              "      <td>Unknown</td>\n",
              "      <td>Unknown</td>\n",
              "      <td>Cash or Installment</td>\n",
              "      <td>Unknown</td>\n",
              "      <td>Ain Sukhna</td>\n",
              "    </tr>\n",
              "    <tr>\n",
              "      <th>16262</th>\n",
              "      <td>duplex</td>\n",
              "      <td>590000.0</td>\n",
              "      <td>3.0</td>\n",
              "      <td>2.0</td>\n",
              "      <td>155.0</td>\n",
              "      <td>Unknown</td>\n",
              "      <td>Unknown</td>\n",
              "      <td>Unknown Payment</td>\n",
              "      <td>Unknown</td>\n",
              "      <td>Ain Sukhna</td>\n",
              "    </tr>\n",
              "    <tr>\n",
              "      <th>16536</th>\n",
              "      <td>duplex</td>\n",
              "      <td>7500000.0</td>\n",
              "      <td>4.0</td>\n",
              "      <td>3.0</td>\n",
              "      <td>300.0</td>\n",
              "      <td>Yes</td>\n",
              "      <td>Unknown</td>\n",
              "      <td>Cash</td>\n",
              "      <td>Ready to move</td>\n",
              "      <td>North Coast</td>\n",
              "    </tr>\n",
              "    <tr>\n",
              "      <th>16554</th>\n",
              "      <td>duplex</td>\n",
              "      <td>725200.0</td>\n",
              "      <td>4.0</td>\n",
              "      <td>3.0</td>\n",
              "      <td>185.0</td>\n",
              "      <td>Yes</td>\n",
              "      <td>Unknown</td>\n",
              "      <td>Cash or Installment</td>\n",
              "      <td>Unknown</td>\n",
              "      <td>North Coast</td>\n",
              "    </tr>\n",
              "    <tr>\n",
              "      <th>16817</th>\n",
              "      <td>duplex</td>\n",
              "      <td>295000.0</td>\n",
              "      <td>2.0</td>\n",
              "      <td>2.0</td>\n",
              "      <td>127.0</td>\n",
              "      <td>Unknown</td>\n",
              "      <td>Unknown</td>\n",
              "      <td>Unknown Payment</td>\n",
              "      <td>Unknown</td>\n",
              "      <td>North Coast</td>\n",
              "    </tr>\n",
              "    <tr>\n",
              "      <th>16886</th>\n",
              "      <td>duplex</td>\n",
              "      <td>370000.0</td>\n",
              "      <td>3.0</td>\n",
              "      <td>2.0</td>\n",
              "      <td>158.0</td>\n",
              "      <td>Unknown</td>\n",
              "      <td>Unknown</td>\n",
              "      <td>Unknown Payment</td>\n",
              "      <td>Unknown</td>\n",
              "      <td>North Coast</td>\n",
              "    </tr>\n",
              "    <tr>\n",
              "      <th>17683</th>\n",
              "      <td>duplex</td>\n",
              "      <td>1059870.0</td>\n",
              "      <td>4.0</td>\n",
              "      <td>4.0</td>\n",
              "      <td>256.0</td>\n",
              "      <td>Unknown</td>\n",
              "      <td>Unknown</td>\n",
              "      <td>Unknown Payment</td>\n",
              "      <td>soon</td>\n",
              "      <td>North Coast</td>\n",
              "    </tr>\n",
              "    <tr>\n",
              "      <th>18039</th>\n",
              "      <td>duplex</td>\n",
              "      <td>560000.0</td>\n",
              "      <td>3.0</td>\n",
              "      <td>3.0</td>\n",
              "      <td>185.0</td>\n",
              "      <td>Unknown</td>\n",
              "      <td>Unknown</td>\n",
              "      <td>Unknown Payment</td>\n",
              "      <td>Unknown</td>\n",
              "      <td>North Coast</td>\n",
              "    </tr>\n",
              "    <tr>\n",
              "      <th>18384</th>\n",
              "      <td>duplex</td>\n",
              "      <td>440000.0</td>\n",
              "      <td>2.0</td>\n",
              "      <td>2.0</td>\n",
              "      <td>100.0</td>\n",
              "      <td>Yes</td>\n",
              "      <td>Unknown</td>\n",
              "      <td>Cash</td>\n",
              "      <td>Unknown</td>\n",
              "      <td>Ras Sedr</td>\n",
              "    </tr>\n",
              "  </tbody>\n",
              "</table>\n",
              "</div>"
            ],
            "text/plain": [
              "         Type      Price  Bedrooms  Bathrooms   Area Furnished    Level  \\\n",
              "9884   duplex  2800000.0       3.0        3.0  137.0        No  Unknown   \n",
              "12082  duplex  1100000.0       3.0        2.0  120.0       Yes  Unknown   \n",
              "12291  duplex  2800000.0       3.0        3.0  137.0        No  Unknown   \n",
              "12356  duplex  4800000.0       3.0        3.0  192.0        No  Unknown   \n",
              "12357  duplex  5100000.0       3.0        3.0  194.0        No  Unknown   \n",
              "12501  duplex  5200000.0       3.0        3.0  180.0       Yes  Unknown   \n",
              "12775  duplex  1700000.0       2.0        2.0  100.0   Unknown  Unknown   \n",
              "12902  duplex   255000.0       4.0        3.0  187.0   Unknown  Unknown   \n",
              "13209  duplex  2636000.0       3.0        2.0  140.0   Unknown  Unknown   \n",
              "14498  duplex  4800000.0       3.0        3.0  192.0        No  Unknown   \n",
              "15126  duplex  4600000.0       4.0        3.0  146.0   Unknown  Unknown   \n",
              "15249  duplex  2800000.0       3.0        2.0  137.0        No  Unknown   \n",
              "16174  duplex  4800000.0       4.0        3.0  270.0       Yes  Unknown   \n",
              "16220  duplex   481000.0       4.0        3.0  155.0   Unknown  Unknown   \n",
              "16262  duplex   590000.0       3.0        2.0  155.0   Unknown  Unknown   \n",
              "16536  duplex  7500000.0       4.0        3.0  300.0       Yes  Unknown   \n",
              "16554  duplex   725200.0       4.0        3.0  185.0       Yes  Unknown   \n",
              "16817  duplex   295000.0       2.0        2.0  127.0   Unknown  Unknown   \n",
              "16886  duplex   370000.0       3.0        2.0  158.0   Unknown  Unknown   \n",
              "17683  duplex  1059870.0       4.0        4.0  256.0   Unknown  Unknown   \n",
              "18039  duplex   560000.0       3.0        3.0  185.0   Unknown  Unknown   \n",
              "18384  duplex   440000.0       2.0        2.0  100.0       Yes  Unknown   \n",
              "\n",
              "            Payment_Option  Delivery_Date         City  \n",
              "9884           Installment        Unknown  North Coast  \n",
              "12082  Cash or Installment        Unknown   Ain Sukhna  \n",
              "12291          Installment        Unknown  North Coast  \n",
              "12356          Installment        Unknown  North Coast  \n",
              "12357          Installment        Unknown  North Coast  \n",
              "12501      Unknown Payment        Unknown  North Coast  \n",
              "12775      Unknown Payment        Unknown  North Coast  \n",
              "12902      Unknown Payment        Unknown  North Coast  \n",
              "13209  Cash or Installment        Unknown  North Coast  \n",
              "14498          Installment           2026  North Coast  \n",
              "15126  Cash or Installment        Unknown  North Coast  \n",
              "15249          Installment        Unknown  North Coast  \n",
              "16174                 Cash  Ready to move  North Coast  \n",
              "16220  Cash or Installment        Unknown   Ain Sukhna  \n",
              "16262      Unknown Payment        Unknown   Ain Sukhna  \n",
              "16536                 Cash  Ready to move  North Coast  \n",
              "16554  Cash or Installment        Unknown  North Coast  \n",
              "16817      Unknown Payment        Unknown  North Coast  \n",
              "16886      Unknown Payment        Unknown  North Coast  \n",
              "17683      Unknown Payment           soon  North Coast  \n",
              "18039      Unknown Payment        Unknown  North Coast  \n",
              "18384                 Cash        Unknown     Ras Sedr  "
            ]
          },
          "execution_count": 30,
          "metadata": {},
          "output_type": "execute_result"
        }
      ],
      "source": [
        "df[df['Level'] == 'Unknown']"
      ]
    },
    {
      "cell_type": "markdown",
      "metadata": {
        "id": "QFCiMctKQF8y"
      },
      "source": [
        "we still have some data with unknown level and they are duplexes so lets drop them as they are not helpful"
      ]
    },
    {
      "cell_type": "code",
      "execution_count": 31,
      "metadata": {
        "id": "DZUFI92bQF8y"
      },
      "outputs": [],
      "source": [
        "df.drop(df[(df['Level'] == 'Unknown') & (df['Type'] == 'duplex')].index,inplace=True)"
      ]
    },
    {
      "cell_type": "markdown",
      "metadata": {
        "id": "IjSONJuZQF8y"
      },
      "source": [
        "Now let's check how many rows have 10+ or highest in level columns"
      ]
    },
    {
      "cell_type": "code",
      "execution_count": 32,
      "metadata": {
        "colab": {
          "base_uri": "https://localhost:8080/"
        },
        "id": "zEfzIAL5QF8z",
        "outputId": "fea9c56b-080d-4139-90e8-5cdc525932c9"
      },
      "outputs": [
        {
          "data": {
            "text/plain": [
              "(361, 10)"
            ]
          },
          "execution_count": 32,
          "metadata": {},
          "output_type": "execute_result"
        }
      ],
      "source": [
        "df[(df['Level'] == '10+') | (df['Level'] == 'Highest')].shape"
      ]
    },
    {
      "cell_type": "markdown",
      "metadata": {
        "id": "Bsps5_1OQF8z"
      },
      "source": [
        "okay they are small so we can drop them with no problem as they are also unknown for us"
      ]
    },
    {
      "cell_type": "code",
      "execution_count": 33,
      "metadata": {
        "id": "-I7MB2LhQF8z"
      },
      "outputs": [],
      "source": [
        "df.drop(df[(df['Level'] == '10+') | (df['Level'] == 'Highest')].index,inplace=True)"
      ]
    },
    {
      "cell_type": "markdown",
      "metadata": {
        "id": "OYS2pdsLQF8z"
      },
      "source": [
        "now lets replace Ground level with zero so all of the data be numerical"
      ]
    },
    {
      "cell_type": "code",
      "execution_count": 34,
      "metadata": {
        "id": "F_IvK0auQF8z"
      },
      "outputs": [],
      "source": [
        "df['Level'] = df['Level'].str.replace(\"Ground\",'0')"
      ]
    },
    {
      "cell_type": "code",
      "execution_count": 35,
      "metadata": {
        "colab": {
          "base_uri": "https://localhost:8080/"
        },
        "id": "f4v2PFGiQF80",
        "outputId": "7fefeec2-a80c-4e50-aaa1-6e2f6d3148be"
      },
      "outputs": [
        {
          "data": {
            "text/plain": [
              "array(['7', '1', '10', '0', '3', '2', '9', '4', '5', '8', '6', '-1'],\n",
              "      dtype=object)"
            ]
          },
          "execution_count": 35,
          "metadata": {},
          "output_type": "execute_result"
        }
      ],
      "source": [
        "df['Level'].unique()"
      ]
    },
    {
      "cell_type": "markdown",
      "metadata": {
        "id": "qvK2Bq0cQF80"
      },
      "source": [
        "alright now lets change its type to integer"
      ]
    },
    {
      "cell_type": "code",
      "execution_count": 36,
      "metadata": {
        "id": "MjvVLzo6QF80"
      },
      "outputs": [],
      "source": [
        "df['Level'] = df['Level'].astype(int)"
      ]
    },
    {
      "cell_type": "markdown",
      "metadata": {
        "id": "bKFkD9_GQF80"
      },
      "source": [
        "## 'City' Column Cleaning"
      ]
    },
    {
      "cell_type": "code",
      "execution_count": 37,
      "metadata": {
        "colab": {
          "base_uri": "https://localhost:8080/",
          "height": 489
        },
        "id": "ob0LrMajQF81",
        "outputId": "b2004037-677f-4226-bb21-7373b180d869"
      },
      "outputs": [
        {
          "data": {
            "text/plain": [
              "City\n",
              "New Cairo - El Tagamoa    6247\n",
              "North Coast               5362\n",
              "Sheikh Zayed              2240\n",
              "6th of October            1666\n",
              "Madinaty                  1539\n",
              "                          ... \n",
              "New Beni Suef                1\n",
              "Kafr al-Dawwar               1\n",
              "Darb al-Ahmar                1\n",
              "Quesna                       1\n",
              "Abu Rawash                   1\n",
              "Name: count, Length: 176, dtype: int64"
            ]
          },
          "execution_count": 37,
          "metadata": {},
          "output_type": "execute_result"
        }
      ],
      "source": [
        "city_counts = df['City'].value_counts()\n",
        "city_counts"
      ]
    },
    {
      "cell_type": "markdown",
      "metadata": {
        "id": "FvS389dsQF81"
      },
      "source": [
        "we have cities with 1 house in our data so lets make the cities with less than 10 houses as others"
      ]
    },
    {
      "cell_type": "code",
      "execution_count": 38,
      "metadata": {
        "id": "sy4O8dq-QF81"
      },
      "outputs": [],
      "source": [
        "city_counts_less_than_10 = city_counts[city_counts<=10]"
      ]
    },
    {
      "cell_type": "code",
      "execution_count": 39,
      "metadata": {
        "colab": {
          "base_uri": "https://localhost:8080/",
          "height": 143
        },
        "id": "AX27v4DqQF82",
        "outputId": "b3f89a7c-f578-403d-9035-805fc8a966bc"
      },
      "outputs": [
        {
          "data": {
            "text/html": [
              "<div>\n",
              "<style scoped>\n",
              "    .dataframe tbody tr th:only-of-type {\n",
              "        vertical-align: middle;\n",
              "    }\n",
              "\n",
              "    .dataframe tbody tr th {\n",
              "        vertical-align: top;\n",
              "    }\n",
              "\n",
              "    .dataframe thead th {\n",
              "        text-align: right;\n",
              "    }\n",
              "</style>\n",
              "<table border=\"1\" class=\"dataframe\">\n",
              "  <thead>\n",
              "    <tr style=\"text-align: right;\">\n",
              "      <th></th>\n",
              "      <th>Type</th>\n",
              "      <th>Price</th>\n",
              "      <th>Bedrooms</th>\n",
              "      <th>Bathrooms</th>\n",
              "      <th>Area</th>\n",
              "      <th>Furnished</th>\n",
              "      <th>Level</th>\n",
              "      <th>Payment_Option</th>\n",
              "      <th>Delivery_Date</th>\n",
              "      <th>City</th>\n",
              "    </tr>\n",
              "  </thead>\n",
              "  <tbody>\n",
              "    <tr>\n",
              "      <th>0</th>\n",
              "      <td>duplex</td>\n",
              "      <td>4000000.0</td>\n",
              "      <td>3.0</td>\n",
              "      <td>3.0</td>\n",
              "      <td>400.0</td>\n",
              "      <td>No</td>\n",
              "      <td>7</td>\n",
              "      <td>Cash</td>\n",
              "      <td>Ready to move</td>\n",
              "      <td>Nasr City</td>\n",
              "    </tr>\n",
              "    <tr>\n",
              "      <th>2</th>\n",
              "      <td>apartment</td>\n",
              "      <td>2250000.0</td>\n",
              "      <td>3.0</td>\n",
              "      <td>2.0</td>\n",
              "      <td>165.0</td>\n",
              "      <td>No</td>\n",
              "      <td>1</td>\n",
              "      <td>Cash</td>\n",
              "      <td>Ready to move</td>\n",
              "      <td>Smoha</td>\n",
              "    </tr>\n",
              "    <tr>\n",
              "      <th>3</th>\n",
              "      <td>apartment</td>\n",
              "      <td>1900000.0</td>\n",
              "      <td>3.0</td>\n",
              "      <td>2.0</td>\n",
              "      <td>230.0</td>\n",
              "      <td>No</td>\n",
              "      <td>10</td>\n",
              "      <td>Cash</td>\n",
              "      <td>Ready to move</td>\n",
              "      <td>Nasr City</td>\n",
              "    </tr>\n",
              "  </tbody>\n",
              "</table>\n",
              "</div>"
            ],
            "text/plain": [
              "        Type      Price  Bedrooms  Bathrooms   Area Furnished  Level  \\\n",
              "0     duplex  4000000.0       3.0        3.0  400.0        No      7   \n",
              "2  apartment  2250000.0       3.0        2.0  165.0        No      1   \n",
              "3  apartment  1900000.0       3.0        2.0  230.0        No     10   \n",
              "\n",
              "  Payment_Option  Delivery_Date       City  \n",
              "0           Cash  Ready to move  Nasr City  \n",
              "2           Cash  Ready to move      Smoha  \n",
              "3           Cash  Ready to move  Nasr City  "
            ]
          },
          "execution_count": 39,
          "metadata": {},
          "output_type": "execute_result"
        }
      ],
      "source": [
        "df['City'] = df['City'].apply(lambda x : 'other' if x in city_counts_less_than_10 else x)\n",
        "df.head(3)"
      ]
    },
    {
      "cell_type": "markdown",
      "metadata": {
        "id": "tiPMxhVEQF87"
      },
      "source": [
        "Now lets check our unique values of the data columns and see if everything is right"
      ]
    },
    {
      "cell_type": "code",
      "execution_count": 40,
      "metadata": {
        "colab": {
          "base_uri": "https://localhost:8080/"
        },
        "id": "68Gtm__XQF87",
        "outputId": "329c0c96-3e6e-4bb0-eb79-5111cc475789"
      },
      "outputs": [
        {
          "name": "stdout",
          "output_type": "stream",
          "text": [
            "Type : ['duplex' 'apartment' 'chalet' 'standalone villa' 'twin house'\n",
            " 'town house']\n",
            "Furnished : ['No' 'Unknown' 'Yes']\n",
            "Level : [ 7  1 10  0  3  2  9  4  5  8  6 -1]\n",
            "Payment_Option : ['Cash' 'Cash or Installment' 'Unknown Payment' 'Installment']\n",
            "Delivery_Date : ['Ready to move' '2024' 'Unknown' '2023' 'soon' '2025' 'within 6 months'\n",
            " '2022' '2026' '2027']\n",
            "City : ['Nasr City' 'Smoha' 'New Cairo - El Tagamoa' 'Sheikh Zayed'\n",
            " 'Shorouk City' 'Gesr Al Suez' 'New Capital City' 'New Damietta'\n",
            " 'Zahraa Al Maadi' '6th of October' 'Mansura' 'New Heliopolis' 'other'\n",
            " 'Badr City' 'Borg al-Arab' 'Mohandessin' 'Glim' 'Ain Sukhna' 'Maadi'\n",
            " 'Hadayek 6th of October' 'Madinaty' 'Haram' 'Ismailia City'\n",
            " '10th of Ramadan' 'Heliopolis' 'Rehab City' 'Hadayek al-Ahram'\n",
            " 'North Coast' 'Sidi Beshr' 'Nakheel' 'Obour City' 'Hurghada' 'Tanta'\n",
            " 'Helmeyat El Zaytoun' 'Mokattam' 'Katameya' 'Alamein' 'Miami'\n",
            " 'Hadayek al-Kobba' 'Mostakbal City' 'Agami' 'Ras al-Bar' 'Mandara'\n",
            " '15 May City' 'Seyouf' 'Sharq District' 'Laurent' 'New Mansoura' 'Dokki'\n",
            " 'Sheraton' 'Faisal' 'Roushdy' 'Zagazig' 'Moharam Bik' 'West Somid'\n",
            " 'Asafra' 'Gouna' 'Zamalek' 'Shubra' 'Marsa Matrouh' 'Giza District'\n",
            " 'Saba Pasha' 'Kafr Abdo' 'Zezenia' 'New Nozha' 'Asyut City' 'Amreya'\n",
            " 'Ain Shams' 'Sharm al-Sheikh' 'Ras Sedr' 'Dabaa' '(View phone number)']\n"
          ]
        }
      ],
      "source": [
        "for col in df.drop(['Area','Price','Bedrooms','Bathrooms'],axis='columns').columns:\n",
        "    print(f'{col} : {df[col].unique()}')"
      ]
    },
    {
      "cell_type": "code",
      "execution_count": 41,
      "metadata": {
        "colab": {
          "base_uri": "https://localhost:8080/"
        },
        "id": "ldnrUiBZQF88",
        "outputId": "93b902db-6fcc-4591-ea42-8bde33795b64"
      },
      "outputs": [
        {
          "data": {
            "text/plain": [
              "(48, 10)"
            ]
          },
          "execution_count": 41,
          "metadata": {},
          "output_type": "execute_result"
        }
      ],
      "source": [
        "df[df['City']==\"(View phone number)\"].shape"
      ]
    },
    {
      "cell_type": "markdown",
      "metadata": {
        "id": "gyh9p5SpQF89"
      },
      "source": [
        "we have 48 rows that have '(View phone number)' in the city which is an error so lets drop them as they are small"
      ]
    },
    {
      "cell_type": "code",
      "execution_count": 42,
      "metadata": {
        "id": "8FPHzRR7QF9A"
      },
      "outputs": [],
      "source": [
        "df.drop(df[df['City']==\"(View phone number)\"].index,inplace=True)"
      ]
    },
    {
      "cell_type": "code",
      "execution_count": 43,
      "metadata": {
        "colab": {
          "base_uri": "https://localhost:8080/"
        },
        "id": "T_BWqD2LQF9B",
        "outputId": "949827ba-440c-49f1-8ef7-510e33b448fc"
      },
      "outputs": [
        {
          "data": {
            "text/plain": [
              "array(['Nasr City', 'Smoha', 'New Cairo - El Tagamoa', 'Sheikh Zayed',\n",
              "       'Shorouk City', 'Gesr Al Suez', 'New Capital City', 'New Damietta',\n",
              "       'Zahraa Al Maadi', '6th of October', 'Mansura', 'New Heliopolis',\n",
              "       'other', 'Badr City', 'Borg al-Arab', 'Mohandessin', 'Glim',\n",
              "       'Ain Sukhna', 'Maadi', 'Hadayek 6th of October', 'Madinaty',\n",
              "       'Haram', 'Ismailia City', '10th of Ramadan', 'Heliopolis',\n",
              "       'Rehab City', 'Hadayek al-Ahram', 'North Coast', 'Sidi Beshr',\n",
              "       'Nakheel', 'Obour City', 'Hurghada', 'Tanta',\n",
              "       'Helmeyat El Zaytoun', 'Mokattam', 'Katameya', 'Alamein', 'Miami',\n",
              "       'Hadayek al-Kobba', 'Mostakbal City', 'Agami', 'Ras al-Bar',\n",
              "       'Mandara', '15 May City', 'Seyouf', 'Sharq District', 'Laurent',\n",
              "       'New Mansoura', 'Dokki', 'Sheraton', 'Faisal', 'Roushdy',\n",
              "       'Zagazig', 'Moharam Bik', 'West Somid', 'Asafra', 'Gouna',\n",
              "       'Zamalek', 'Shubra', 'Marsa Matrouh', 'Giza District',\n",
              "       'Saba Pasha', 'Kafr Abdo', 'Zezenia', 'New Nozha', 'Asyut City',\n",
              "       'Amreya', 'Ain Shams', 'Sharm al-Sheikh', 'Ras Sedr', 'Dabaa'],\n",
              "      dtype=object)"
            ]
          },
          "execution_count": 43,
          "metadata": {},
          "output_type": "execute_result"
        }
      ],
      "source": [
        "df['City'].unique()"
      ]
    },
    {
      "cell_type": "markdown",
      "metadata": {
        "id": "0ntzVZhFQF9B"
      },
      "source": [
        "alright city column is done"
      ]
    },
    {
      "cell_type": "markdown",
      "metadata": {
        "id": "Ghb8UGA4QF9B"
      },
      "source": [
        "## 'Furnished' column cleaning"
      ]
    },
    {
      "cell_type": "markdown",
      "metadata": {
        "id": "fzuusa6BQF9B"
      },
      "source": [
        "as we saw in furnished column unique values no,unknown,yes so lets replace the unknown one with no"
      ]
    },
    {
      "cell_type": "code",
      "execution_count": 44,
      "metadata": {
        "id": "UMJka-RmQF9B"
      },
      "outputs": [],
      "source": [
        "df['Furnished'] = df['Furnished'].str.replace('Unknown','No')"
      ]
    },
    {
      "cell_type": "markdown",
      "metadata": {
        "id": "aADwWQVDQF9C"
      },
      "source": [
        "## 'Payment_Option' Column cleaning"
      ]
    },
    {
      "cell_type": "markdown",
      "metadata": {
        "id": "AD185m5UQF9C"
      },
      "source": [
        "aswe saw we had unknown payment in the payment option lets see if they are small we can drop them or not"
      ]
    },
    {
      "cell_type": "code",
      "execution_count": 45,
      "metadata": {
        "colab": {
          "base_uri": "https://localhost:8080/",
          "height": 423
        },
        "id": "vNV6C1LlQF9C",
        "outputId": "db2907ec-0bc7-4acc-a636-f2287251bbe6"
      },
      "outputs": [
        {
          "data": {
            "text/html": [
              "<div>\n",
              "<style scoped>\n",
              "    .dataframe tbody tr th:only-of-type {\n",
              "        vertical-align: middle;\n",
              "    }\n",
              "\n",
              "    .dataframe tbody tr th {\n",
              "        vertical-align: top;\n",
              "    }\n",
              "\n",
              "    .dataframe thead th {\n",
              "        text-align: right;\n",
              "    }\n",
              "</style>\n",
              "<table border=\"1\" class=\"dataframe\">\n",
              "  <thead>\n",
              "    <tr style=\"text-align: right;\">\n",
              "      <th></th>\n",
              "      <th>Type</th>\n",
              "      <th>Price</th>\n",
              "      <th>Bedrooms</th>\n",
              "      <th>Bathrooms</th>\n",
              "      <th>Area</th>\n",
              "      <th>Furnished</th>\n",
              "      <th>Level</th>\n",
              "      <th>Payment_Option</th>\n",
              "      <th>Delivery_Date</th>\n",
              "      <th>City</th>\n",
              "    </tr>\n",
              "  </thead>\n",
              "  <tbody>\n",
              "    <tr>\n",
              "      <th>7</th>\n",
              "      <td>apartment</td>\n",
              "      <td>1650000.0</td>\n",
              "      <td>2.0</td>\n",
              "      <td>2.0</td>\n",
              "      <td>144.0</td>\n",
              "      <td>No</td>\n",
              "      <td>1</td>\n",
              "      <td>Unknown Payment</td>\n",
              "      <td>Ready to move</td>\n",
              "      <td>Sheikh Zayed</td>\n",
              "    </tr>\n",
              "    <tr>\n",
              "      <th>8</th>\n",
              "      <td>apartment</td>\n",
              "      <td>1560000.0</td>\n",
              "      <td>3.0</td>\n",
              "      <td>3.0</td>\n",
              "      <td>200.0</td>\n",
              "      <td>No</td>\n",
              "      <td>0</td>\n",
              "      <td>Unknown Payment</td>\n",
              "      <td>Unknown</td>\n",
              "      <td>New Cairo - El Tagamoa</td>\n",
              "    </tr>\n",
              "    <tr>\n",
              "      <th>25</th>\n",
              "      <td>apartment</td>\n",
              "      <td>1730000.0</td>\n",
              "      <td>3.0</td>\n",
              "      <td>2.0</td>\n",
              "      <td>160.0</td>\n",
              "      <td>No</td>\n",
              "      <td>7</td>\n",
              "      <td>Unknown Payment</td>\n",
              "      <td>Unknown</td>\n",
              "      <td>Smoha</td>\n",
              "    </tr>\n",
              "    <tr>\n",
              "      <th>33</th>\n",
              "      <td>duplex</td>\n",
              "      <td>6095000.0</td>\n",
              "      <td>4.0</td>\n",
              "      <td>5.0</td>\n",
              "      <td>246.0</td>\n",
              "      <td>No</td>\n",
              "      <td>0</td>\n",
              "      <td>Unknown Payment</td>\n",
              "      <td>2024</td>\n",
              "      <td>Sheikh Zayed</td>\n",
              "    </tr>\n",
              "    <tr>\n",
              "      <th>47</th>\n",
              "      <td>apartment</td>\n",
              "      <td>1446394.0</td>\n",
              "      <td>3.0</td>\n",
              "      <td>2.0</td>\n",
              "      <td>158.0</td>\n",
              "      <td>No</td>\n",
              "      <td>4</td>\n",
              "      <td>Unknown Payment</td>\n",
              "      <td>Ready to move</td>\n",
              "      <td>New Cairo - El Tagamoa</td>\n",
              "    </tr>\n",
              "    <tr>\n",
              "      <th>...</th>\n",
              "      <td>...</td>\n",
              "      <td>...</td>\n",
              "      <td>...</td>\n",
              "      <td>...</td>\n",
              "      <td>...</td>\n",
              "      <td>...</td>\n",
              "      <td>...</td>\n",
              "      <td>...</td>\n",
              "      <td>...</td>\n",
              "      <td>...</td>\n",
              "    </tr>\n",
              "    <tr>\n",
              "      <th>27342</th>\n",
              "      <td>standalone villa</td>\n",
              "      <td>11800000.0</td>\n",
              "      <td>4.0</td>\n",
              "      <td>5.0</td>\n",
              "      <td>315.0</td>\n",
              "      <td>No</td>\n",
              "      <td>-1</td>\n",
              "      <td>Unknown Payment</td>\n",
              "      <td>2025</td>\n",
              "      <td>Sheikh Zayed</td>\n",
              "    </tr>\n",
              "    <tr>\n",
              "      <th>27345</th>\n",
              "      <td>standalone villa</td>\n",
              "      <td>480000.0</td>\n",
              "      <td>3.0</td>\n",
              "      <td>2.0</td>\n",
              "      <td>165.0</td>\n",
              "      <td>No</td>\n",
              "      <td>-1</td>\n",
              "      <td>Unknown Payment</td>\n",
              "      <td>Unknown</td>\n",
              "      <td>New Cairo - El Tagamoa</td>\n",
              "    </tr>\n",
              "    <tr>\n",
              "      <th>27349</th>\n",
              "      <td>town house</td>\n",
              "      <td>500000.0</td>\n",
              "      <td>4.0</td>\n",
              "      <td>3.0</td>\n",
              "      <td>387.0</td>\n",
              "      <td>No</td>\n",
              "      <td>-1</td>\n",
              "      <td>Unknown Payment</td>\n",
              "      <td>Unknown</td>\n",
              "      <td>New Capital City</td>\n",
              "    </tr>\n",
              "    <tr>\n",
              "      <th>27356</th>\n",
              "      <td>town house</td>\n",
              "      <td>890000.0</td>\n",
              "      <td>3.0</td>\n",
              "      <td>2.0</td>\n",
              "      <td>240.0</td>\n",
              "      <td>No</td>\n",
              "      <td>-1</td>\n",
              "      <td>Unknown Payment</td>\n",
              "      <td>Unknown</td>\n",
              "      <td>North Coast</td>\n",
              "    </tr>\n",
              "    <tr>\n",
              "      <th>27359</th>\n",
              "      <td>standalone villa</td>\n",
              "      <td>35000000.0</td>\n",
              "      <td>4.0</td>\n",
              "      <td>4.0</td>\n",
              "      <td>478.0</td>\n",
              "      <td>No</td>\n",
              "      <td>-1</td>\n",
              "      <td>Unknown Payment</td>\n",
              "      <td>Unknown</td>\n",
              "      <td>Mokattam</td>\n",
              "    </tr>\n",
              "  </tbody>\n",
              "</table>\n",
              "<p>2586 rows × 10 columns</p>\n",
              "</div>"
            ],
            "text/plain": [
              "                   Type       Price  Bedrooms  Bathrooms   Area Furnished  \\\n",
              "7             apartment   1650000.0       2.0        2.0  144.0        No   \n",
              "8             apartment   1560000.0       3.0        3.0  200.0        No   \n",
              "25            apartment   1730000.0       3.0        2.0  160.0        No   \n",
              "33               duplex   6095000.0       4.0        5.0  246.0        No   \n",
              "47            apartment   1446394.0       3.0        2.0  158.0        No   \n",
              "...                 ...         ...       ...        ...    ...       ...   \n",
              "27342  standalone villa  11800000.0       4.0        5.0  315.0        No   \n",
              "27345  standalone villa    480000.0       3.0        2.0  165.0        No   \n",
              "27349        town house    500000.0       4.0        3.0  387.0        No   \n",
              "27356        town house    890000.0       3.0        2.0  240.0        No   \n",
              "27359  standalone villa  35000000.0       4.0        4.0  478.0        No   \n",
              "\n",
              "       Level   Payment_Option  Delivery_Date                    City  \n",
              "7          1  Unknown Payment  Ready to move            Sheikh Zayed  \n",
              "8          0  Unknown Payment        Unknown  New Cairo - El Tagamoa  \n",
              "25         7  Unknown Payment        Unknown                   Smoha  \n",
              "33         0  Unknown Payment           2024            Sheikh Zayed  \n",
              "47         4  Unknown Payment  Ready to move  New Cairo - El Tagamoa  \n",
              "...      ...              ...            ...                     ...  \n",
              "27342     -1  Unknown Payment           2025            Sheikh Zayed  \n",
              "27345     -1  Unknown Payment        Unknown  New Cairo - El Tagamoa  \n",
              "27349     -1  Unknown Payment        Unknown        New Capital City  \n",
              "27356     -1  Unknown Payment        Unknown             North Coast  \n",
              "27359     -1  Unknown Payment        Unknown                Mokattam  \n",
              "\n",
              "[2586 rows x 10 columns]"
            ]
          },
          "execution_count": 45,
          "metadata": {},
          "output_type": "execute_result"
        }
      ],
      "source": [
        "df[df['Payment_Option'] == 'Unknown Payment']"
      ]
    },
    {
      "cell_type": "markdown",
      "metadata": {
        "id": "Iped_tuEQF9C"
      },
      "source": [
        "they are 2586 which is not small so i will assume that the unknown payment is Cash or Installment"
      ]
    },
    {
      "cell_type": "code",
      "execution_count": 46,
      "metadata": {
        "id": "6z7lqynzQF9D"
      },
      "outputs": [],
      "source": [
        "df['Payment_Option'] = df['Payment_Option'].str.replace('Unknown Payment','Cash or Installment')"
      ]
    },
    {
      "cell_type": "markdown",
      "metadata": {
        "id": "ANmZnWvFQF9D"
      },
      "source": [
        "now lets check our unique values"
      ]
    },
    {
      "cell_type": "code",
      "execution_count": 47,
      "metadata": {
        "colab": {
          "base_uri": "https://localhost:8080/"
        },
        "id": "88FKOylbQF9D",
        "outputId": "33dcc6c7-e421-49e4-e516-f8b5f8974469"
      },
      "outputs": [
        {
          "name": "stdout",
          "output_type": "stream",
          "text": [
            "Type : ['duplex' 'apartment' 'chalet' 'standalone villa' 'twin house'\n",
            " 'town house']\n",
            "Furnished : ['No' 'Yes']\n",
            "Level : [ 7  1 10  0  3  2  9  4  5  8  6 -1]\n",
            "Payment_Option : ['Cash' 'Cash or Installment' 'Installment']\n",
            "Delivery_Date : ['Ready to move' '2024' 'Unknown' '2023' 'soon' '2025' 'within 6 months'\n",
            " '2022' '2026' '2027']\n",
            "City : ['Nasr City' 'Smoha' 'New Cairo - El Tagamoa' 'Sheikh Zayed'\n",
            " 'Shorouk City' 'Gesr Al Suez' 'New Capital City' 'New Damietta'\n",
            " 'Zahraa Al Maadi' '6th of October' 'Mansura' 'New Heliopolis' 'other'\n",
            " 'Badr City' 'Borg al-Arab' 'Mohandessin' 'Glim' 'Ain Sukhna' 'Maadi'\n",
            " 'Hadayek 6th of October' 'Madinaty' 'Haram' 'Ismailia City'\n",
            " '10th of Ramadan' 'Heliopolis' 'Rehab City' 'Hadayek al-Ahram'\n",
            " 'North Coast' 'Sidi Beshr' 'Nakheel' 'Obour City' 'Hurghada' 'Tanta'\n",
            " 'Helmeyat El Zaytoun' 'Mokattam' 'Katameya' 'Alamein' 'Miami'\n",
            " 'Hadayek al-Kobba' 'Mostakbal City' 'Agami' 'Ras al-Bar' 'Mandara'\n",
            " '15 May City' 'Seyouf' 'Sharq District' 'Laurent' 'New Mansoura' 'Dokki'\n",
            " 'Sheraton' 'Faisal' 'Roushdy' 'Zagazig' 'Moharam Bik' 'West Somid'\n",
            " 'Asafra' 'Gouna' 'Zamalek' 'Shubra' 'Marsa Matrouh' 'Giza District'\n",
            " 'Saba Pasha' 'Kafr Abdo' 'Zezenia' 'New Nozha' 'Asyut City' 'Amreya'\n",
            " 'Ain Shams' 'Sharm al-Sheikh' 'Ras Sedr' 'Dabaa']\n"
          ]
        }
      ],
      "source": [
        "for col in df.drop(['Area','Price','Bedrooms','Bathrooms'],axis='columns').columns:\n",
        "    print(f'{col} : {df[col].unique()}')"
      ]
    },
    {
      "cell_type": "markdown",
      "metadata": {
        "id": "MA1oOPtkQF9D"
      },
      "source": [
        "They are looking good so lets see the delivery date column"
      ]
    },
    {
      "cell_type": "markdown",
      "metadata": {
        "id": "Xh_RtfuAQF9E"
      },
      "source": [
        "## 'Delivery_Date' column"
      ]
    },
    {
      "cell_type": "code",
      "execution_count": 48,
      "metadata": {
        "colab": {
          "base_uri": "https://localhost:8080/",
          "height": 429
        },
        "id": "dnilxcomQF9E",
        "outputId": "9bc52799-66ef-4564-da26-639935b3e0d8"
      },
      "outputs": [
        {
          "data": {
            "text/plain": [
              "Delivery_Date\n",
              "Ready to move      11056\n",
              "Unknown             8714\n",
              "soon                1549\n",
              "2024                1012\n",
              "2025                1008\n",
              "2023                 641\n",
              "2026                 358\n",
              "within 6 months      160\n",
              "2022                 117\n",
              "2027                   4\n",
              "Name: count, dtype: int64"
            ]
          },
          "execution_count": 48,
          "metadata": {},
          "output_type": "execute_result"
        }
      ],
      "source": [
        "df['Delivery_Date'].value_counts()"
      ]
    },
    {
      "cell_type": "markdown",
      "metadata": {
        "id": "L6BnOMhfQF9E"
      },
      "source": [
        "it have majority of unknown values so lets see if it is correlated to our price or not"
      ]
    },
    {
      "cell_type": "code",
      "execution_count": 49,
      "metadata": {
        "colab": {
          "base_uri": "https://localhost:8080/"
        },
        "id": "kvwlN8ryQF9E",
        "outputId": "1a2a4e50-2932-49de-ba6e-b87c39ed35ce"
      },
      "outputs": [
        {
          "data": {
            "text/plain": [
              "np.float64(-0.004198657718476838)"
            ]
          },
          "execution_count": 49,
          "metadata": {},
          "output_type": "execute_result"
        }
      ],
      "source": [
        "df['Delivery_Date'].astype('category').cat.codes.corr(df['Price'])"
      ]
    },
    {
      "cell_type": "markdown",
      "metadata": {
        "id": "zcMPbENKQF9E"
      },
      "source": [
        "it is not correlated to our price so we can drop it"
      ]
    },
    {
      "cell_type": "code",
      "execution_count": 50,
      "metadata": {
        "id": "Qp25vAWUQF9F"
      },
      "outputs": [],
      "source": [
        "df.drop(['Delivery_Date'],axis='columns',inplace=True)"
      ]
    },
    {
      "cell_type": "markdown",
      "metadata": {
        "id": "pbGdp8H4QF9F"
      },
      "source": [
        "Lets checkout unique values for one last time"
      ]
    },
    {
      "cell_type": "code",
      "execution_count": 51,
      "metadata": {
        "colab": {
          "base_uri": "https://localhost:8080/"
        },
        "id": "xWltqNgPQF9F",
        "outputId": "c18b3671-e7b2-4995-e624-373520cf527e"
      },
      "outputs": [
        {
          "name": "stdout",
          "output_type": "stream",
          "text": [
            "Type : ['duplex' 'apartment' 'chalet' 'standalone villa' 'twin house'\n",
            " 'town house']\n",
            "Furnished : ['No' 'Yes']\n",
            "Level : [ 7  1 10  0  3  2  9  4  5  8  6 -1]\n",
            "Payment_Option : ['Cash' 'Cash or Installment' 'Installment']\n",
            "City : ['Nasr City' 'Smoha' 'New Cairo - El Tagamoa' 'Sheikh Zayed'\n",
            " 'Shorouk City' 'Gesr Al Suez' 'New Capital City' 'New Damietta'\n",
            " 'Zahraa Al Maadi' '6th of October' 'Mansura' 'New Heliopolis' 'other'\n",
            " 'Badr City' 'Borg al-Arab' 'Mohandessin' 'Glim' 'Ain Sukhna' 'Maadi'\n",
            " 'Hadayek 6th of October' 'Madinaty' 'Haram' 'Ismailia City'\n",
            " '10th of Ramadan' 'Heliopolis' 'Rehab City' 'Hadayek al-Ahram'\n",
            " 'North Coast' 'Sidi Beshr' 'Nakheel' 'Obour City' 'Hurghada' 'Tanta'\n",
            " 'Helmeyat El Zaytoun' 'Mokattam' 'Katameya' 'Alamein' 'Miami'\n",
            " 'Hadayek al-Kobba' 'Mostakbal City' 'Agami' 'Ras al-Bar' 'Mandara'\n",
            " '15 May City' 'Seyouf' 'Sharq District' 'Laurent' 'New Mansoura' 'Dokki'\n",
            " 'Sheraton' 'Faisal' 'Roushdy' 'Zagazig' 'Moharam Bik' 'West Somid'\n",
            " 'Asafra' 'Gouna' 'Zamalek' 'Shubra' 'Marsa Matrouh' 'Giza District'\n",
            " 'Saba Pasha' 'Kafr Abdo' 'Zezenia' 'New Nozha' 'Asyut City' 'Amreya'\n",
            " 'Ain Shams' 'Sharm al-Sheikh' 'Ras Sedr' 'Dabaa']\n"
          ]
        }
      ],
      "source": [
        "for col in df.drop(['Area','Price','Bedrooms','Bathrooms'],axis='columns').columns:\n",
        "    print(f'{col} : {df[col].unique()}')"
      ]
    },
    {
      "cell_type": "code",
      "execution_count": 52,
      "metadata": {
        "colab": {
          "base_uri": "https://localhost:8080/",
          "height": 143
        },
        "id": "XqLyXByGQF9F",
        "outputId": "c22db416-d5c9-412b-a896-8bf67c17420d"
      },
      "outputs": [
        {
          "data": {
            "text/html": [
              "<div>\n",
              "<style scoped>\n",
              "    .dataframe tbody tr th:only-of-type {\n",
              "        vertical-align: middle;\n",
              "    }\n",
              "\n",
              "    .dataframe tbody tr th {\n",
              "        vertical-align: top;\n",
              "    }\n",
              "\n",
              "    .dataframe thead th {\n",
              "        text-align: right;\n",
              "    }\n",
              "</style>\n",
              "<table border=\"1\" class=\"dataframe\">\n",
              "  <thead>\n",
              "    <tr style=\"text-align: right;\">\n",
              "      <th></th>\n",
              "      <th>Type</th>\n",
              "      <th>Price</th>\n",
              "      <th>Bedrooms</th>\n",
              "      <th>Bathrooms</th>\n",
              "      <th>Area</th>\n",
              "      <th>Furnished</th>\n",
              "      <th>Level</th>\n",
              "      <th>Payment_Option</th>\n",
              "      <th>City</th>\n",
              "    </tr>\n",
              "  </thead>\n",
              "  <tbody>\n",
              "    <tr>\n",
              "      <th>13978</th>\n",
              "      <td>chalet</td>\n",
              "      <td>2600000.0</td>\n",
              "      <td>2.0</td>\n",
              "      <td>2.0</td>\n",
              "      <td>92.0</td>\n",
              "      <td>No</td>\n",
              "      <td>2</td>\n",
              "      <td>Cash or Installment</td>\n",
              "      <td>North Coast</td>\n",
              "    </tr>\n",
              "    <tr>\n",
              "      <th>23463</th>\n",
              "      <td>town house</td>\n",
              "      <td>490000.0</td>\n",
              "      <td>3.0</td>\n",
              "      <td>2.0</td>\n",
              "      <td>170.0</td>\n",
              "      <td>No</td>\n",
              "      <td>-1</td>\n",
              "      <td>Cash or Installment</td>\n",
              "      <td>North Coast</td>\n",
              "    </tr>\n",
              "    <tr>\n",
              "      <th>3532</th>\n",
              "      <td>apartment</td>\n",
              "      <td>130000.0</td>\n",
              "      <td>2.0</td>\n",
              "      <td>1.0</td>\n",
              "      <td>130.0</td>\n",
              "      <td>No</td>\n",
              "      <td>2</td>\n",
              "      <td>Cash or Installment</td>\n",
              "      <td>Obour City</td>\n",
              "    </tr>\n",
              "  </tbody>\n",
              "</table>\n",
              "</div>"
            ],
            "text/plain": [
              "             Type      Price  Bedrooms  Bathrooms   Area Furnished  Level  \\\n",
              "13978      chalet  2600000.0       2.0        2.0   92.0        No      2   \n",
              "23463  town house   490000.0       3.0        2.0  170.0        No     -1   \n",
              "3532    apartment   130000.0       2.0        1.0  130.0        No      2   \n",
              "\n",
              "            Payment_Option         City  \n",
              "13978  Cash or Installment  North Coast  \n",
              "23463  Cash or Installment  North Coast  \n",
              "3532   Cash or Installment   Obour City  "
            ]
          },
          "execution_count": 52,
          "metadata": {},
          "output_type": "execute_result"
        }
      ],
      "source": [
        "df.sample(3)"
      ]
    },
    {
      "cell_type": "markdown",
      "metadata": {
        "id": "JFZRyY9tQF9F"
      },
      "source": [
        "Alright everything looks good lets continue"
      ]
    },
    {
      "cell_type": "markdown",
      "metadata": {
        "id": "0cZNn3-XQF9G"
      },
      "source": [
        "# Outlier Detection and removal"
      ]
    },
    {
      "cell_type": "markdown",
      "metadata": {
        "id": "hJOd0_V6QF9G"
      },
      "source": [
        "## check if there houses with rooms smaller than 8m2 (minimum room size)"
      ]
    },
    {
      "cell_type": "code",
      "execution_count": 53,
      "metadata": {
        "colab": {
          "base_uri": "https://localhost:8080/",
          "height": 206
        },
        "id": "vYcLjxwtQF9G",
        "outputId": "6f967e88-cda9-4c8a-d559-f409800e0438"
      },
      "outputs": [
        {
          "data": {
            "text/html": [
              "<div>\n",
              "<style scoped>\n",
              "    .dataframe tbody tr th:only-of-type {\n",
              "        vertical-align: middle;\n",
              "    }\n",
              "\n",
              "    .dataframe tbody tr th {\n",
              "        vertical-align: top;\n",
              "    }\n",
              "\n",
              "    .dataframe thead th {\n",
              "        text-align: right;\n",
              "    }\n",
              "</style>\n",
              "<table border=\"1\" class=\"dataframe\">\n",
              "  <thead>\n",
              "    <tr style=\"text-align: right;\">\n",
              "      <th></th>\n",
              "      <th>Type</th>\n",
              "      <th>Price</th>\n",
              "      <th>Bedrooms</th>\n",
              "      <th>Bathrooms</th>\n",
              "      <th>Area</th>\n",
              "      <th>Furnished</th>\n",
              "      <th>Level</th>\n",
              "      <th>Payment_Option</th>\n",
              "      <th>City</th>\n",
              "    </tr>\n",
              "  </thead>\n",
              "  <tbody>\n",
              "    <tr>\n",
              "      <th>2280</th>\n",
              "      <td>apartment</td>\n",
              "      <td>3200000.0</td>\n",
              "      <td>4.0</td>\n",
              "      <td>1.0</td>\n",
              "      <td>20.0</td>\n",
              "      <td>No</td>\n",
              "      <td>4</td>\n",
              "      <td>Cash or Installment</td>\n",
              "      <td>New Capital City</td>\n",
              "    </tr>\n",
              "    <tr>\n",
              "      <th>6990</th>\n",
              "      <td>apartment</td>\n",
              "      <td>1128000.0</td>\n",
              "      <td>3.0</td>\n",
              "      <td>2.0</td>\n",
              "      <td>14.0</td>\n",
              "      <td>No</td>\n",
              "      <td>3</td>\n",
              "      <td>Installment</td>\n",
              "      <td>New Cairo - El Tagamoa</td>\n",
              "    </tr>\n",
              "    <tr>\n",
              "      <th>7345</th>\n",
              "      <td>apartment</td>\n",
              "      <td>1500000.0</td>\n",
              "      <td>3.0</td>\n",
              "      <td>3.0</td>\n",
              "      <td>10.0</td>\n",
              "      <td>No</td>\n",
              "      <td>4</td>\n",
              "      <td>Cash or Installment</td>\n",
              "      <td>New Cairo - El Tagamoa</td>\n",
              "    </tr>\n",
              "    <tr>\n",
              "      <th>15977</th>\n",
              "      <td>chalet</td>\n",
              "      <td>3000000.0</td>\n",
              "      <td>2.0</td>\n",
              "      <td>2.0</td>\n",
              "      <td>12.0</td>\n",
              "      <td>No</td>\n",
              "      <td>0</td>\n",
              "      <td>Cash</td>\n",
              "      <td>North Coast</td>\n",
              "    </tr>\n",
              "    <tr>\n",
              "      <th>24905</th>\n",
              "      <td>standalone villa</td>\n",
              "      <td>29000000.0</td>\n",
              "      <td>5.0</td>\n",
              "      <td>6.0</td>\n",
              "      <td>11.0</td>\n",
              "      <td>No</td>\n",
              "      <td>-1</td>\n",
              "      <td>Cash</td>\n",
              "      <td>New Cairo - El Tagamoa</td>\n",
              "    </tr>\n",
              "  </tbody>\n",
              "</table>\n",
              "</div>"
            ],
            "text/plain": [
              "                   Type       Price  Bedrooms  Bathrooms  Area Furnished  \\\n",
              "2280          apartment   3200000.0       4.0        1.0  20.0        No   \n",
              "6990          apartment   1128000.0       3.0        2.0  14.0        No   \n",
              "7345          apartment   1500000.0       3.0        3.0  10.0        No   \n",
              "15977            chalet   3000000.0       2.0        2.0  12.0        No   \n",
              "24905  standalone villa  29000000.0       5.0        6.0  11.0        No   \n",
              "\n",
              "       Level       Payment_Option                    City  \n",
              "2280       4  Cash or Installment        New Capital City  \n",
              "6990       3          Installment  New Cairo - El Tagamoa  \n",
              "7345       4  Cash or Installment  New Cairo - El Tagamoa  \n",
              "15977      0                 Cash             North Coast  \n",
              "24905     -1                 Cash  New Cairo - El Tagamoa  "
            ]
          },
          "execution_count": 53,
          "metadata": {},
          "output_type": "execute_result"
        }
      ],
      "source": [
        "df[df.Area/df.Bedrooms<8].head()"
      ]
    },
    {
      "cell_type": "markdown",
      "metadata": {
        "id": "J-0vwZkMQF9G"
      },
      "source": [
        "yeah we some houses with rooms smaller than 8m2 so we will remove them"
      ]
    },
    {
      "cell_type": "code",
      "execution_count": 54,
      "metadata": {
        "id": "JwsoukgIQF9G"
      },
      "outputs": [],
      "source": [
        "df.drop(df[df.Area/df.Bedrooms<8].index,inplace=True)"
      ]
    },
    {
      "cell_type": "markdown",
      "metadata": {
        "id": "RDyAGyU5QF9G"
      },
      "source": [
        "## check if there houses with 2 bathrooms more than rooms and remove them"
      ]
    },
    {
      "cell_type": "code",
      "execution_count": 55,
      "metadata": {
        "colab": {
          "base_uri": "https://localhost:8080/",
          "height": 739
        },
        "id": "4Z8N5FpPQF9H",
        "outputId": "83f7673a-f64b-4d3c-8697-ca011da17ceb"
      },
      "outputs": [
        {
          "data": {
            "text/html": [
              "<div>\n",
              "<style scoped>\n",
              "    .dataframe tbody tr th:only-of-type {\n",
              "        vertical-align: middle;\n",
              "    }\n",
              "\n",
              "    .dataframe tbody tr th {\n",
              "        vertical-align: top;\n",
              "    }\n",
              "\n",
              "    .dataframe thead th {\n",
              "        text-align: right;\n",
              "    }\n",
              "</style>\n",
              "<table border=\"1\" class=\"dataframe\">\n",
              "  <thead>\n",
              "    <tr style=\"text-align: right;\">\n",
              "      <th></th>\n",
              "      <th>Type</th>\n",
              "      <th>Price</th>\n",
              "      <th>Bedrooms</th>\n",
              "      <th>Bathrooms</th>\n",
              "      <th>Area</th>\n",
              "      <th>Furnished</th>\n",
              "      <th>Level</th>\n",
              "      <th>Payment_Option</th>\n",
              "      <th>City</th>\n",
              "    </tr>\n",
              "  </thead>\n",
              "  <tbody>\n",
              "    <tr>\n",
              "      <th>11020</th>\n",
              "      <td>town house</td>\n",
              "      <td>16500000.0</td>\n",
              "      <td>6.0</td>\n",
              "      <td>10.0</td>\n",
              "      <td>420.0</td>\n",
              "      <td>No</td>\n",
              "      <td>-1</td>\n",
              "      <td>Cash</td>\n",
              "      <td>Heliopolis</td>\n",
              "    </tr>\n",
              "    <tr>\n",
              "      <th>13515</th>\n",
              "      <td>standalone villa</td>\n",
              "      <td>33000000.0</td>\n",
              "      <td>4.0</td>\n",
              "      <td>7.0</td>\n",
              "      <td>450.0</td>\n",
              "      <td>Yes</td>\n",
              "      <td>-1</td>\n",
              "      <td>Cash</td>\n",
              "      <td>North Coast</td>\n",
              "    </tr>\n",
              "    <tr>\n",
              "      <th>13519</th>\n",
              "      <td>standalone villa</td>\n",
              "      <td>36000000.0</td>\n",
              "      <td>4.0</td>\n",
              "      <td>7.0</td>\n",
              "      <td>350.0</td>\n",
              "      <td>Yes</td>\n",
              "      <td>-1</td>\n",
              "      <td>Cash</td>\n",
              "      <td>North Coast</td>\n",
              "    </tr>\n",
              "    <tr>\n",
              "      <th>13792</th>\n",
              "      <td>standalone villa</td>\n",
              "      <td>16000000.0</td>\n",
              "      <td>4.0</td>\n",
              "      <td>7.0</td>\n",
              "      <td>400.0</td>\n",
              "      <td>Yes</td>\n",
              "      <td>-1</td>\n",
              "      <td>Cash</td>\n",
              "      <td>Alamein</td>\n",
              "    </tr>\n",
              "    <tr>\n",
              "      <th>13870</th>\n",
              "      <td>standalone villa</td>\n",
              "      <td>26000000.0</td>\n",
              "      <td>6.0</td>\n",
              "      <td>9.0</td>\n",
              "      <td>339.0</td>\n",
              "      <td>No</td>\n",
              "      <td>-1</td>\n",
              "      <td>Cash or Installment</td>\n",
              "      <td>North Coast</td>\n",
              "    </tr>\n",
              "    <tr>\n",
              "      <th>14798</th>\n",
              "      <td>standalone villa</td>\n",
              "      <td>20000000.0</td>\n",
              "      <td>5.0</td>\n",
              "      <td>8.0</td>\n",
              "      <td>580.0</td>\n",
              "      <td>No</td>\n",
              "      <td>-1</td>\n",
              "      <td>Cash</td>\n",
              "      <td>North Coast</td>\n",
              "    </tr>\n",
              "    <tr>\n",
              "      <th>17150</th>\n",
              "      <td>standalone villa</td>\n",
              "      <td>75000000.0</td>\n",
              "      <td>5.0</td>\n",
              "      <td>8.0</td>\n",
              "      <td>464.0</td>\n",
              "      <td>No</td>\n",
              "      <td>-1</td>\n",
              "      <td>Cash or Installment</td>\n",
              "      <td>North Coast</td>\n",
              "    </tr>\n",
              "    <tr>\n",
              "      <th>17515</th>\n",
              "      <td>standalone villa</td>\n",
              "      <td>450000.0</td>\n",
              "      <td>4.0</td>\n",
              "      <td>7.0</td>\n",
              "      <td>374.0</td>\n",
              "      <td>No</td>\n",
              "      <td>-1</td>\n",
              "      <td>Cash or Installment</td>\n",
              "      <td>North Coast</td>\n",
              "    </tr>\n",
              "    <tr>\n",
              "      <th>18791</th>\n",
              "      <td>standalone villa</td>\n",
              "      <td>18000000.0</td>\n",
              "      <td>6.0</td>\n",
              "      <td>10.0</td>\n",
              "      <td>350.0</td>\n",
              "      <td>Yes</td>\n",
              "      <td>-1</td>\n",
              "      <td>Cash or Installment</td>\n",
              "      <td>Sheikh Zayed</td>\n",
              "    </tr>\n",
              "    <tr>\n",
              "      <th>19947</th>\n",
              "      <td>standalone villa</td>\n",
              "      <td>12500000.0</td>\n",
              "      <td>6.0</td>\n",
              "      <td>10.0</td>\n",
              "      <td>586.0</td>\n",
              "      <td>No</td>\n",
              "      <td>-1</td>\n",
              "      <td>Cash</td>\n",
              "      <td>New Cairo - El Tagamoa</td>\n",
              "    </tr>\n",
              "    <tr>\n",
              "      <th>21020</th>\n",
              "      <td>twin house</td>\n",
              "      <td>6900000.0</td>\n",
              "      <td>4.0</td>\n",
              "      <td>8.0</td>\n",
              "      <td>384.0</td>\n",
              "      <td>No</td>\n",
              "      <td>-1</td>\n",
              "      <td>Cash or Installment</td>\n",
              "      <td>Sheikh Zayed</td>\n",
              "    </tr>\n",
              "    <tr>\n",
              "      <th>21039</th>\n",
              "      <td>standalone villa</td>\n",
              "      <td>20000000.0</td>\n",
              "      <td>4.0</td>\n",
              "      <td>7.0</td>\n",
              "      <td>570.0</td>\n",
              "      <td>Yes</td>\n",
              "      <td>-1</td>\n",
              "      <td>Cash</td>\n",
              "      <td>New Cairo - El Tagamoa</td>\n",
              "    </tr>\n",
              "    <tr>\n",
              "      <th>21466</th>\n",
              "      <td>town house</td>\n",
              "      <td>4094668.0</td>\n",
              "      <td>4.0</td>\n",
              "      <td>7.0</td>\n",
              "      <td>253.0</td>\n",
              "      <td>No</td>\n",
              "      <td>-1</td>\n",
              "      <td>Cash or Installment</td>\n",
              "      <td>Sheikh Zayed</td>\n",
              "    </tr>\n",
              "    <tr>\n",
              "      <th>23195</th>\n",
              "      <td>standalone villa</td>\n",
              "      <td>170000.0</td>\n",
              "      <td>1.0</td>\n",
              "      <td>4.0</td>\n",
              "      <td>680.0</td>\n",
              "      <td>No</td>\n",
              "      <td>-1</td>\n",
              "      <td>Cash</td>\n",
              "      <td>New Cairo - El Tagamoa</td>\n",
              "    </tr>\n",
              "    <tr>\n",
              "      <th>23352</th>\n",
              "      <td>standalone villa</td>\n",
              "      <td>8000000.0</td>\n",
              "      <td>3.0</td>\n",
              "      <td>6.0</td>\n",
              "      <td>770.0</td>\n",
              "      <td>No</td>\n",
              "      <td>-1</td>\n",
              "      <td>Installment</td>\n",
              "      <td>Sheikh Zayed</td>\n",
              "    </tr>\n",
              "    <tr>\n",
              "      <th>23603</th>\n",
              "      <td>standalone villa</td>\n",
              "      <td>48000000.0</td>\n",
              "      <td>7.0</td>\n",
              "      <td>10.0</td>\n",
              "      <td>710.0</td>\n",
              "      <td>No</td>\n",
              "      <td>-1</td>\n",
              "      <td>Cash</td>\n",
              "      <td>New Cairo - El Tagamoa</td>\n",
              "    </tr>\n",
              "    <tr>\n",
              "      <th>23632</th>\n",
              "      <td>standalone villa</td>\n",
              "      <td>16000000.0</td>\n",
              "      <td>4.0</td>\n",
              "      <td>7.0</td>\n",
              "      <td>500.0</td>\n",
              "      <td>No</td>\n",
              "      <td>-1</td>\n",
              "      <td>Cash</td>\n",
              "      <td>New Cairo - El Tagamoa</td>\n",
              "    </tr>\n",
              "    <tr>\n",
              "      <th>23980</th>\n",
              "      <td>standalone villa</td>\n",
              "      <td>15000000.0</td>\n",
              "      <td>5.0</td>\n",
              "      <td>9.0</td>\n",
              "      <td>890.0</td>\n",
              "      <td>Yes</td>\n",
              "      <td>-1</td>\n",
              "      <td>Cash</td>\n",
              "      <td>New Cairo - El Tagamoa</td>\n",
              "    </tr>\n",
              "    <tr>\n",
              "      <th>24311</th>\n",
              "      <td>standalone villa</td>\n",
              "      <td>3849999.0</td>\n",
              "      <td>3.0</td>\n",
              "      <td>6.0</td>\n",
              "      <td>304.0</td>\n",
              "      <td>No</td>\n",
              "      <td>-1</td>\n",
              "      <td>Cash or Installment</td>\n",
              "      <td>Sheikh Zayed</td>\n",
              "    </tr>\n",
              "    <tr>\n",
              "      <th>25491</th>\n",
              "      <td>twin house</td>\n",
              "      <td>8500000.0</td>\n",
              "      <td>5.0</td>\n",
              "      <td>8.0</td>\n",
              "      <td>460.0</td>\n",
              "      <td>No</td>\n",
              "      <td>-1</td>\n",
              "      <td>Cash</td>\n",
              "      <td>Zahraa Al Maadi</td>\n",
              "    </tr>\n",
              "    <tr>\n",
              "      <th>25911</th>\n",
              "      <td>standalone villa</td>\n",
              "      <td>11500000.0</td>\n",
              "      <td>4.0</td>\n",
              "      <td>8.0</td>\n",
              "      <td>400.0</td>\n",
              "      <td>No</td>\n",
              "      <td>-1</td>\n",
              "      <td>Cash</td>\n",
              "      <td>New Cairo - El Tagamoa</td>\n",
              "    </tr>\n",
              "    <tr>\n",
              "      <th>25991</th>\n",
              "      <td>standalone villa</td>\n",
              "      <td>19000000.0</td>\n",
              "      <td>4.0</td>\n",
              "      <td>7.0</td>\n",
              "      <td>380.0</td>\n",
              "      <td>No</td>\n",
              "      <td>-1</td>\n",
              "      <td>Cash</td>\n",
              "      <td>Sheikh Zayed</td>\n",
              "    </tr>\n",
              "  </tbody>\n",
              "</table>\n",
              "</div>"
            ],
            "text/plain": [
              "                   Type       Price  Bedrooms  Bathrooms   Area Furnished  \\\n",
              "11020        town house  16500000.0       6.0       10.0  420.0        No   \n",
              "13515  standalone villa  33000000.0       4.0        7.0  450.0       Yes   \n",
              "13519  standalone villa  36000000.0       4.0        7.0  350.0       Yes   \n",
              "13792  standalone villa  16000000.0       4.0        7.0  400.0       Yes   \n",
              "13870  standalone villa  26000000.0       6.0        9.0  339.0        No   \n",
              "14798  standalone villa  20000000.0       5.0        8.0  580.0        No   \n",
              "17150  standalone villa  75000000.0       5.0        8.0  464.0        No   \n",
              "17515  standalone villa    450000.0       4.0        7.0  374.0        No   \n",
              "18791  standalone villa  18000000.0       6.0       10.0  350.0       Yes   \n",
              "19947  standalone villa  12500000.0       6.0       10.0  586.0        No   \n",
              "21020        twin house   6900000.0       4.0        8.0  384.0        No   \n",
              "21039  standalone villa  20000000.0       4.0        7.0  570.0       Yes   \n",
              "21466        town house   4094668.0       4.0        7.0  253.0        No   \n",
              "23195  standalone villa    170000.0       1.0        4.0  680.0        No   \n",
              "23352  standalone villa   8000000.0       3.0        6.0  770.0        No   \n",
              "23603  standalone villa  48000000.0       7.0       10.0  710.0        No   \n",
              "23632  standalone villa  16000000.0       4.0        7.0  500.0        No   \n",
              "23980  standalone villa  15000000.0       5.0        9.0  890.0       Yes   \n",
              "24311  standalone villa   3849999.0       3.0        6.0  304.0        No   \n",
              "25491        twin house   8500000.0       5.0        8.0  460.0        No   \n",
              "25911  standalone villa  11500000.0       4.0        8.0  400.0        No   \n",
              "25991  standalone villa  19000000.0       4.0        7.0  380.0        No   \n",
              "\n",
              "       Level       Payment_Option                    City  \n",
              "11020     -1                 Cash              Heliopolis  \n",
              "13515     -1                 Cash             North Coast  \n",
              "13519     -1                 Cash             North Coast  \n",
              "13792     -1                 Cash                 Alamein  \n",
              "13870     -1  Cash or Installment             North Coast  \n",
              "14798     -1                 Cash             North Coast  \n",
              "17150     -1  Cash or Installment             North Coast  \n",
              "17515     -1  Cash or Installment             North Coast  \n",
              "18791     -1  Cash or Installment            Sheikh Zayed  \n",
              "19947     -1                 Cash  New Cairo - El Tagamoa  \n",
              "21020     -1  Cash or Installment            Sheikh Zayed  \n",
              "21039     -1                 Cash  New Cairo - El Tagamoa  \n",
              "21466     -1  Cash or Installment            Sheikh Zayed  \n",
              "23195     -1                 Cash  New Cairo - El Tagamoa  \n",
              "23352     -1          Installment            Sheikh Zayed  \n",
              "23603     -1                 Cash  New Cairo - El Tagamoa  \n",
              "23632     -1                 Cash  New Cairo - El Tagamoa  \n",
              "23980     -1                 Cash  New Cairo - El Tagamoa  \n",
              "24311     -1  Cash or Installment            Sheikh Zayed  \n",
              "25491     -1                 Cash         Zahraa Al Maadi  \n",
              "25911     -1                 Cash  New Cairo - El Tagamoa  \n",
              "25991     -1                 Cash            Sheikh Zayed  "
            ]
          },
          "execution_count": 55,
          "metadata": {},
          "output_type": "execute_result"
        }
      ],
      "source": [
        "df[df.Bathrooms > df.Bedrooms+2]"
      ]
    },
    {
      "cell_type": "code",
      "execution_count": 56,
      "metadata": {
        "id": "_GN0VNOkQF9H"
      },
      "outputs": [],
      "source": [
        "df.drop(df[df.Bathrooms > df.Bedrooms+2].index,inplace=True)"
      ]
    },
    {
      "cell_type": "markdown",
      "metadata": {
        "id": "2rFh0Au2QF9H"
      },
      "source": [
        "## price outliers detection and removal"
      ]
    },
    {
      "cell_type": "code",
      "execution_count": 57,
      "metadata": {
        "colab": {
          "base_uri": "https://localhost:8080/",
          "height": 335
        },
        "id": "Ao80MWqeQF9H",
        "outputId": "2b6e7d92-9da4-4925-e1a5-7d1f5bae1517"
      },
      "outputs": [
        {
          "data": {
            "text/plain": [
              "count        24592.0\n",
              "mean       4521694.1\n",
              "std        5660292.3\n",
              "min          30000.0\n",
              "25%        1200000.0\n",
              "50%        2729000.0\n",
              "75%        5825974.0\n",
              "max      205000000.0\n",
              "Name: Price, dtype: float64"
            ]
          },
          "execution_count": 57,
          "metadata": {},
          "output_type": "execute_result"
        }
      ],
      "source": [
        "df.Price.describe().round(1)"
      ]
    },
    {
      "cell_type": "markdown",
      "metadata": {
        "id": "LDu2igffQF9I"
      },
      "source": [
        "we have minimum of 30k and maximum of 205m where the actual minimum price for house is around 800k and maximum of 65m"
      ]
    },
    {
      "cell_type": "code",
      "execution_count": 58,
      "metadata": {
        "id": "pnApGXpSQF9I"
      },
      "outputs": [],
      "source": [
        "df = df[~((df['Price'] < 800000) | (df['Price'] >= 65000000))]"
      ]
    },
    {
      "cell_type": "code",
      "execution_count": 59,
      "metadata": {
        "colab": {
          "base_uri": "https://localhost:8080/",
          "height": 143
        },
        "id": "_27dH6C2QF9I",
        "outputId": "3782f824-e384-4413-9694-223f28a3b2b7"
      },
      "outputs": [
        {
          "data": {
            "text/html": [
              "<div>\n",
              "<style scoped>\n",
              "    .dataframe tbody tr th:only-of-type {\n",
              "        vertical-align: middle;\n",
              "    }\n",
              "\n",
              "    .dataframe tbody tr th {\n",
              "        vertical-align: top;\n",
              "    }\n",
              "\n",
              "    .dataframe thead th {\n",
              "        text-align: right;\n",
              "    }\n",
              "</style>\n",
              "<table border=\"1\" class=\"dataframe\">\n",
              "  <thead>\n",
              "    <tr style=\"text-align: right;\">\n",
              "      <th></th>\n",
              "      <th>Type</th>\n",
              "      <th>Price</th>\n",
              "      <th>Bedrooms</th>\n",
              "      <th>Bathrooms</th>\n",
              "      <th>Area</th>\n",
              "      <th>Furnished</th>\n",
              "      <th>Level</th>\n",
              "      <th>Payment_Option</th>\n",
              "      <th>City</th>\n",
              "      <th>price_per_m2</th>\n",
              "    </tr>\n",
              "  </thead>\n",
              "  <tbody>\n",
              "    <tr>\n",
              "      <th>7366</th>\n",
              "      <td>duplex</td>\n",
              "      <td>10000000.0</td>\n",
              "      <td>3.0</td>\n",
              "      <td>4.0</td>\n",
              "      <td>320.0</td>\n",
              "      <td>No</td>\n",
              "      <td>0</td>\n",
              "      <td>Cash</td>\n",
              "      <td>Mokattam</td>\n",
              "      <td>31250.00</td>\n",
              "    </tr>\n",
              "    <tr>\n",
              "      <th>1665</th>\n",
              "      <td>apartment</td>\n",
              "      <td>3500000.0</td>\n",
              "      <td>3.0</td>\n",
              "      <td>1.0</td>\n",
              "      <td>160.0</td>\n",
              "      <td>No</td>\n",
              "      <td>2</td>\n",
              "      <td>Cash</td>\n",
              "      <td>New Cairo - El Tagamoa</td>\n",
              "      <td>21875.00</td>\n",
              "    </tr>\n",
              "    <tr>\n",
              "      <th>20530</th>\n",
              "      <td>standalone villa</td>\n",
              "      <td>7000000.0</td>\n",
              "      <td>5.0</td>\n",
              "      <td>5.0</td>\n",
              "      <td>645.0</td>\n",
              "      <td>No</td>\n",
              "      <td>-1</td>\n",
              "      <td>Installment</td>\n",
              "      <td>New Cairo - El Tagamoa</td>\n",
              "      <td>10852.71</td>\n",
              "    </tr>\n",
              "  </tbody>\n",
              "</table>\n",
              "</div>"
            ],
            "text/plain": [
              "                   Type       Price  Bedrooms  Bathrooms   Area Furnished  \\\n",
              "7366             duplex  10000000.0       3.0        4.0  320.0        No   \n",
              "1665          apartment   3500000.0       3.0        1.0  160.0        No   \n",
              "20530  standalone villa   7000000.0       5.0        5.0  645.0        No   \n",
              "\n",
              "       Level Payment_Option                    City  price_per_m2  \n",
              "7366       0           Cash                Mokattam      31250.00  \n",
              "1665       2           Cash  New Cairo - El Tagamoa      21875.00  \n",
              "20530     -1    Installment  New Cairo - El Tagamoa      10852.71  "
            ]
          },
          "execution_count": 59,
          "metadata": {},
          "output_type": "execute_result"
        }
      ],
      "source": [
        "#lets get the price per m2 of each house\n",
        "df['price_per_m2'] = (df['Price']/df['Area']).round(2)\n",
        "df.sample(3)"
      ]
    },
    {
      "cell_type": "markdown",
      "metadata": {
        "id": "dcQEknTkQF9I"
      },
      "source": [
        "Now lets remove the outliers from each type of houses"
      ]
    },
    {
      "cell_type": "code",
      "execution_count": 60,
      "metadata": {
        "colab": {
          "base_uri": "https://localhost:8080/"
        },
        "id": "l472l95BQF9I",
        "outputId": "e61440e5-e13f-43fb-eb1d-39530349cf54"
      },
      "outputs": [
        {
          "data": {
            "text/plain": [
              "(16309, 10)"
            ]
          },
          "execution_count": 60,
          "metadata": {},
          "output_type": "execute_result"
        }
      ],
      "source": [
        "def remove_pps_outliers(df):\n",
        "    df_out = pd.DataFrame()\n",
        "    for key, subdf in df.groupby('Type'):\n",
        "        m = np.mean(subdf.price_per_m2)\n",
        "        st = np.std(subdf.price_per_m2)\n",
        "        reduced_df = subdf[(subdf.price_per_m2>=(m-st)) & (subdf.price_per_m2<=(m+st))]\n",
        "        df_out = pd.concat([df_out,reduced_df],ignore_index=True)\n",
        "    return df_out\n",
        "df = remove_pps_outliers(df)\n",
        "df.shape"
      ]
    },
    {
      "cell_type": "code",
      "execution_count": 61,
      "metadata": {
        "colab": {
          "base_uri": "https://localhost:8080/"
        },
        "id": "VmBoaQ3IQF9J",
        "outputId": "460ba19e-44df-412c-fba6-9e9895937387"
      },
      "outputs": [
        {
          "data": {
            "text/plain": [
              "(16309, 10)"
            ]
          },
          "execution_count": 61,
          "metadata": {},
          "output_type": "execute_result"
        }
      ],
      "source": [
        "df.shape"
      ]
    },
    {
      "cell_type": "code",
      "execution_count": 62,
      "metadata": {
        "colab": {
          "base_uri": "https://localhost:8080/",
          "height": 335
        },
        "id": "PdOEazX-QF9J",
        "outputId": "80d9282e-18f9-448b-b11d-1e0bf07645d2"
      },
      "outputs": [
        {
          "data": {
            "text/plain": [
              "count       16309.0\n",
              "mean      4937336.3\n",
              "std       4244634.4\n",
              "min        800000.0\n",
              "25%       2100000.0\n",
              "50%       3500000.0\n",
              "75%       6450000.0\n",
              "max      34000000.0\n",
              "Name: Price, dtype: float64"
            ]
          },
          "execution_count": 62,
          "metadata": {},
          "output_type": "execute_result"
        }
      ],
      "source": [
        "df.Price.describe().round(1)"
      ]
    },
    {
      "cell_type": "code",
      "execution_count": 63,
      "metadata": {
        "colab": {
          "base_uri": "https://localhost:8080/",
          "height": 206
        },
        "id": "su1dAt4gQF9K",
        "outputId": "0d4fd7bc-95f8-4e44-c9a2-a4f9d227a131"
      },
      "outputs": [
        {
          "data": {
            "text/html": [
              "<div>\n",
              "<style scoped>\n",
              "    .dataframe tbody tr th:only-of-type {\n",
              "        vertical-align: middle;\n",
              "    }\n",
              "\n",
              "    .dataframe tbody tr th {\n",
              "        vertical-align: top;\n",
              "    }\n",
              "\n",
              "    .dataframe thead th {\n",
              "        text-align: right;\n",
              "    }\n",
              "</style>\n",
              "<table border=\"1\" class=\"dataframe\">\n",
              "  <thead>\n",
              "    <tr style=\"text-align: right;\">\n",
              "      <th></th>\n",
              "      <th>Type</th>\n",
              "      <th>Price</th>\n",
              "      <th>Bedrooms</th>\n",
              "      <th>Bathrooms</th>\n",
              "      <th>Area</th>\n",
              "      <th>Furnished</th>\n",
              "      <th>Level</th>\n",
              "      <th>Payment_Option</th>\n",
              "      <th>City</th>\n",
              "      <th>price_per_m2</th>\n",
              "    </tr>\n",
              "  </thead>\n",
              "  <tbody>\n",
              "    <tr>\n",
              "      <th>15990</th>\n",
              "      <td>twin house</td>\n",
              "      <td>7700000.0</td>\n",
              "      <td>5.0</td>\n",
              "      <td>4.0</td>\n",
              "      <td>400.0</td>\n",
              "      <td>No</td>\n",
              "      <td>-1</td>\n",
              "      <td>Cash or Installment</td>\n",
              "      <td>Sheikh Zayed</td>\n",
              "      <td>19250.00</td>\n",
              "    </tr>\n",
              "    <tr>\n",
              "      <th>10254</th>\n",
              "      <td>standalone villa</td>\n",
              "      <td>17000000.0</td>\n",
              "      <td>4.0</td>\n",
              "      <td>5.0</td>\n",
              "      <td>440.0</td>\n",
              "      <td>No</td>\n",
              "      <td>-1</td>\n",
              "      <td>Cash</td>\n",
              "      <td>Madinaty</td>\n",
              "      <td>38636.36</td>\n",
              "    </tr>\n",
              "    <tr>\n",
              "      <th>5560</th>\n",
              "      <td>chalet</td>\n",
              "      <td>2500000.0</td>\n",
              "      <td>3.0</td>\n",
              "      <td>2.0</td>\n",
              "      <td>120.0</td>\n",
              "      <td>No</td>\n",
              "      <td>0</td>\n",
              "      <td>Cash or Installment</td>\n",
              "      <td>North Coast</td>\n",
              "      <td>20833.33</td>\n",
              "    </tr>\n",
              "    <tr>\n",
              "      <th>2996</th>\n",
              "      <td>apartment</td>\n",
              "      <td>1900000.0</td>\n",
              "      <td>3.0</td>\n",
              "      <td>2.0</td>\n",
              "      <td>138.0</td>\n",
              "      <td>No</td>\n",
              "      <td>7</td>\n",
              "      <td>Cash or Installment</td>\n",
              "      <td>Zahraa Al Maadi</td>\n",
              "      <td>13768.12</td>\n",
              "    </tr>\n",
              "    <tr>\n",
              "      <th>6458</th>\n",
              "      <td>chalet</td>\n",
              "      <td>6600000.0</td>\n",
              "      <td>3.0</td>\n",
              "      <td>3.0</td>\n",
              "      <td>220.0</td>\n",
              "      <td>Yes</td>\n",
              "      <td>1</td>\n",
              "      <td>Cash</td>\n",
              "      <td>North Coast</td>\n",
              "      <td>30000.00</td>\n",
              "    </tr>\n",
              "  </tbody>\n",
              "</table>\n",
              "</div>"
            ],
            "text/plain": [
              "                   Type       Price  Bedrooms  Bathrooms   Area Furnished  \\\n",
              "15990        twin house   7700000.0       5.0        4.0  400.0        No   \n",
              "10254  standalone villa  17000000.0       4.0        5.0  440.0        No   \n",
              "5560             chalet   2500000.0       3.0        2.0  120.0        No   \n",
              "2996          apartment   1900000.0       3.0        2.0  138.0        No   \n",
              "6458             chalet   6600000.0       3.0        3.0  220.0       Yes   \n",
              "\n",
              "       Level       Payment_Option             City  price_per_m2  \n",
              "15990     -1  Cash or Installment     Sheikh Zayed      19250.00  \n",
              "10254     -1                 Cash         Madinaty      38636.36  \n",
              "5560       0  Cash or Installment      North Coast      20833.33  \n",
              "2996       7  Cash or Installment  Zahraa Al Maadi      13768.12  \n",
              "6458       1                 Cash      North Coast      30000.00  "
            ]
          },
          "execution_count": 63,
          "metadata": {},
          "output_type": "execute_result"
        }
      ],
      "source": [
        "df.sample(5)"
      ]
    },
    {
      "cell_type": "markdown",
      "metadata": {
        "id": "utbUbiQZQF9K"
      },
      "source": [
        "# data visualization"
      ]
    },
    {
      "cell_type": "code",
      "execution_count": 64,
      "metadata": {
        "colab": {
          "base_uri": "https://localhost:8080/",
          "height": 493
        },
        "id": "atU_D7TjQF9K",
        "outputId": "7985e857-1cf4-49a4-e92b-2df67b391d53"
      },
      "outputs": [
        {
          "data": {
            "image/png": "[encoded data removed]",
            "text/plain": [
              "<Figure size 1200x500 with 1 Axes>"
            ]
          },
          "metadata": {},
          "output_type": "display_data"
        }
      ],
      "source": [
        "plt.figure(figsize=(12,5))\n",
        "sns.barplot(data=df, x='Type', y='Price')\n",
        "plt.tight_layout()\n",
        "plt.show()"
      ]
    },
    {
      "cell_type": "code",
      "execution_count": 65,
      "metadata": {
        "colab": {
          "base_uri": "https://localhost:8080/",
          "height": 476
        },
        "id": "2HIfeEmJQF9K",
        "outputId": "154f69a5-de26-470c-b124-e3975274e04a"
      },
      "outputs": [
        {
          "data": {
            "image/png": "[encoded data removed]",
            "text/plain": [
              "<Figure size 2500x1000 with 6 Axes>"
            ]
          },
          "metadata": {},
          "output_type": "display_data"
        }
      ],
      "source": [
        "fig,axs = plt.subplots(2,3,figsize=(25,10))\n",
        "sns.barplot(data=df, x='Price', y='Payment_Option',ax=axs[0,0])\n",
        "sns.barplot(data=df, x='Price', y='Furnished',ax=axs[0,1])\n",
        "sns.scatterplot(data=df,x='Level',y='Price',ax=axs[0,2])\n",
        "sns.scatterplot(data=df,x='Bedrooms',y='Price',ax=axs[1,0])\n",
        "sns.scatterplot(data=df,x='Bathrooms',y='Price',ax=axs[1,1])\n",
        "axs[1,2].axis('off')\n",
        "plt.tight_layout()\n",
        "plt.show()"
      ]
    },
    {
      "cell_type": "markdown",
      "metadata": {
        "id": "PO17te-AQF9L"
      },
      "source": [
        "# Data Preprocessing"
      ]
    },
    {
      "cell_type": "code",
      "execution_count": 66,
      "metadata": {
        "colab": {
          "base_uri": "https://localhost:8080/"
        },
        "id": "1DfG7MDqQF9L",
        "outputId": "e15ab1ec-2932-4860-e1ba-2fc7cb5d35c0"
      },
      "outputs": [
        {
          "data": {
            "text/plain": [
              "array(['apartment', 'chalet', 'duplex', 'standalone villa', 'town house',\n",
              "       'twin house'], dtype=object)"
            ]
          },
          "execution_count": 66,
          "metadata": {},
          "output_type": "execute_result"
        }
      ],
      "source": [
        "df['Type'].unique()"
      ]
    },
    {
      "cell_type": "code",
      "execution_count": 67,
      "metadata": {
        "colab": {
          "base_uri": "https://localhost:8080/"
        },
        "id": "7kNSkGo2QF9L",
        "outputId": "c5757913-0f9f-4072-a5fe-6b8b3c9ba720"
      },
      "outputs": [
        {
          "data": {
            "text/plain": [
              "array([0, 2, 1, 5, 4, 3])"
            ]
          },
          "execution_count": 67,
          "metadata": {},
          "output_type": "execute_result"
        }
      ],
      "source": [
        "df['Type'] = df['Type'].map({'apartment' : 0 , 'duplex' : 1 , 'chalet' : 2 , 'twin house' : 3 , 'town house' : 4 , 'standalone villa' : 5 })\n",
        "df[\"Type\"].unique()"
      ]
    },
    {
      "cell_type": "code",
      "execution_count": 68,
      "metadata": {
        "colab": {
          "base_uri": "https://localhost:8080/"
        },
        "id": "VrePO55MQF9M",
        "outputId": "88d186e6-0732-48c4-abee-58e99f98e8e4"
      },
      "outputs": [
        {
          "data": {
            "text/plain": [
              "array([0, 1])"
            ]
          },
          "execution_count": 68,
          "metadata": {},
          "output_type": "execute_result"
        }
      ],
      "source": [
        "df['Furnished'] = df['Furnished'].map({'No' : 0 , 'Yes' : 1})\n",
        "df['Furnished'].unique()"
      ]
    },
    {
      "cell_type": "code",
      "execution_count": 69,
      "metadata": {
        "colab": {
          "base_uri": "https://localhost:8080/"
        },
        "id": "6NaELVqnQF9M",
        "outputId": "10c2bc16-e91d-4fa4-855a-c5defc578470"
      },
      "outputs": [
        {
          "data": {
            "text/plain": [
              "array(['Cash', 'Cash or Installment', 'Installment'], dtype=object)"
            ]
          },
          "execution_count": 69,
          "metadata": {},
          "output_type": "execute_result"
        }
      ],
      "source": [
        "df['Payment_Option'].unique()"
      ]
    },
    {
      "cell_type": "code",
      "execution_count": 70,
      "metadata": {
        "colab": {
          "base_uri": "https://localhost:8080/"
        },
        "id": "NBv6Mh8_QF9M",
        "outputId": "730b7603-597c-448b-a71d-a835dfc5cc09"
      },
      "outputs": [
        {
          "data": {
            "text/plain": [
              "array([0, 2, 1])"
            ]
          },
          "execution_count": 70,
          "metadata": {},
          "output_type": "execute_result"
        }
      ],
      "source": [
        "df['Payment_Option'] = df['Payment_Option'].map({'Cash' : 0 , 'Installment' : 1,'Cash or Installment' : 2})\n",
        "df['Payment_Option'].unique()"
      ]
    },
    {
      "cell_type": "code",
      "execution_count": 71,
      "metadata": {
        "colab": {
          "base_uri": "https://localhost:8080/",
          "height": 143
        },
        "id": "UQfLMkUyQF9M",
        "outputId": "2dafe944-a582-45df-d842-57f739c0426d"
      },
      "outputs": [
        {
          "data": {
            "text/html": [
              "<div>\n",
              "<style scoped>\n",
              "    .dataframe tbody tr th:only-of-type {\n",
              "        vertical-align: middle;\n",
              "    }\n",
              "\n",
              "    .dataframe tbody tr th {\n",
              "        vertical-align: top;\n",
              "    }\n",
              "\n",
              "    .dataframe thead th {\n",
              "        text-align: right;\n",
              "    }\n",
              "</style>\n",
              "<table border=\"1\" class=\"dataframe\">\n",
              "  <thead>\n",
              "    <tr style=\"text-align: right;\">\n",
              "      <th></th>\n",
              "      <th>Type</th>\n",
              "      <th>Price</th>\n",
              "      <th>Bedrooms</th>\n",
              "      <th>Bathrooms</th>\n",
              "      <th>Area</th>\n",
              "      <th>Furnished</th>\n",
              "      <th>Level</th>\n",
              "      <th>Payment_Option</th>\n",
              "      <th>City</th>\n",
              "      <th>price_per_m2</th>\n",
              "    </tr>\n",
              "  </thead>\n",
              "  <tbody>\n",
              "    <tr>\n",
              "      <th>3700</th>\n",
              "      <td>0</td>\n",
              "      <td>3602000.0</td>\n",
              "      <td>3.0</td>\n",
              "      <td>2.0</td>\n",
              "      <td>160.0</td>\n",
              "      <td>0</td>\n",
              "      <td>2</td>\n",
              "      <td>1</td>\n",
              "      <td>New Cairo - El Tagamoa</td>\n",
              "      <td>22512.50</td>\n",
              "    </tr>\n",
              "    <tr>\n",
              "      <th>2858</th>\n",
              "      <td>0</td>\n",
              "      <td>5000000.0</td>\n",
              "      <td>3.0</td>\n",
              "      <td>4.0</td>\n",
              "      <td>300.0</td>\n",
              "      <td>0</td>\n",
              "      <td>3</td>\n",
              "      <td>0</td>\n",
              "      <td>New Cairo - El Tagamoa</td>\n",
              "      <td>16666.67</td>\n",
              "    </tr>\n",
              "    <tr>\n",
              "      <th>3708</th>\n",
              "      <td>0</td>\n",
              "      <td>3600000.0</td>\n",
              "      <td>4.0</td>\n",
              "      <td>3.0</td>\n",
              "      <td>345.0</td>\n",
              "      <td>0</td>\n",
              "      <td>1</td>\n",
              "      <td>0</td>\n",
              "      <td>New Cairo - El Tagamoa</td>\n",
              "      <td>10434.78</td>\n",
              "    </tr>\n",
              "  </tbody>\n",
              "</table>\n",
              "</div>"
            ],
            "text/plain": [
              "      Type      Price  Bedrooms  Bathrooms   Area  Furnished  Level  \\\n",
              "3700     0  3602000.0       3.0        2.0  160.0          0      2   \n",
              "2858     0  5000000.0       3.0        4.0  300.0          0      3   \n",
              "3708     0  3600000.0       4.0        3.0  345.0          0      1   \n",
              "\n",
              "      Payment_Option                    City  price_per_m2  \n",
              "3700               1  New Cairo - El Tagamoa      22512.50  \n",
              "2858               0  New Cairo - El Tagamoa      16666.67  \n",
              "3708               0  New Cairo - El Tagamoa      10434.78  "
            ]
          },
          "execution_count": 71,
          "metadata": {},
          "output_type": "execute_result"
        }
      ],
      "source": [
        "df.sample(3)"
      ]
    },
    {
      "cell_type": "markdown",
      "metadata": {
        "id": "0PFFUJEeQF9N"
      },
      "source": [
        "Before we preprocess the price column lets see its visualization with the are"
      ]
    },
    {
      "cell_type": "code",
      "execution_count": 72,
      "metadata": {
        "colab": {
          "base_uri": "https://localhost:8080/",
          "height": 397
        },
        "id": "o0aRPNcaQF9N",
        "outputId": "bc56d8ea-05b9-402b-e313-20d16c9e3ce6"
      },
      "outputs": [
        {
          "data": {
            "image/png": "[encoded data removed]",
            "text/plain": [
              "<Figure size 1500x500 with 3 Axes>"
            ]
          },
          "metadata": {},
          "output_type": "display_data"
        }
      ],
      "source": [
        "fig, axs = plt.subplots(1, 3, figsize=(15, 5))\n",
        "sns.scatterplot(data=df, x='Area', y='Price',ax=axs[0])\n",
        "sns.histplot(df['Area'], kde=True, color='skyblue', bins=10,ax=axs[1])\n",
        "sns.histplot(df['Price'], kde=True, color='skyblue',ax=axs[2])\n",
        "plt.tight_layout()\n",
        "plt.show()"
      ]
    },
    {
      "cell_type": "markdown",
      "metadata": {
        "id": "66ZfzNM6QF9N"
      },
      "source": [
        "as we have very prices lets scale it with the log scaling technique that wil also make normal distrubited"
      ]
    },
    {
      "cell_type": "code",
      "execution_count": 73,
      "metadata": {
        "id": "ZI-_noy1QF9N"
      },
      "outputs": [],
      "source": [
        "df['Log_Price'] = np.log(df['Price'])"
      ]
    },
    {
      "cell_type": "code",
      "execution_count": 74,
      "metadata": {
        "colab": {
          "base_uri": "https://localhost:8080/",
          "height": 143
        },
        "id": "dQ_vDADzQF9O",
        "outputId": "75278243-20ec-4dad-d84e-a8d7bd344238"
      },
      "outputs": [
        {
          "data": {
            "text/html": [
              "<div>\n",
              "<style scoped>\n",
              "    .dataframe tbody tr th:only-of-type {\n",
              "        vertical-align: middle;\n",
              "    }\n",
              "\n",
              "    .dataframe tbody tr th {\n",
              "        vertical-align: top;\n",
              "    }\n",
              "\n",
              "    .dataframe thead th {\n",
              "        text-align: right;\n",
              "    }\n",
              "</style>\n",
              "<table border=\"1\" class=\"dataframe\">\n",
              "  <thead>\n",
              "    <tr style=\"text-align: right;\">\n",
              "      <th></th>\n",
              "      <th>Type</th>\n",
              "      <th>Price</th>\n",
              "      <th>Bedrooms</th>\n",
              "      <th>Bathrooms</th>\n",
              "      <th>Area</th>\n",
              "      <th>Furnished</th>\n",
              "      <th>Level</th>\n",
              "      <th>Payment_Option</th>\n",
              "      <th>City</th>\n",
              "      <th>price_per_m2</th>\n",
              "      <th>Log_Price</th>\n",
              "    </tr>\n",
              "  </thead>\n",
              "  <tbody>\n",
              "    <tr>\n",
              "      <th>3236</th>\n",
              "      <td>0</td>\n",
              "      <td>3000000.0</td>\n",
              "      <td>4.0</td>\n",
              "      <td>2.0</td>\n",
              "      <td>200.0</td>\n",
              "      <td>0</td>\n",
              "      <td>1</td>\n",
              "      <td>2</td>\n",
              "      <td>Sheikh Zayed</td>\n",
              "      <td>15000.00</td>\n",
              "      <td>14.914123</td>\n",
              "    </tr>\n",
              "    <tr>\n",
              "      <th>3190</th>\n",
              "      <td>0</td>\n",
              "      <td>2300000.0</td>\n",
              "      <td>2.0</td>\n",
              "      <td>2.0</td>\n",
              "      <td>125.0</td>\n",
              "      <td>0</td>\n",
              "      <td>3</td>\n",
              "      <td>1</td>\n",
              "      <td>New Capital City</td>\n",
              "      <td>18400.00</td>\n",
              "      <td>14.648420</td>\n",
              "    </tr>\n",
              "    <tr>\n",
              "      <th>14178</th>\n",
              "      <td>4</td>\n",
              "      <td>5000000.0</td>\n",
              "      <td>4.0</td>\n",
              "      <td>4.0</td>\n",
              "      <td>280.0</td>\n",
              "      <td>0</td>\n",
              "      <td>-1</td>\n",
              "      <td>2</td>\n",
              "      <td>New Cairo - El Tagamoa</td>\n",
              "      <td>17857.14</td>\n",
              "      <td>15.424948</td>\n",
              "    </tr>\n",
              "  </tbody>\n",
              "</table>\n",
              "</div>"
            ],
            "text/plain": [
              "       Type      Price  Bedrooms  Bathrooms   Area  Furnished  Level  \\\n",
              "3236      0  3000000.0       4.0        2.0  200.0          0      1   \n",
              "3190      0  2300000.0       2.0        2.0  125.0          0      3   \n",
              "14178     4  5000000.0       4.0        4.0  280.0          0     -1   \n",
              "\n",
              "       Payment_Option                    City  price_per_m2  Log_Price  \n",
              "3236                2            Sheikh Zayed      15000.00  14.914123  \n",
              "3190                1        New Capital City      18400.00  14.648420  \n",
              "14178               2  New Cairo - El Tagamoa      17857.14  15.424948  "
            ]
          },
          "execution_count": 74,
          "metadata": {},
          "output_type": "execute_result"
        }
      ],
      "source": [
        "df.sample(3)"
      ]
    },
    {
      "cell_type": "markdown",
      "metadata": {
        "id": "w8y9jCovQF9O"
      },
      "source": [
        "lets visualize log price distrubition and it versus the area"
      ]
    },
    {
      "cell_type": "code",
      "execution_count": 75,
      "metadata": {
        "colab": {
          "base_uri": "https://localhost:8080/",
          "height": 506
        },
        "id": "DzhWj29CQF9O",
        "outputId": "f5335d6a-9720-4be5-b864-51526b256b21"
      },
      "outputs": [
        {
          "data": {
            "image/png": "[encoded data removed]",
            "text/plain": [
              "<Figure size 1000x500 with 2 Axes>"
            ]
          },
          "metadata": {},
          "output_type": "display_data"
        }
      ],
      "source": [
        "fig, axs = plt.subplots(1, 2, figsize=(10, 5))\n",
        "sns.scatterplot(data=df, x='Area', y='Log_Price',ax=axs[0])\n",
        "sns.histplot(df['Log_Price'], kde=True, color='skyblue',ax=axs[1])\n",
        "plt.tight_layout()\n",
        "plt.show()"
      ]
    },
    {
      "cell_type": "markdown",
      "metadata": {
        "id": "ybOhJI_CQF9O"
      },
      "source": [
        "it looks pretty good so now lets drop the price_per_m2 and price columns as we dont need them any more"
      ]
    },
    {
      "cell_type": "code",
      "execution_count": 76,
      "metadata": {
        "colab": {
          "base_uri": "https://localhost:8080/",
          "height": 143
        },
        "id": "D1IBrKAaQF9P",
        "outputId": "deb3fc55-49cf-4c60-9c04-f979339781d6"
      },
      "outputs": [
        {
          "data": {
            "text/html": [
              "<div>\n",
              "<style scoped>\n",
              "    .dataframe tbody tr th:only-of-type {\n",
              "        vertical-align: middle;\n",
              "    }\n",
              "\n",
              "    .dataframe tbody tr th {\n",
              "        vertical-align: top;\n",
              "    }\n",
              "\n",
              "    .dataframe thead th {\n",
              "        text-align: right;\n",
              "    }\n",
              "</style>\n",
              "<table border=\"1\" class=\"dataframe\">\n",
              "  <thead>\n",
              "    <tr style=\"text-align: right;\">\n",
              "      <th></th>\n",
              "      <th>Type</th>\n",
              "      <th>Bedrooms</th>\n",
              "      <th>Bathrooms</th>\n",
              "      <th>Area</th>\n",
              "      <th>Furnished</th>\n",
              "      <th>Level</th>\n",
              "      <th>Payment_Option</th>\n",
              "      <th>City</th>\n",
              "      <th>Log_Price</th>\n",
              "    </tr>\n",
              "  </thead>\n",
              "  <tbody>\n",
              "    <tr>\n",
              "      <th>9466</th>\n",
              "      <td>5</td>\n",
              "      <td>4.0</td>\n",
              "      <td>3.0</td>\n",
              "      <td>240.0</td>\n",
              "      <td>0</td>\n",
              "      <td>-1</td>\n",
              "      <td>0</td>\n",
              "      <td>Ain Sukhna</td>\n",
              "      <td>15.656060</td>\n",
              "    </tr>\n",
              "    <tr>\n",
              "      <th>8374</th>\n",
              "      <td>2</td>\n",
              "      <td>3.0</td>\n",
              "      <td>2.0</td>\n",
              "      <td>120.0</td>\n",
              "      <td>0</td>\n",
              "      <td>3</td>\n",
              "      <td>2</td>\n",
              "      <td>North Coast</td>\n",
              "      <td>13.997832</td>\n",
              "    </tr>\n",
              "    <tr>\n",
              "      <th>10685</th>\n",
              "      <td>5</td>\n",
              "      <td>4.0</td>\n",
              "      <td>4.0</td>\n",
              "      <td>410.0</td>\n",
              "      <td>0</td>\n",
              "      <td>-1</td>\n",
              "      <td>0</td>\n",
              "      <td>New Cairo - El Tagamoa</td>\n",
              "      <td>16.506754</td>\n",
              "    </tr>\n",
              "  </tbody>\n",
              "</table>\n",
              "</div>"
            ],
            "text/plain": [
              "       Type  Bedrooms  Bathrooms   Area  Furnished  Level  Payment_Option  \\\n",
              "9466      5       4.0        3.0  240.0          0     -1               0   \n",
              "8374      2       3.0        2.0  120.0          0      3               2   \n",
              "10685     5       4.0        4.0  410.0          0     -1               0   \n",
              "\n",
              "                         City  Log_Price  \n",
              "9466               Ain Sukhna  15.656060  \n",
              "8374              North Coast  13.997832  \n",
              "10685  New Cairo - El Tagamoa  16.506754  "
            ]
          },
          "execution_count": 76,
          "metadata": {},
          "output_type": "execute_result"
        }
      ],
      "source": [
        "df.drop(['price_per_m2','Price'],axis='columns',inplace=True)\n",
        "df.sample(3)"
      ]
    },
    {
      "cell_type": "markdown",
      "metadata": {
        "id": "NJofChISQF9P"
      },
      "source": [
        "## One Hot Encoding for city column"
      ]
    },
    {
      "cell_type": "code",
      "execution_count": 77,
      "metadata": {
        "colab": {
          "base_uri": "https://localhost:8080/",
          "height": 227
        },
        "id": "UXTjnAjsQF9P",
        "outputId": "631776f7-ffbc-4313-af72-3aaffb138aca"
      },
      "outputs": [
        {
          "data": {
            "text/html": [
              "<div>\n",
              "<style scoped>\n",
              "    .dataframe tbody tr th:only-of-type {\n",
              "        vertical-align: middle;\n",
              "    }\n",
              "\n",
              "    .dataframe tbody tr th {\n",
              "        vertical-align: top;\n",
              "    }\n",
              "\n",
              "    .dataframe thead th {\n",
              "        text-align: right;\n",
              "    }\n",
              "</style>\n",
              "<table border=\"1\" class=\"dataframe\">\n",
              "  <thead>\n",
              "    <tr style=\"text-align: right;\">\n",
              "      <th></th>\n",
              "      <th>10th of Ramadan</th>\n",
              "      <th>15 May City</th>\n",
              "      <th>6th of October</th>\n",
              "      <th>Agami</th>\n",
              "      <th>Ain Sukhna</th>\n",
              "      <th>Alamein</th>\n",
              "      <th>Amreya</th>\n",
              "      <th>Asafra</th>\n",
              "      <th>Asyut City</th>\n",
              "      <th>Badr City</th>\n",
              "      <th>...</th>\n",
              "      <th>Shubra</th>\n",
              "      <th>Sidi Beshr</th>\n",
              "      <th>Smoha</th>\n",
              "      <th>Tanta</th>\n",
              "      <th>West Somid</th>\n",
              "      <th>Zagazig</th>\n",
              "      <th>Zahraa Al Maadi</th>\n",
              "      <th>Zamalek</th>\n",
              "      <th>Zezenia</th>\n",
              "      <th>other</th>\n",
              "    </tr>\n",
              "  </thead>\n",
              "  <tbody>\n",
              "    <tr>\n",
              "      <th>0</th>\n",
              "      <td>0</td>\n",
              "      <td>0</td>\n",
              "      <td>0</td>\n",
              "      <td>0</td>\n",
              "      <td>0</td>\n",
              "      <td>0</td>\n",
              "      <td>0</td>\n",
              "      <td>0</td>\n",
              "      <td>0</td>\n",
              "      <td>0</td>\n",
              "      <td>...</td>\n",
              "      <td>0</td>\n",
              "      <td>0</td>\n",
              "      <td>1</td>\n",
              "      <td>0</td>\n",
              "      <td>0</td>\n",
              "      <td>0</td>\n",
              "      <td>0</td>\n",
              "      <td>0</td>\n",
              "      <td>0</td>\n",
              "      <td>0</td>\n",
              "    </tr>\n",
              "    <tr>\n",
              "      <th>1</th>\n",
              "      <td>0</td>\n",
              "      <td>0</td>\n",
              "      <td>0</td>\n",
              "      <td>0</td>\n",
              "      <td>0</td>\n",
              "      <td>0</td>\n",
              "      <td>0</td>\n",
              "      <td>0</td>\n",
              "      <td>0</td>\n",
              "      <td>0</td>\n",
              "      <td>...</td>\n",
              "      <td>0</td>\n",
              "      <td>0</td>\n",
              "      <td>0</td>\n",
              "      <td>0</td>\n",
              "      <td>0</td>\n",
              "      <td>0</td>\n",
              "      <td>0</td>\n",
              "      <td>0</td>\n",
              "      <td>0</td>\n",
              "      <td>0</td>\n",
              "    </tr>\n",
              "    <tr>\n",
              "      <th>2</th>\n",
              "      <td>0</td>\n",
              "      <td>0</td>\n",
              "      <td>0</td>\n",
              "      <td>0</td>\n",
              "      <td>0</td>\n",
              "      <td>0</td>\n",
              "      <td>0</td>\n",
              "      <td>0</td>\n",
              "      <td>0</td>\n",
              "      <td>0</td>\n",
              "      <td>...</td>\n",
              "      <td>0</td>\n",
              "      <td>0</td>\n",
              "      <td>0</td>\n",
              "      <td>0</td>\n",
              "      <td>0</td>\n",
              "      <td>0</td>\n",
              "      <td>0</td>\n",
              "      <td>0</td>\n",
              "      <td>0</td>\n",
              "      <td>0</td>\n",
              "    </tr>\n",
              "  </tbody>\n",
              "</table>\n",
              "<p>3 rows × 69 columns</p>\n",
              "</div>"
            ],
            "text/plain": [
              "   10th of Ramadan  15 May City  6th of October  Agami  Ain Sukhna  Alamein  \\\n",
              "0                0            0               0      0           0        0   \n",
              "1                0            0               0      0           0        0   \n",
              "2                0            0               0      0           0        0   \n",
              "\n",
              "   Amreya  Asafra  Asyut City  Badr City  ...  Shubra  Sidi Beshr  Smoha  \\\n",
              "0       0       0           0          0  ...       0           0      1   \n",
              "1       0       0           0          0  ...       0           0      0   \n",
              "2       0       0           0          0  ...       0           0      0   \n",
              "\n",
              "   Tanta  West Somid  Zagazig  Zahraa Al Maadi  Zamalek  Zezenia  other  \n",
              "0      0           0        0                0        0        0      0  \n",
              "1      0           0        0                0        0        0      0  \n",
              "2      0           0        0                0        0        0      0  \n",
              "\n",
              "[3 rows x 69 columns]"
            ]
          },
          "execution_count": 77,
          "metadata": {},
          "output_type": "execute_result"
        }
      ],
      "source": [
        "dummies = pd.get_dummies(df['City'])\n",
        "dummies = dummies.astype(int)\n",
        "dummies.head(3)"
      ]
    },
    {
      "cell_type": "code",
      "execution_count": 78,
      "metadata": {
        "colab": {
          "base_uri": "https://localhost:8080/",
          "height": 411
        },
        "id": "ymPTcTSvQF9Q",
        "outputId": "da887db0-8f36-4a71-8617-e131bd968312"
      },
      "outputs": [
        {
          "data": {
            "text/html": [
              "<div>\n",
              "<style scoped>\n",
              "    .dataframe tbody tr th:only-of-type {\n",
              "        vertical-align: middle;\n",
              "    }\n",
              "\n",
              "    .dataframe tbody tr th {\n",
              "        vertical-align: top;\n",
              "    }\n",
              "\n",
              "    .dataframe thead th {\n",
              "        text-align: right;\n",
              "    }\n",
              "</style>\n",
              "<table border=\"1\" class=\"dataframe\">\n",
              "  <thead>\n",
              "    <tr style=\"text-align: right;\">\n",
              "      <th></th>\n",
              "      <th>Type</th>\n",
              "      <th>Bedrooms</th>\n",
              "      <th>Bathrooms</th>\n",
              "      <th>Area</th>\n",
              "      <th>Furnished</th>\n",
              "      <th>Level</th>\n",
              "      <th>Payment_Option</th>\n",
              "      <th>City</th>\n",
              "      <th>Log_Price</th>\n",
              "      <th>10th of Ramadan</th>\n",
              "      <th>...</th>\n",
              "      <th>Shorouk City</th>\n",
              "      <th>Shubra</th>\n",
              "      <th>Sidi Beshr</th>\n",
              "      <th>Smoha</th>\n",
              "      <th>Tanta</th>\n",
              "      <th>West Somid</th>\n",
              "      <th>Zagazig</th>\n",
              "      <th>Zahraa Al Maadi</th>\n",
              "      <th>Zamalek</th>\n",
              "      <th>Zezenia</th>\n",
              "    </tr>\n",
              "  </thead>\n",
              "  <tbody>\n",
              "    <tr>\n",
              "      <th>0</th>\n",
              "      <td>0</td>\n",
              "      <td>3.0</td>\n",
              "      <td>2.0</td>\n",
              "      <td>165.0</td>\n",
              "      <td>0</td>\n",
              "      <td>1</td>\n",
              "      <td>0</td>\n",
              "      <td>Smoha</td>\n",
              "      <td>14.626441</td>\n",
              "      <td>0</td>\n",
              "      <td>...</td>\n",
              "      <td>0</td>\n",
              "      <td>0</td>\n",
              "      <td>0</td>\n",
              "      <td>1</td>\n",
              "      <td>0</td>\n",
              "      <td>0</td>\n",
              "      <td>0</td>\n",
              "      <td>0</td>\n",
              "      <td>0</td>\n",
              "      <td>0</td>\n",
              "    </tr>\n",
              "    <tr>\n",
              "      <th>1</th>\n",
              "      <td>0</td>\n",
              "      <td>3.0</td>\n",
              "      <td>2.0</td>\n",
              "      <td>230.0</td>\n",
              "      <td>0</td>\n",
              "      <td>10</td>\n",
              "      <td>0</td>\n",
              "      <td>Nasr City</td>\n",
              "      <td>14.457364</td>\n",
              "      <td>0</td>\n",
              "      <td>...</td>\n",
              "      <td>0</td>\n",
              "      <td>0</td>\n",
              "      <td>0</td>\n",
              "      <td>0</td>\n",
              "      <td>0</td>\n",
              "      <td>0</td>\n",
              "      <td>0</td>\n",
              "      <td>0</td>\n",
              "      <td>0</td>\n",
              "      <td>0</td>\n",
              "    </tr>\n",
              "    <tr>\n",
              "      <th>2</th>\n",
              "      <td>0</td>\n",
              "      <td>4.0</td>\n",
              "      <td>3.0</td>\n",
              "      <td>222.0</td>\n",
              "      <td>0</td>\n",
              "      <td>1</td>\n",
              "      <td>2</td>\n",
              "      <td>New Cairo - El Tagamoa</td>\n",
              "      <td>14.427936</td>\n",
              "      <td>0</td>\n",
              "      <td>...</td>\n",
              "      <td>0</td>\n",
              "      <td>0</td>\n",
              "      <td>0</td>\n",
              "      <td>0</td>\n",
              "      <td>0</td>\n",
              "      <td>0</td>\n",
              "      <td>0</td>\n",
              "      <td>0</td>\n",
              "      <td>0</td>\n",
              "      <td>0</td>\n",
              "    </tr>\n",
              "    <tr>\n",
              "      <th>3</th>\n",
              "      <td>0</td>\n",
              "      <td>2.0</td>\n",
              "      <td>2.0</td>\n",
              "      <td>144.0</td>\n",
              "      <td>0</td>\n",
              "      <td>1</td>\n",
              "      <td>2</td>\n",
              "      <td>Sheikh Zayed</td>\n",
              "      <td>14.316286</td>\n",
              "      <td>0</td>\n",
              "      <td>...</td>\n",
              "      <td>0</td>\n",
              "      <td>0</td>\n",
              "      <td>0</td>\n",
              "      <td>0</td>\n",
              "      <td>0</td>\n",
              "      <td>0</td>\n",
              "      <td>0</td>\n",
              "      <td>0</td>\n",
              "      <td>0</td>\n",
              "      <td>0</td>\n",
              "    </tr>\n",
              "    <tr>\n",
              "      <th>4</th>\n",
              "      <td>0</td>\n",
              "      <td>3.0</td>\n",
              "      <td>3.0</td>\n",
              "      <td>200.0</td>\n",
              "      <td>0</td>\n",
              "      <td>0</td>\n",
              "      <td>2</td>\n",
              "      <td>New Cairo - El Tagamoa</td>\n",
              "      <td>14.260196</td>\n",
              "      <td>0</td>\n",
              "      <td>...</td>\n",
              "      <td>0</td>\n",
              "      <td>0</td>\n",
              "      <td>0</td>\n",
              "      <td>0</td>\n",
              "      <td>0</td>\n",
              "      <td>0</td>\n",
              "      <td>0</td>\n",
              "      <td>0</td>\n",
              "      <td>0</td>\n",
              "      <td>0</td>\n",
              "    </tr>\n",
              "  </tbody>\n",
              "</table>\n",
              "<p>5 rows × 77 columns</p>\n",
              "</div>"
            ],
            "text/plain": [
              "   Type  Bedrooms  Bathrooms   Area  Furnished  Level  Payment_Option  \\\n",
              "0     0       3.0        2.0  165.0          0      1               0   \n",
              "1     0       3.0        2.0  230.0          0     10               0   \n",
              "2     0       4.0        3.0  222.0          0      1               2   \n",
              "3     0       2.0        2.0  144.0          0      1               2   \n",
              "4     0       3.0        3.0  200.0          0      0               2   \n",
              "\n",
              "                     City  Log_Price  10th of Ramadan  ...  Shorouk City  \\\n",
              "0                   Smoha  14.626441                0  ...             0   \n",
              "1               Nasr City  14.457364                0  ...             0   \n",
              "2  New Cairo - El Tagamoa  14.427936                0  ...             0   \n",
              "3            Sheikh Zayed  14.316286                0  ...             0   \n",
              "4  New Cairo - El Tagamoa  14.260196                0  ...             0   \n",
              "\n",
              "   Shubra  Sidi Beshr  Smoha  Tanta  West Somid  Zagazig  Zahraa Al Maadi  \\\n",
              "0       0           0      1      0           0        0                0   \n",
              "1       0           0      0      0           0        0                0   \n",
              "2       0           0      0      0           0        0                0   \n",
              "3       0           0      0      0           0        0                0   \n",
              "4       0           0      0      0           0        0                0   \n",
              "\n",
              "   Zamalek  Zezenia  \n",
              "0        0        0  \n",
              "1        0        0  \n",
              "2        0        0  \n",
              "3        0        0  \n",
              "4        0        0  \n",
              "\n",
              "[5 rows x 77 columns]"
            ]
          },
          "execution_count": 78,
          "metadata": {},
          "output_type": "execute_result"
        }
      ],
      "source": [
        "df = pd.concat([df,dummies.drop('other',axis='columns')],axis='columns')\n",
        "df.head()"
      ]
    },
    {
      "cell_type": "markdown",
      "metadata": {
        "id": "w9jZMaggQF9Q"
      },
      "source": [
        "now we can remove city column"
      ]
    },
    {
      "cell_type": "code",
      "execution_count": 79,
      "metadata": {
        "colab": {
          "base_uri": "https://localhost:8080/",
          "height": 227
        },
        "id": "hO6C_Er6QF9Q",
        "outputId": "2bc2e493-c44e-4e25-d49b-683a0c91c840"
      },
      "outputs": [
        {
          "data": {
            "text/html": [
              "<div>\n",
              "<style scoped>\n",
              "    .dataframe tbody tr th:only-of-type {\n",
              "        vertical-align: middle;\n",
              "    }\n",
              "\n",
              "    .dataframe tbody tr th {\n",
              "        vertical-align: top;\n",
              "    }\n",
              "\n",
              "    .dataframe thead th {\n",
              "        text-align: right;\n",
              "    }\n",
              "</style>\n",
              "<table border=\"1\" class=\"dataframe\">\n",
              "  <thead>\n",
              "    <tr style=\"text-align: right;\">\n",
              "      <th></th>\n",
              "      <th>Type</th>\n",
              "      <th>Bedrooms</th>\n",
              "      <th>Bathrooms</th>\n",
              "      <th>Area</th>\n",
              "      <th>Furnished</th>\n",
              "      <th>Level</th>\n",
              "      <th>Payment_Option</th>\n",
              "      <th>Log_Price</th>\n",
              "      <th>10th of Ramadan</th>\n",
              "      <th>15 May City</th>\n",
              "      <th>...</th>\n",
              "      <th>Shorouk City</th>\n",
              "      <th>Shubra</th>\n",
              "      <th>Sidi Beshr</th>\n",
              "      <th>Smoha</th>\n",
              "      <th>Tanta</th>\n",
              "      <th>West Somid</th>\n",
              "      <th>Zagazig</th>\n",
              "      <th>Zahraa Al Maadi</th>\n",
              "      <th>Zamalek</th>\n",
              "      <th>Zezenia</th>\n",
              "    </tr>\n",
              "  </thead>\n",
              "  <tbody>\n",
              "    <tr>\n",
              "      <th>0</th>\n",
              "      <td>0</td>\n",
              "      <td>3.0</td>\n",
              "      <td>2.0</td>\n",
              "      <td>165.0</td>\n",
              "      <td>0</td>\n",
              "      <td>1</td>\n",
              "      <td>0</td>\n",
              "      <td>14.626441</td>\n",
              "      <td>0</td>\n",
              "      <td>0</td>\n",
              "      <td>...</td>\n",
              "      <td>0</td>\n",
              "      <td>0</td>\n",
              "      <td>0</td>\n",
              "      <td>1</td>\n",
              "      <td>0</td>\n",
              "      <td>0</td>\n",
              "      <td>0</td>\n",
              "      <td>0</td>\n",
              "      <td>0</td>\n",
              "      <td>0</td>\n",
              "    </tr>\n",
              "    <tr>\n",
              "      <th>1</th>\n",
              "      <td>0</td>\n",
              "      <td>3.0</td>\n",
              "      <td>2.0</td>\n",
              "      <td>230.0</td>\n",
              "      <td>0</td>\n",
              "      <td>10</td>\n",
              "      <td>0</td>\n",
              "      <td>14.457364</td>\n",
              "      <td>0</td>\n",
              "      <td>0</td>\n",
              "      <td>...</td>\n",
              "      <td>0</td>\n",
              "      <td>0</td>\n",
              "      <td>0</td>\n",
              "      <td>0</td>\n",
              "      <td>0</td>\n",
              "      <td>0</td>\n",
              "      <td>0</td>\n",
              "      <td>0</td>\n",
              "      <td>0</td>\n",
              "      <td>0</td>\n",
              "    </tr>\n",
              "    <tr>\n",
              "      <th>2</th>\n",
              "      <td>0</td>\n",
              "      <td>4.0</td>\n",
              "      <td>3.0</td>\n",
              "      <td>222.0</td>\n",
              "      <td>0</td>\n",
              "      <td>1</td>\n",
              "      <td>2</td>\n",
              "      <td>14.427936</td>\n",
              "      <td>0</td>\n",
              "      <td>0</td>\n",
              "      <td>...</td>\n",
              "      <td>0</td>\n",
              "      <td>0</td>\n",
              "      <td>0</td>\n",
              "      <td>0</td>\n",
              "      <td>0</td>\n",
              "      <td>0</td>\n",
              "      <td>0</td>\n",
              "      <td>0</td>\n",
              "      <td>0</td>\n",
              "      <td>0</td>\n",
              "    </tr>\n",
              "  </tbody>\n",
              "</table>\n",
              "<p>3 rows × 76 columns</p>\n",
              "</div>"
            ],
            "text/plain": [
              "   Type  Bedrooms  Bathrooms   Area  Furnished  Level  Payment_Option  \\\n",
              "0     0       3.0        2.0  165.0          0      1               0   \n",
              "1     0       3.0        2.0  230.0          0     10               0   \n",
              "2     0       4.0        3.0  222.0          0      1               2   \n",
              "\n",
              "   Log_Price  10th of Ramadan  15 May City  ...  Shorouk City  Shubra  \\\n",
              "0  14.626441                0            0  ...             0       0   \n",
              "1  14.457364                0            0  ...             0       0   \n",
              "2  14.427936                0            0  ...             0       0   \n",
              "\n",
              "   Sidi Beshr  Smoha  Tanta  West Somid  Zagazig  Zahraa Al Maadi  Zamalek  \\\n",
              "0           0      1      0           0        0                0        0   \n",
              "1           0      0      0           0        0                0        0   \n",
              "2           0      0      0           0        0                0        0   \n",
              "\n",
              "   Zezenia  \n",
              "0        0  \n",
              "1        0  \n",
              "2        0  \n",
              "\n",
              "[3 rows x 76 columns]"
            ]
          },
          "execution_count": 79,
          "metadata": {},
          "output_type": "execute_result"
        }
      ],
      "source": [
        "df.drop(['City'],axis='columns',inplace=True)\n",
        "df.head(3)"
      ]
    },
    {
      "cell_type": "markdown",
      "metadata": {
        "id": "6sOqJJLyQF9Q"
      },
      "source": [
        "# Model Building"
      ]
    },
    {
      "cell_type": "markdown",
      "metadata": {
        "id": "LVV08vyOQF9R"
      },
      "source": [
        "## Spliting the data into train,val,test"
      ]
    },
    {
      "cell_type": "code",
      "execution_count": 80,
      "metadata": {
        "id": "Z3BSfJXwQF9R"
      },
      "outputs": [],
      "source": [
        "x = df.drop(['Log_Price'],axis='columns')\n",
        "y = df['Log_Price']"
      ]
    },
    {
      "cell_type": "code",
      "execution_count": 81,
      "metadata": {
        "colab": {
          "base_uri": "https://localhost:8080/",
          "height": 478
        },
        "id": "EGpiRD3AQF9R",
        "outputId": "27a74c19-c18a-4229-d152-8f091fd26b85"
      },
      "outputs": [
        {
          "data": {
            "text/html": [
              "<div>\n",
              "<style scoped>\n",
              "    .dataframe tbody tr th:only-of-type {\n",
              "        vertical-align: middle;\n",
              "    }\n",
              "\n",
              "    .dataframe tbody tr th {\n",
              "        vertical-align: top;\n",
              "    }\n",
              "\n",
              "    .dataframe thead th {\n",
              "        text-align: right;\n",
              "    }\n",
              "</style>\n",
              "<table border=\"1\" class=\"dataframe\">\n",
              "  <thead>\n",
              "    <tr style=\"text-align: right;\">\n",
              "      <th></th>\n",
              "      <th>Type</th>\n",
              "      <th>Bedrooms</th>\n",
              "      <th>Bathrooms</th>\n",
              "      <th>Area</th>\n",
              "      <th>Furnished</th>\n",
              "      <th>Level</th>\n",
              "      <th>Payment_Option</th>\n",
              "      <th>10th of Ramadan</th>\n",
              "      <th>15 May City</th>\n",
              "      <th>6th of October</th>\n",
              "      <th>...</th>\n",
              "      <th>Shorouk City</th>\n",
              "      <th>Shubra</th>\n",
              "      <th>Sidi Beshr</th>\n",
              "      <th>Smoha</th>\n",
              "      <th>Tanta</th>\n",
              "      <th>West Somid</th>\n",
              "      <th>Zagazig</th>\n",
              "      <th>Zahraa Al Maadi</th>\n",
              "      <th>Zamalek</th>\n",
              "      <th>Zezenia</th>\n",
              "    </tr>\n",
              "  </thead>\n",
              "  <tbody>\n",
              "    <tr>\n",
              "      <th>0</th>\n",
              "      <td>0</td>\n",
              "      <td>3.0</td>\n",
              "      <td>2.0</td>\n",
              "      <td>165.0</td>\n",
              "      <td>0</td>\n",
              "      <td>1</td>\n",
              "      <td>0</td>\n",
              "      <td>0</td>\n",
              "      <td>0</td>\n",
              "      <td>0</td>\n",
              "      <td>...</td>\n",
              "      <td>0</td>\n",
              "      <td>0</td>\n",
              "      <td>0</td>\n",
              "      <td>1</td>\n",
              "      <td>0</td>\n",
              "      <td>0</td>\n",
              "      <td>0</td>\n",
              "      <td>0</td>\n",
              "      <td>0</td>\n",
              "      <td>0</td>\n",
              "    </tr>\n",
              "    <tr>\n",
              "      <th>1</th>\n",
              "      <td>0</td>\n",
              "      <td>3.0</td>\n",
              "      <td>2.0</td>\n",
              "      <td>230.0</td>\n",
              "      <td>0</td>\n",
              "      <td>10</td>\n",
              "      <td>0</td>\n",
              "      <td>0</td>\n",
              "      <td>0</td>\n",
              "      <td>0</td>\n",
              "      <td>...</td>\n",
              "      <td>0</td>\n",
              "      <td>0</td>\n",
              "      <td>0</td>\n",
              "      <td>0</td>\n",
              "      <td>0</td>\n",
              "      <td>0</td>\n",
              "      <td>0</td>\n",
              "      <td>0</td>\n",
              "      <td>0</td>\n",
              "      <td>0</td>\n",
              "    </tr>\n",
              "    <tr>\n",
              "      <th>2</th>\n",
              "      <td>0</td>\n",
              "      <td>4.0</td>\n",
              "      <td>3.0</td>\n",
              "      <td>222.0</td>\n",
              "      <td>0</td>\n",
              "      <td>1</td>\n",
              "      <td>2</td>\n",
              "      <td>0</td>\n",
              "      <td>0</td>\n",
              "      <td>0</td>\n",
              "      <td>...</td>\n",
              "      <td>0</td>\n",
              "      <td>0</td>\n",
              "      <td>0</td>\n",
              "      <td>0</td>\n",
              "      <td>0</td>\n",
              "      <td>0</td>\n",
              "      <td>0</td>\n",
              "      <td>0</td>\n",
              "      <td>0</td>\n",
              "      <td>0</td>\n",
              "    </tr>\n",
              "    <tr>\n",
              "      <th>3</th>\n",
              "      <td>0</td>\n",
              "      <td>2.0</td>\n",
              "      <td>2.0</td>\n",
              "      <td>144.0</td>\n",
              "      <td>0</td>\n",
              "      <td>1</td>\n",
              "      <td>2</td>\n",
              "      <td>0</td>\n",
              "      <td>0</td>\n",
              "      <td>0</td>\n",
              "      <td>...</td>\n",
              "      <td>0</td>\n",
              "      <td>0</td>\n",
              "      <td>0</td>\n",
              "      <td>0</td>\n",
              "      <td>0</td>\n",
              "      <td>0</td>\n",
              "      <td>0</td>\n",
              "      <td>0</td>\n",
              "      <td>0</td>\n",
              "      <td>0</td>\n",
              "    </tr>\n",
              "    <tr>\n",
              "      <th>4</th>\n",
              "      <td>0</td>\n",
              "      <td>3.0</td>\n",
              "      <td>3.0</td>\n",
              "      <td>200.0</td>\n",
              "      <td>0</td>\n",
              "      <td>0</td>\n",
              "      <td>2</td>\n",
              "      <td>0</td>\n",
              "      <td>0</td>\n",
              "      <td>0</td>\n",
              "      <td>...</td>\n",
              "      <td>0</td>\n",
              "      <td>0</td>\n",
              "      <td>0</td>\n",
              "      <td>0</td>\n",
              "      <td>0</td>\n",
              "      <td>0</td>\n",
              "      <td>0</td>\n",
              "      <td>0</td>\n",
              "      <td>0</td>\n",
              "      <td>0</td>\n",
              "    </tr>\n",
              "    <tr>\n",
              "      <th>...</th>\n",
              "      <td>...</td>\n",
              "      <td>...</td>\n",
              "      <td>...</td>\n",
              "      <td>...</td>\n",
              "      <td>...</td>\n",
              "      <td>...</td>\n",
              "      <td>...</td>\n",
              "      <td>...</td>\n",
              "      <td>...</td>\n",
              "      <td>...</td>\n",
              "      <td>...</td>\n",
              "      <td>...</td>\n",
              "      <td>...</td>\n",
              "      <td>...</td>\n",
              "      <td>...</td>\n",
              "      <td>...</td>\n",
              "      <td>...</td>\n",
              "      <td>...</td>\n",
              "      <td>...</td>\n",
              "      <td>...</td>\n",
              "      <td>...</td>\n",
              "    </tr>\n",
              "    <tr>\n",
              "      <th>16304</th>\n",
              "      <td>3</td>\n",
              "      <td>6.0</td>\n",
              "      <td>5.0</td>\n",
              "      <td>429.0</td>\n",
              "      <td>0</td>\n",
              "      <td>-1</td>\n",
              "      <td>1</td>\n",
              "      <td>0</td>\n",
              "      <td>0</td>\n",
              "      <td>0</td>\n",
              "      <td>...</td>\n",
              "      <td>0</td>\n",
              "      <td>0</td>\n",
              "      <td>0</td>\n",
              "      <td>0</td>\n",
              "      <td>0</td>\n",
              "      <td>0</td>\n",
              "      <td>0</td>\n",
              "      <td>0</td>\n",
              "      <td>0</td>\n",
              "      <td>0</td>\n",
              "    </tr>\n",
              "    <tr>\n",
              "      <th>16305</th>\n",
              "      <td>3</td>\n",
              "      <td>4.0</td>\n",
              "      <td>4.0</td>\n",
              "      <td>450.0</td>\n",
              "      <td>1</td>\n",
              "      <td>-1</td>\n",
              "      <td>2</td>\n",
              "      <td>0</td>\n",
              "      <td>0</td>\n",
              "      <td>0</td>\n",
              "      <td>...</td>\n",
              "      <td>0</td>\n",
              "      <td>0</td>\n",
              "      <td>0</td>\n",
              "      <td>0</td>\n",
              "      <td>0</td>\n",
              "      <td>0</td>\n",
              "      <td>0</td>\n",
              "      <td>0</td>\n",
              "      <td>0</td>\n",
              "      <td>0</td>\n",
              "    </tr>\n",
              "    <tr>\n",
              "      <th>16306</th>\n",
              "      <td>3</td>\n",
              "      <td>4.0</td>\n",
              "      <td>3.0</td>\n",
              "      <td>200.0</td>\n",
              "      <td>0</td>\n",
              "      <td>-1</td>\n",
              "      <td>2</td>\n",
              "      <td>0</td>\n",
              "      <td>0</td>\n",
              "      <td>0</td>\n",
              "      <td>...</td>\n",
              "      <td>0</td>\n",
              "      <td>0</td>\n",
              "      <td>0</td>\n",
              "      <td>0</td>\n",
              "      <td>0</td>\n",
              "      <td>0</td>\n",
              "      <td>0</td>\n",
              "      <td>0</td>\n",
              "      <td>0</td>\n",
              "      <td>0</td>\n",
              "    </tr>\n",
              "    <tr>\n",
              "      <th>16307</th>\n",
              "      <td>3</td>\n",
              "      <td>3.0</td>\n",
              "      <td>3.0</td>\n",
              "      <td>200.0</td>\n",
              "      <td>0</td>\n",
              "      <td>-1</td>\n",
              "      <td>1</td>\n",
              "      <td>0</td>\n",
              "      <td>0</td>\n",
              "      <td>1</td>\n",
              "      <td>...</td>\n",
              "      <td>0</td>\n",
              "      <td>0</td>\n",
              "      <td>0</td>\n",
              "      <td>0</td>\n",
              "      <td>0</td>\n",
              "      <td>0</td>\n",
              "      <td>0</td>\n",
              "      <td>0</td>\n",
              "      <td>0</td>\n",
              "      <td>0</td>\n",
              "    </tr>\n",
              "    <tr>\n",
              "      <th>16308</th>\n",
              "      <td>3</td>\n",
              "      <td>4.0</td>\n",
              "      <td>4.0</td>\n",
              "      <td>337.0</td>\n",
              "      <td>0</td>\n",
              "      <td>-1</td>\n",
              "      <td>2</td>\n",
              "      <td>0</td>\n",
              "      <td>0</td>\n",
              "      <td>0</td>\n",
              "      <td>...</td>\n",
              "      <td>0</td>\n",
              "      <td>0</td>\n",
              "      <td>0</td>\n",
              "      <td>0</td>\n",
              "      <td>0</td>\n",
              "      <td>0</td>\n",
              "      <td>0</td>\n",
              "      <td>0</td>\n",
              "      <td>0</td>\n",
              "      <td>0</td>\n",
              "    </tr>\n",
              "  </tbody>\n",
              "</table>\n",
              "<p>16309 rows × 75 columns</p>\n",
              "</div>"
            ],
            "text/plain": [
              "       Type  Bedrooms  Bathrooms   Area  Furnished  Level  Payment_Option  \\\n",
              "0         0       3.0        2.0  165.0          0      1               0   \n",
              "1         0       3.0        2.0  230.0          0     10               0   \n",
              "2         0       4.0        3.0  222.0          0      1               2   \n",
              "3         0       2.0        2.0  144.0          0      1               2   \n",
              "4         0       3.0        3.0  200.0          0      0               2   \n",
              "...     ...       ...        ...    ...        ...    ...             ...   \n",
              "16304     3       6.0        5.0  429.0          0     -1               1   \n",
              "16305     3       4.0        4.0  450.0          1     -1               2   \n",
              "16306     3       4.0        3.0  200.0          0     -1               2   \n",
              "16307     3       3.0        3.0  200.0          0     -1               1   \n",
              "16308     3       4.0        4.0  337.0          0     -1               2   \n",
              "\n",
              "       10th of Ramadan  15 May City  6th of October  ...  Shorouk City  \\\n",
              "0                    0            0               0  ...             0   \n",
              "1                    0            0               0  ...             0   \n",
              "2                    0            0               0  ...             0   \n",
              "3                    0            0               0  ...             0   \n",
              "4                    0            0               0  ...             0   \n",
              "...                ...          ...             ...  ...           ...   \n",
              "16304                0            0               0  ...             0   \n",
              "16305                0            0               0  ...             0   \n",
              "16306                0            0               0  ...             0   \n",
              "16307                0            0               1  ...             0   \n",
              "16308                0            0               0  ...             0   \n",
              "\n",
              "       Shubra  Sidi Beshr  Smoha  Tanta  West Somid  Zagazig  Zahraa Al Maadi  \\\n",
              "0           0           0      1      0           0        0                0   \n",
              "1           0           0      0      0           0        0                0   \n",
              "2           0           0      0      0           0        0                0   \n",
              "3           0           0      0      0           0        0                0   \n",
              "4           0           0      0      0           0        0                0   \n",
              "...       ...         ...    ...    ...         ...      ...              ...   \n",
              "16304       0           0      0      0           0        0                0   \n",
              "16305       0           0      0      0           0        0                0   \n",
              "16306       0           0      0      0           0        0                0   \n",
              "16307       0           0      0      0           0        0                0   \n",
              "16308       0           0      0      0           0        0                0   \n",
              "\n",
              "       Zamalek  Zezenia  \n",
              "0            0        0  \n",
              "1            0        0  \n",
              "2            0        0  \n",
              "3            0        0  \n",
              "4            0        0  \n",
              "...        ...      ...  \n",
              "16304        0        0  \n",
              "16305        0        0  \n",
              "16306        0        0  \n",
              "16307        0        0  \n",
              "16308        0        0  \n",
              "\n",
              "[16309 rows x 75 columns]"
            ]
          },
          "execution_count": 81,
          "metadata": {},
          "output_type": "execute_result"
        }
      ],
      "source": [
        "x"
      ]
    },
    {
      "cell_type": "code",
      "execution_count": 93,
      "metadata": {},
      "outputs": [
        {
          "data": {
            "text/plain": [
              "Index(['Type', 'Bedrooms', 'Bathrooms', 'Area', 'Furnished', 'Level',\n",
              "       'Payment_Option', '10th of Ramadan', '15 May City', '6th of October',\n",
              "       'Agami', 'Ain Sukhna', 'Alamein', 'Amreya', 'Asafra', 'Asyut City',\n",
              "       'Badr City', 'Borg al-Arab', 'Dabaa', 'Dokki', 'Faisal', 'Gesr Al Suez',\n",
              "       'Giza District', 'Glim', 'Gouna', 'Hadayek 6th of October',\n",
              "       'Hadayek al-Ahram', 'Hadayek al-Kobba', 'Haram', 'Heliopolis',\n",
              "       'Helmeyat El Zaytoun', 'Hurghada', 'Ismailia City', 'Kafr Abdo',\n",
              "       'Katameya', 'Laurent', 'Maadi', 'Madinaty', 'Mandara', 'Mansura',\n",
              "       'Marsa Matrouh', 'Miami', 'Mohandessin', 'Moharam Bik', 'Mokattam',\n",
              "       'Mostakbal City', 'Nasr City', 'New Cairo - El Tagamoa',\n",
              "       'New Capital City', 'New Damietta', 'New Heliopolis', 'New Mansoura',\n",
              "       'New Nozha', 'North Coast', 'Obour City', 'Ras Sedr', 'Ras al-Bar',\n",
              "       'Rehab City', 'Roushdy', 'Saba Pasha', 'Seyouf', 'Sharm al-Sheikh',\n",
              "       'Sharq District', 'Sheikh Zayed', 'Sheraton', 'Shorouk City', 'Shubra',\n",
              "       'Sidi Beshr', 'Smoha', 'Tanta', 'West Somid', 'Zagazig',\n",
              "       'Zahraa Al Maadi', 'Zamalek', 'Zezenia'],\n",
              "      dtype='object')"
            ]
          },
          "execution_count": 93,
          "metadata": {},
          "output_type": "execute_result"
        }
      ],
      "source": [
        "x.columns"
      ]
    },
    {
      "cell_type": "code",
      "execution_count": 82,
      "metadata": {
        "colab": {
          "base_uri": "https://localhost:8080/",
          "height": 458
        },
        "id": "B8AAPmnYQF9R",
        "outputId": "a3e63be0-cfba-43fa-830b-f02d9844360f"
      },
      "outputs": [
        {
          "data": {
            "text/plain": [
              "0        14.626441\n",
              "1        14.457364\n",
              "2        14.427936\n",
              "3        14.316286\n",
              "4        14.260196\n",
              "           ...    \n",
              "16304    15.967273\n",
              "16305    15.732433\n",
              "16306    15.671809\n",
              "16307    15.652243\n",
              "16308    16.323808\n",
              "Name: Log_Price, Length: 16309, dtype: float64"
            ]
          },
          "execution_count": 82,
          "metadata": {},
          "output_type": "execute_result"
        }
      ],
      "source": [
        "y"
      ]
    },
    {
      "cell_type": "code",
      "execution_count": 101,
      "metadata": {
        "id": "oZt0UoyFQF9S"
      },
      "outputs": [],
      "source": [
        "from sklearn.model_selection import train_test_split\n",
        "X_train, X_test, y_train, y_test = train_test_split(x,y,test_size=0.2,random_state=10)"
      ]
    },
    {
      "cell_type": "markdown",
      "metadata": {
        "id": "xII0hyd2QF9S"
      },
      "source": [
        "## Model (Linear Regression)"
      ]
    },
    {
      "cell_type": "code",
      "execution_count": 85,
      "metadata": {
        "id": "2o2xrXWjbjpB"
      },
      "outputs": [],
      "source": [
        "# Import necessary libraries\n",
        "from sklearn.linear_model import LinearRegression  # For Linear Regression\n",
        "from sklearn.neighbors import KNeighborsRegressor  # For KNN Regressor\n",
        "from sklearn.metrics import mean_absolute_error, mean_squared_error, r2_score  # Evaluation metrics\n",
        "from sklearn.preprocessing import StandardScaler  # For data scaling\n"
      ]
    },
    {
      "cell_type": "code",
      "execution_count": 102,
      "metadata": {
        "colab": {
          "base_uri": "https://localhost:8080/",
          "height": 80
        },
        "id": "SiF5eNoqUkF8",
        "outputId": "109d98ad-2c90-4480-9ab3-ae1168568e9b"
      },
      "outputs": [
        {
          "data": {
            "text/html": [
              "<style>#sk-container-id-3 {\n",
              "  /* Definition of color scheme common for light and dark mode */\n",
              "  --sklearn-color-text: black;\n",
              "  --sklearn-color-line: gray;\n",
              "  /* Definition of color scheme for unfitted estimators */\n",
              "  --sklearn-color-unfitted-level-0: #fff5e6;\n",
              "  --sklearn-color-unfitted-level-1: #f6e4d2;\n",
              "  --sklearn-color-unfitted-level-2: #ffe0b3;\n",
              "  --sklearn-color-unfitted-level-3: chocolate;\n",
              "  /* Definition of color scheme for fitted estimators */\n",
              "  --sklearn-color-fitted-level-0: #f0f8ff;\n",
              "  --sklearn-color-fitted-level-1: #d4ebff;\n",
              "  --sklearn-color-fitted-level-2: #b3dbfd;\n",
              "  --sklearn-color-fitted-level-3: cornflowerblue;\n",
              "\n",
              "  /* Specific color for light theme */\n",
              "  --sklearn-color-text-on-default-background: var(--sg-text-color, var(--theme-code-foreground, var(--jp-content-font-color1, black)));\n",
              "  --sklearn-color-background: var(--sg-background-color, var(--theme-background, var(--jp-layout-color0, white)));\n",
              "  --sklearn-color-border-box: var(--sg-text-color, var(--theme-code-foreground, var(--jp-content-font-color1, black)));\n",
              "  --sklearn-color-icon: #696969;\n",
              "\n",
              "  @media (prefers-color-scheme: dark) {\n",
              "    /* Redefinition of color scheme for dark theme */\n",
              "    --sklearn-color-text-on-default-background: var(--sg-text-color, var(--theme-code-foreground, var(--jp-content-font-color1, white)));\n",
              "    --sklearn-color-background: var(--sg-background-color, var(--theme-background, var(--jp-layout-color0, #111)));\n",
              "    --sklearn-color-border-box: var(--sg-text-color, var(--theme-code-foreground, var(--jp-content-font-color1, white)));\n",
              "    --sklearn-color-icon: #878787;\n",
              "  }\n",
              "}\n",
              "\n",
              "#sk-container-id-3 {\n",
              "  color: var(--sklearn-color-text);\n",
              "}\n",
              "\n",
              "#sk-container-id-3 pre {\n",
              "  padding: 0;\n",
              "}\n",
              "\n",
              "#sk-container-id-3 input.sk-hidden--visually {\n",
              "  border: 0;\n",
              "  clip: rect(1px 1px 1px 1px);\n",
              "  clip: rect(1px, 1px, 1px, 1px);\n",
              "  height: 1px;\n",
              "  margin: -1px;\n",
              "  overflow: hidden;\n",
              "  padding: 0;\n",
              "  position: absolute;\n",
              "  width: 1px;\n",
              "}\n",
              "\n",
              "#sk-container-id-3 div.sk-dashed-wrapped {\n",
              "  border: 1px dashed var(--sklearn-color-line);\n",
              "  margin: 0 0.4em 0.5em 0.4em;\n",
              "  box-sizing: border-box;\n",
              "  padding-bottom: 0.4em;\n",
              "  background-color: var(--sklearn-color-background);\n",
              "}\n",
              "\n",
              "#sk-container-id-3 div.sk-container {\n",
              "  /* jupyter's `normalize.less` sets `[hidden] { display: none; }`\n",
              "     but bootstrap.min.css set `[hidden] { display: none !important; }`\n",
              "     so we also need the `!important` here to be able to override the\n",
              "     default hidden behavior on the sphinx rendered scikit-learn.org.\n",
              "     See: https://github.com/scikit-learn/scikit-learn/issues/21755 */\n",
              "  display: inline-block !important;\n",
              "  position: relative;\n",
              "}\n",
              "\n",
              "#sk-container-id-3 div.sk-text-repr-fallback {\n",
              "  display: none;\n",
              "}\n",
              "\n",
              "div.sk-parallel-item,\n",
              "div.sk-serial,\n",
              "div.sk-item {\n",
              "  /* draw centered vertical line to link estimators */\n",
              "  background-image: linear-gradient(var(--sklearn-color-text-on-default-background), var(--sklearn-color-text-on-default-background));\n",
              "  background-size: 2px 100%;\n",
              "  background-repeat: no-repeat;\n",
              "  background-position: center center;\n",
              "}\n",
              "\n",
              "/* Parallel-specific style estimator block */\n",
              "\n",
              "#sk-container-id-3 div.sk-parallel-item::after {\n",
              "  content: \"\";\n",
              "  width: 100%;\n",
              "  border-bottom: 2px solid var(--sklearn-color-text-on-default-background);\n",
              "  flex-grow: 1;\n",
              "}\n",
              "\n",
              "#sk-container-id-3 div.sk-parallel {\n",
              "  display: flex;\n",
              "  align-items: stretch;\n",
              "  justify-content: center;\n",
              "  background-color: var(--sklearn-color-background);\n",
              "  position: relative;\n",
              "}\n",
              "\n",
              "#sk-container-id-3 div.sk-parallel-item {\n",
              "  display: flex;\n",
              "  flex-direction: column;\n",
              "}\n",
              "\n",
              "#sk-container-id-3 div.sk-parallel-item:first-child::after {\n",
              "  align-self: flex-end;\n",
              "  width: 50%;\n",
              "}\n",
              "\n",
              "#sk-container-id-3 div.sk-parallel-item:last-child::after {\n",
              "  align-self: flex-start;\n",
              "  width: 50%;\n",
              "}\n",
              "\n",
              "#sk-container-id-3 div.sk-parallel-item:only-child::after {\n",
              "  width: 0;\n",
              "}\n",
              "\n",
              "/* Serial-specific style estimator block */\n",
              "\n",
              "#sk-container-id-3 div.sk-serial {\n",
              "  display: flex;\n",
              "  flex-direction: column;\n",
              "  align-items: center;\n",
              "  background-color: var(--sklearn-color-background);\n",
              "  padding-right: 1em;\n",
              "  padding-left: 1em;\n",
              "}\n",
              "\n",
              "\n",
              "/* Toggleable style: style used for estimator/Pipeline/ColumnTransformer box that is\n",
              "clickable and can be expanded/collapsed.\n",
              "- Pipeline and ColumnTransformer use this feature and define the default style\n",
              "- Estimators will overwrite some part of the style using the `sk-estimator` class\n",
              "*/\n",
              "\n",
              "/* Pipeline and ColumnTransformer style (default) */\n",
              "\n",
              "#sk-container-id-3 div.sk-toggleable {\n",
              "  /* Default theme specific background. It is overwritten whether we have a\n",
              "  specific estimator or a Pipeline/ColumnTransformer */\n",
              "  background-color: var(--sklearn-color-background);\n",
              "}\n",
              "\n",
              "/* Toggleable label */\n",
              "#sk-container-id-3 label.sk-toggleable__label {\n",
              "  cursor: pointer;\n",
              "  display: block;\n",
              "  width: 100%;\n",
              "  margin-bottom: 0;\n",
              "  padding: 0.5em;\n",
              "  box-sizing: border-box;\n",
              "  text-align: center;\n",
              "}\n",
              "\n",
              "#sk-container-id-3 label.sk-toggleable__label-arrow:before {\n",
              "  /* Arrow on the left of the label */\n",
              "  content: \"▸\";\n",
              "  float: left;\n",
              "  margin-right: 0.25em;\n",
              "  color: var(--sklearn-color-icon);\n",
              "}\n",
              "\n",
              "#sk-container-id-3 label.sk-toggleable__label-arrow:hover:before {\n",
              "  color: var(--sklearn-color-text);\n",
              "}\n",
              "\n",
              "/* Toggleable content - dropdown */\n",
              "\n",
              "#sk-container-id-3 div.sk-toggleable__content {\n",
              "  max-height: 0;\n",
              "  max-width: 0;\n",
              "  overflow: hidden;\n",
              "  text-align: left;\n",
              "  /* unfitted */\n",
              "  background-color: var(--sklearn-color-unfitted-level-0);\n",
              "}\n",
              "\n",
              "#sk-container-id-3 div.sk-toggleable__content.fitted {\n",
              "  /* fitted */\n",
              "  background-color: var(--sklearn-color-fitted-level-0);\n",
              "}\n",
              "\n",
              "#sk-container-id-3 div.sk-toggleable__content pre {\n",
              "  margin: 0.2em;\n",
              "  border-radius: 0.25em;\n",
              "  color: var(--sklearn-color-text);\n",
              "  /* unfitted */\n",
              "  background-color: var(--sklearn-color-unfitted-level-0);\n",
              "}\n",
              "\n",
              "#sk-container-id-3 div.sk-toggleable__content.fitted pre {\n",
              "  /* unfitted */\n",
              "  background-color: var(--sklearn-color-fitted-level-0);\n",
              "}\n",
              "\n",
              "#sk-container-id-3 input.sk-toggleable__control:checked~div.sk-toggleable__content {\n",
              "  /* Expand drop-down */\n",
              "  max-height: 200px;\n",
              "  max-width: 100%;\n",
              "  overflow: auto;\n",
              "}\n",
              "\n",
              "#sk-container-id-3 input.sk-toggleable__control:checked~label.sk-toggleable__label-arrow:before {\n",
              "  content: \"▾\";\n",
              "}\n",
              "\n",
              "/* Pipeline/ColumnTransformer-specific style */\n",
              "\n",
              "#sk-container-id-3 div.sk-label input.sk-toggleable__control:checked~label.sk-toggleable__label {\n",
              "  color: var(--sklearn-color-text);\n",
              "  background-color: var(--sklearn-color-unfitted-level-2);\n",
              "}\n",
              "\n",
              "#sk-container-id-3 div.sk-label.fitted input.sk-toggleable__control:checked~label.sk-toggleable__label {\n",
              "  background-color: var(--sklearn-color-fitted-level-2);\n",
              "}\n",
              "\n",
              "/* Estimator-specific style */\n",
              "\n",
              "/* Colorize estimator box */\n",
              "#sk-container-id-3 div.sk-estimator input.sk-toggleable__control:checked~label.sk-toggleable__label {\n",
              "  /* unfitted */\n",
              "  background-color: var(--sklearn-color-unfitted-level-2);\n",
              "}\n",
              "\n",
              "#sk-container-id-3 div.sk-estimator.fitted input.sk-toggleable__control:checked~label.sk-toggleable__label {\n",
              "  /* fitted */\n",
              "  background-color: var(--sklearn-color-fitted-level-2);\n",
              "}\n",
              "\n",
              "#sk-container-id-3 div.sk-label label.sk-toggleable__label,\n",
              "#sk-container-id-3 div.sk-label label {\n",
              "  /* The background is the default theme color */\n",
              "  color: var(--sklearn-color-text-on-default-background);\n",
              "}\n",
              "\n",
              "/* On hover, darken the color of the background */\n",
              "#sk-container-id-3 div.sk-label:hover label.sk-toggleable__label {\n",
              "  color: var(--sklearn-color-text);\n",
              "  background-color: var(--sklearn-color-unfitted-level-2);\n",
              "}\n",
              "\n",
              "/* Label box, darken color on hover, fitted */\n",
              "#sk-container-id-3 div.sk-label.fitted:hover label.sk-toggleable__label.fitted {\n",
              "  color: var(--sklearn-color-text);\n",
              "  background-color: var(--sklearn-color-fitted-level-2);\n",
              "}\n",
              "\n",
              "/* Estimator label */\n",
              "\n",
              "#sk-container-id-3 div.sk-label label {\n",
              "  font-family: monospace;\n",
              "  font-weight: bold;\n",
              "  display: inline-block;\n",
              "  line-height: 1.2em;\n",
              "}\n",
              "\n",
              "#sk-container-id-3 div.sk-label-container {\n",
              "  text-align: center;\n",
              "}\n",
              "\n",
              "/* Estimator-specific */\n",
              "#sk-container-id-3 div.sk-estimator {\n",
              "  font-family: monospace;\n",
              "  border: 1px dotted var(--sklearn-color-border-box);\n",
              "  border-radius: 0.25em;\n",
              "  box-sizing: border-box;\n",
              "  margin-bottom: 0.5em;\n",
              "  /* unfitted */\n",
              "  background-color: var(--sklearn-color-unfitted-level-0);\n",
              "}\n",
              "\n",
              "#sk-container-id-3 div.sk-estimator.fitted {\n",
              "  /* fitted */\n",
              "  background-color: var(--sklearn-color-fitted-level-0);\n",
              "}\n",
              "\n",
              "/* on hover */\n",
              "#sk-container-id-3 div.sk-estimator:hover {\n",
              "  /* unfitted */\n",
              "  background-color: var(--sklearn-color-unfitted-level-2);\n",
              "}\n",
              "\n",
              "#sk-container-id-3 div.sk-estimator.fitted:hover {\n",
              "  /* fitted */\n",
              "  background-color: var(--sklearn-color-fitted-level-2);\n",
              "}\n",
              "\n",
              "/* Specification for estimator info (e.g. \"i\" and \"?\") */\n",
              "\n",
              "/* Common style for \"i\" and \"?\" */\n",
              "\n",
              ".sk-estimator-doc-link,\n",
              "a:link.sk-estimator-doc-link,\n",
              "a:visited.sk-estimator-doc-link {\n",
              "  float: right;\n",
              "  font-size: smaller;\n",
              "  line-height: 1em;\n",
              "  font-family: monospace;\n",
              "  background-color: var(--sklearn-color-background);\n",
              "  border-radius: 1em;\n",
              "  height: 1em;\n",
              "  width: 1em;\n",
              "  text-decoration: none !important;\n",
              "  margin-left: 1ex;\n",
              "  /* unfitted */\n",
              "  border: var(--sklearn-color-unfitted-level-1) 1pt solid;\n",
              "  color: var(--sklearn-color-unfitted-level-1);\n",
              "}\n",
              "\n",
              ".sk-estimator-doc-link.fitted,\n",
              "a:link.sk-estimator-doc-link.fitted,\n",
              "a:visited.sk-estimator-doc-link.fitted {\n",
              "  /* fitted */\n",
              "  border: var(--sklearn-color-fitted-level-1) 1pt solid;\n",
              "  color: var(--sklearn-color-fitted-level-1);\n",
              "}\n",
              "\n",
              "/* On hover */\n",
              "div.sk-estimator:hover .sk-estimator-doc-link:hover,\n",
              ".sk-estimator-doc-link:hover,\n",
              "div.sk-label-container:hover .sk-estimator-doc-link:hover,\n",
              ".sk-estimator-doc-link:hover {\n",
              "  /* unfitted */\n",
              "  background-color: var(--sklearn-color-unfitted-level-3);\n",
              "  color: var(--sklearn-color-background);\n",
              "  text-decoration: none;\n",
              "}\n",
              "\n",
              "div.sk-estimator.fitted:hover .sk-estimator-doc-link.fitted:hover,\n",
              ".sk-estimator-doc-link.fitted:hover,\n",
              "div.sk-label-container:hover .sk-estimator-doc-link.fitted:hover,\n",
              ".sk-estimator-doc-link.fitted:hover {\n",
              "  /* fitted */\n",
              "  background-color: var(--sklearn-color-fitted-level-3);\n",
              "  color: var(--sklearn-color-background);\n",
              "  text-decoration: none;\n",
              "}\n",
              "\n",
              "/* Span, style for the box shown on hovering the info icon */\n",
              ".sk-estimator-doc-link span {\n",
              "  display: none;\n",
              "  z-index: 9999;\n",
              "  position: relative;\n",
              "  font-weight: normal;\n",
              "  right: .2ex;\n",
              "  padding: .5ex;\n",
              "  margin: .5ex;\n",
              "  width: min-content;\n",
              "  min-width: 20ex;\n",
              "  max-width: 50ex;\n",
              "  color: var(--sklearn-color-text);\n",
              "  box-shadow: 2pt 2pt 4pt #999;\n",
              "  /* unfitted */\n",
              "  background: var(--sklearn-color-unfitted-level-0);\n",
              "  border: .5pt solid var(--sklearn-color-unfitted-level-3);\n",
              "}\n",
              "\n",
              ".sk-estimator-doc-link.fitted span {\n",
              "  /* fitted */\n",
              "  background: var(--sklearn-color-fitted-level-0);\n",
              "  border: var(--sklearn-color-fitted-level-3);\n",
              "}\n",
              "\n",
              ".sk-estimator-doc-link:hover span {\n",
              "  display: block;\n",
              "}\n",
              "\n",
              "/* \"?\"-specific style due to the `<a>` HTML tag */\n",
              "\n",
              "#sk-container-id-3 a.estimator_doc_link {\n",
              "  float: right;\n",
              "  font-size: 1rem;\n",
              "  line-height: 1em;\n",
              "  font-family: monospace;\n",
              "  background-color: var(--sklearn-color-background);\n",
              "  border-radius: 1rem;\n",
              "  height: 1rem;\n",
              "  width: 1rem;\n",
              "  text-decoration: none;\n",
              "  /* unfitted */\n",
              "  color: var(--sklearn-color-unfitted-level-1);\n",
              "  border: var(--sklearn-color-unfitted-level-1) 1pt solid;\n",
              "}\n",
              "\n",
              "#sk-container-id-3 a.estimator_doc_link.fitted {\n",
              "  /* fitted */\n",
              "  border: var(--sklearn-color-fitted-level-1) 1pt solid;\n",
              "  color: var(--sklearn-color-fitted-level-1);\n",
              "}\n",
              "\n",
              "/* On hover */\n",
              "#sk-container-id-3 a.estimator_doc_link:hover {\n",
              "  /* unfitted */\n",
              "  background-color: var(--sklearn-color-unfitted-level-3);\n",
              "  color: var(--sklearn-color-background);\n",
              "  text-decoration: none;\n",
              "}\n",
              "\n",
              "#sk-container-id-3 a.estimator_doc_link.fitted:hover {\n",
              "  /* fitted */\n",
              "  background-color: var(--sklearn-color-fitted-level-3);\n",
              "}\n",
              "</style><div id=\"sk-container-id-3\" class=\"sk-top-container\"><div class=\"sk-text-repr-fallback\"><pre>LinearRegression()</pre><b>In a Jupyter environment, please rerun this cell to show the HTML representation or trust the notebook. <br />On GitHub, the HTML representation is unable to render, please try loading this page with nbviewer.org.</b></div><div class=\"sk-container\" hidden><div class=\"sk-item\"><div class=\"sk-estimator fitted sk-toggleable\"><input class=\"sk-toggleable__control sk-hidden--visually\" id=\"sk-estimator-id-3\" type=\"checkbox\" checked><label for=\"sk-estimator-id-3\" class=\"sk-toggleable__label fitted sk-toggleable__label-arrow fitted\">&nbsp;&nbsp;LinearRegression<a class=\"sk-estimator-doc-link fitted\" rel=\"noreferrer\" target=\"_blank\" href=\"https://scikit-learn.org/1.5/modules/generated/sklearn.linear_model.LinearRegression.html\">?<span>Documentation for LinearRegression</span></a><span class=\"sk-estimator-doc-link fitted\">i<span>Fitted</span></span></label><div class=\"sk-toggleable__content fitted\"><pre>LinearRegression()</pre></div> </div></div></div></div>"
            ],
            "text/plain": [
              "LinearRegression()"
            ]
          },
          "execution_count": 102,
          "metadata": {},
          "output_type": "execute_result"
        }
      ],
      "source": [
        "linear_regressor = LinearRegression()\n",
        "\n",
        "linear_regressor.fit(X_train, y_train)\n"
      ]
    },
    {
      "cell_type": "code",
      "execution_count": 103,
      "metadata": {
        "colab": {
          "base_uri": "https://localhost:8080/"
        },
        "id": "tdTivJkXUqm8",
        "outputId": "7e1b3000-afb9-494a-bd0b-8151c6a7d86b"
      },
      "outputs": [
        {
          "name": "stdout",
          "output_type": "stream",
          "text": [
            "Coefficients: [ 0.12565257  0.01799067  0.11617164  0.00161021  0.00691927 -0.03154945\n",
            " -0.01255997 -0.20794899 -0.28305308 -0.04755655 -0.50318801 -0.06307999\n",
            " -0.03584464 -0.2868823  -0.1508575   0.1372383  -0.4321261  -0.72325615\n",
            "  0.18242015  0.27422313 -0.1830892   0.16288104  0.52922857  0.38526408\n",
            "  0.39433032 -0.01899732 -0.43784227 -0.39089465 -0.26321842  0.18373002\n",
            " -0.34009723 -0.39858181 -0.18356732  0.35578864 -0.18229139  0.40601548\n",
            " -0.08973248  0.20665936 -0.18084883 -0.06752661 -0.43876662  0.04964418\n",
            "  0.20525029  0.46642086 -0.27198231  0.06250972 -0.03749204  0.16474862\n",
            "  0.11264737 -0.2833473  -0.05837901 -0.21951769 -0.11732717  0.16438039\n",
            " -0.36320965 -0.467081   -0.44002579  0.22862282  0.63169169  0.21166805\n",
            " -0.30812773 -0.14221542 -0.06383378  0.10260772 -0.05252706  0.1592208\n",
            " -0.07820261 -0.04061474  0.33295478 -0.18145494 -0.03884649  0.03680737\n",
            " -0.24748647  0.33525102  0.35079707]\n",
            "Intercept: 13.964444717754883\n"
          ]
        }
      ],
      "source": [
        "print(\"Coefficients:\", linear_regressor.coef_)\n",
        "print(\"Intercept:\", linear_regressor.intercept_)\n"
      ]
    },
    {
      "cell_type": "code",
      "execution_count": 104,
      "metadata": {},
      "outputs": [
        {
          "name": "stdout",
          "output_type": "stream",
          "text": [
            "Linear Regression Model Performance:\n",
            "Mean Absolute Error (MAE) (train): 0.28287030496096893\n",
            "Mean Absolute Error (MAE) (test): 0.2825759023642163\n",
            "Mean Squared Error (MSE) (train): 0.1259409154795349\n",
            "Mean Squared Error (MSE) (test): 0.12592745956454862\n",
            "R2 Score (train): 0.7805125408780862\n",
            "R2 Score (test): 0.774648593446638\n"
          ]
        }
      ],
      "source": [
        "y_test_pred_lr = linear_regressor.predict(X_test)\n",
        "y_train_pred_lr = linear_regressor.predict(X_train)\n",
        "\n",
        "\n",
        "mae_train_lr = mean_absolute_error(y_train, y_train_pred_lr)  # Mean Absolute Error\n",
        "mse_train_lr = mean_squared_error(y_train, y_train_pred_lr)   # Mean Squared Error\n",
        "r2_train_lr = r2_score(y_train, y_train_pred_lr)              # R2 Score\n",
        "\n",
        "\n",
        "mae_test_lr = mean_absolute_error(y_test, y_test_pred_lr)  # Mean Absolute Error\n",
        "mse_test_lr = mean_squared_error(y_test, y_test_pred_lr)   # Mean Squared Error\n",
        "r2_test_lr = r2_score(y_test, y_test_pred_lr)              # R2 Score\n",
        "\n",
        "\n",
        "print(\"Linear Regression Model Performance:\")\n",
        "print(\"Mean Absolute Error (MAE) (train):\", mae_train_lr)\n",
        "print(\"Mean Absolute Error (MAE) (test):\", mae_test_lr)\n",
        "print(\"Mean Squared Error (MSE) (train):\", mse_train_lr)\n",
        "print(\"Mean Squared Error (MSE) (test):\", mse_test_lr)\n",
        "print(\"R2 Score (train):\", r2_train_lr)\n",
        "print(\"R2 Score (test):\", r2_test_lr)"
      ]
    },
    {
      "cell_type": "code",
      "execution_count": 105,
      "metadata": {
        "colab": {
          "base_uri": "https://localhost:8080/"
        },
        "id": "nV9chz6SVi7j",
        "outputId": "9aa1539d-9b7c-44e0-ee0f-50f4628463a4"
      },
      "outputs": [
        {
          "name": "stdout",
          "output_type": "stream",
          "text": [
            "KNN Model Performance:\n",
            "Mean Absolute Error (MAE) (train): 0.18945065431898164\n",
            "Mean Absolute Error (MAE) (test): 0.23696269248248478\n",
            "Mean Squared Error (MSE) (train): 0.06667108091197249\n",
            "Mean Squared Error (MSE) (test): 0.10155935806022956\n",
            "R2 Score (train): 0.883806893966415\n",
            "R2 Score (test): 0.8182561272444479\n"
          ]
        }
      ],
      "source": [
        "knn_regressor = KNeighborsRegressor(n_neighbors=5)\n",
        "\n",
        "\n",
        "knn_regressor.fit(X_train, y_train)\n",
        "\n",
        "\n",
        "y_test_pred_knn = knn_regressor.predict(X_test)\n",
        "y_train_pred_knn = knn_regressor.predict(X_train)\n",
        "\n",
        "\n",
        "mae_train_knn = mean_absolute_error(y_train, y_train_pred_knn)  # Mean Absolute Error\n",
        "mse_train_knn = mean_squared_error(y_train, y_train_pred_knn)   # Mean Squared Error\n",
        "r2_train_knn = r2_score(y_train, y_train_pred_knn)              # R2 Score\n",
        "\n",
        "\n",
        "mae_test_knn = mean_absolute_error(y_test, y_test_pred_knn)  # Mean Absolute Error\n",
        "mse_test_knn = mean_squared_error(y_test, y_test_pred_knn)   # Mean Squared Error\n",
        "r2_test_knn = r2_score(y_test, y_test_pred_knn)              # R2 Score\n",
        "\n",
        "\n",
        "print(\"KNN Model Performance:\")\n",
        "print(\"Mean Absolute Error (MAE) (train):\", mae_train_knn)\n",
        "print(\"Mean Absolute Error (MAE) (test):\", mae_test_knn)\n",
        "print(\"Mean Squared Error (MSE) (train):\", mse_train_knn)\n",
        "print(\"Mean Squared Error (MSE) (test):\", mse_test_knn)\n",
        "print(\"R2 Score (train):\", r2_train_knn)\n",
        "print(\"R2 Score (test):\", r2_test_knn)\n"
      ]
    },
    {
      "cell_type": "markdown",
      "metadata": {},
      "source": [
        "Even though knn got a better accuracies but linear regressor is better to use as knn over fits the data which is very obvious in the r2 score"
      ]
    },
    {
      "cell_type": "code",
      "execution_count": 99,
      "metadata": {
        "colab": {
          "base_uri": "https://localhost:8080/"
        },
        "id": "vE2ZhN7_VmyK",
        "outputId": "3da10c2b-7bc6-4d0d-cb2d-4d4264795b52"
      },
      "outputs": [
        {
          "name": "stdout",
          "output_type": "stream",
          "text": [
            "K = 3, Mean Absolute Error (MAE): 0.24158591595792936\n",
            "K = 5, Mean Absolute Error (MAE): 0.24411689270510928\n",
            "K = 7, Mean Absolute Error (MAE): 0.24765996871741264\n",
            "K = 10, Mean Absolute Error (MAE): 0.2515867550607209\n"
          ]
        }
      ],
      "source": [
        "for k in [3, 5, 7, 10]:\n",
        "    knn_regressor = KNeighborsRegressor(n_neighbors=k)\n",
        "    knn_regressor.fit(X_train, y_train)\n",
        "    y_pred_knn = knn_regressor.predict(X_test)\n",
        "    mae_knn = mean_absolute_error(y_test, y_pred_knn)\n",
        "    print(f\"K = {k}, Mean Absolute Error (MAE): {mae_knn}\")\n"
      ]
    },
    {
      "cell_type": "code",
      "execution_count": 96,
      "metadata": {
        "id": "LVg1zIp8coxx"
      },
      "outputs": [],
      "source": [
        "# Scaling the features (KNN is distance-based and requires scaling)\n",
        "scaler = StandardScaler()\n",
        "X_train_scaled = scaler.fit_transform(X_train)\n",
        "X_test_scaled = scaler.transform(X_test)\n"
      ]
    },
    {
      "cell_type": "code",
      "execution_count": 97,
      "metadata": {
        "id": "tgXPpDYZcrBN"
      },
      "outputs": [],
      "source": [
        "# Initialize the KNN Regressor model\n",
        "knn_regressor = KNeighborsRegressor(n_neighbors=5)"
      ]
    },
    {
      "cell_type": "code",
      "execution_count": 98,
      "metadata": {
        "colab": {
          "base_uri": "https://localhost:8080/",
          "height": 80
        },
        "id": "MDG1cbJkcu92",
        "outputId": "bb4f0185-a3e7-4932-faeb-c511961e2faf"
      },
      "outputs": [
        {
          "data": {
            "text/html": [
              "<style>#sk-container-id-2 {\n",
              "  /* Definition of color scheme common for light and dark mode */\n",
              "  --sklearn-color-text: black;\n",
              "  --sklearn-color-line: gray;\n",
              "  /* Definition of color scheme for unfitted estimators */\n",
              "  --sklearn-color-unfitted-level-0: #fff5e6;\n",
              "  --sklearn-color-unfitted-level-1: #f6e4d2;\n",
              "  --sklearn-color-unfitted-level-2: #ffe0b3;\n",
              "  --sklearn-color-unfitted-level-3: chocolate;\n",
              "  /* Definition of color scheme for fitted estimators */\n",
              "  --sklearn-color-fitted-level-0: #f0f8ff;\n",
              "  --sklearn-color-fitted-level-1: #d4ebff;\n",
              "  --sklearn-color-fitted-level-2: #b3dbfd;\n",
              "  --sklearn-color-fitted-level-3: cornflowerblue;\n",
              "\n",
              "  /* Specific color for light theme */\n",
              "  --sklearn-color-text-on-default-background: var(--sg-text-color, var(--theme-code-foreground, var(--jp-content-font-color1, black)));\n",
              "  --sklearn-color-background: var(--sg-background-color, var(--theme-background, var(--jp-layout-color0, white)));\n",
              "  --sklearn-color-border-box: var(--sg-text-color, var(--theme-code-foreground, var(--jp-content-font-color1, black)));\n",
              "  --sklearn-color-icon: #696969;\n",
              "\n",
              "  @media (prefers-color-scheme: dark) {\n",
              "    /* Redefinition of color scheme for dark theme */\n",
              "    --sklearn-color-text-on-default-background: var(--sg-text-color, var(--theme-code-foreground, var(--jp-content-font-color1, white)));\n",
              "    --sklearn-color-background: var(--sg-background-color, var(--theme-background, var(--jp-layout-color0, #111)));\n",
              "    --sklearn-color-border-box: var(--sg-text-color, var(--theme-code-foreground, var(--jp-content-font-color1, white)));\n",
              "    --sklearn-color-icon: #878787;\n",
              "  }\n",
              "}\n",
              "\n",
              "#sk-container-id-2 {\n",
              "  color: var(--sklearn-color-text);\n",
              "}\n",
              "\n",
              "#sk-container-id-2 pre {\n",
              "  padding: 0;\n",
              "}\n",
              "\n",
              "#sk-container-id-2 input.sk-hidden--visually {\n",
              "  border: 0;\n",
              "  clip: rect(1px 1px 1px 1px);\n",
              "  clip: rect(1px, 1px, 1px, 1px);\n",
              "  height: 1px;\n",
              "  margin: -1px;\n",
              "  overflow: hidden;\n",
              "  padding: 0;\n",
              "  position: absolute;\n",
              "  width: 1px;\n",
              "}\n",
              "\n",
              "#sk-container-id-2 div.sk-dashed-wrapped {\n",
              "  border: 1px dashed var(--sklearn-color-line);\n",
              "  margin: 0 0.4em 0.5em 0.4em;\n",
              "  box-sizing: border-box;\n",
              "  padding-bottom: 0.4em;\n",
              "  background-color: var(--sklearn-color-background);\n",
              "}\n",
              "\n",
              "#sk-container-id-2 div.sk-container {\n",
              "  /* jupyter's `normalize.less` sets `[hidden] { display: none; }`\n",
              "     but bootstrap.min.css set `[hidden] { display: none !important; }`\n",
              "     so we also need the `!important` here to be able to override the\n",
              "     default hidden behavior on the sphinx rendered scikit-learn.org.\n",
              "     See: https://github.com/scikit-learn/scikit-learn/issues/21755 */\n",
              "  display: inline-block !important;\n",
              "  position: relative;\n",
              "}\n",
              "\n",
              "#sk-container-id-2 div.sk-text-repr-fallback {\n",
              "  display: none;\n",
              "}\n",
              "\n",
              "div.sk-parallel-item,\n",
              "div.sk-serial,\n",
              "div.sk-item {\n",
              "  /* draw centered vertical line to link estimators */\n",
              "  background-image: linear-gradient(var(--sklearn-color-text-on-default-background), var(--sklearn-color-text-on-default-background));\n",
              "  background-size: 2px 100%;\n",
              "  background-repeat: no-repeat;\n",
              "  background-position: center center;\n",
              "}\n",
              "\n",
              "/* Parallel-specific style estimator block */\n",
              "\n",
              "#sk-container-id-2 div.sk-parallel-item::after {\n",
              "  content: \"\";\n",
              "  width: 100%;\n",
              "  border-bottom: 2px solid var(--sklearn-color-text-on-default-background);\n",
              "  flex-grow: 1;\n",
              "}\n",
              "\n",
              "#sk-container-id-2 div.sk-parallel {\n",
              "  display: flex;\n",
              "  align-items: stretch;\n",
              "  justify-content: center;\n",
              "  background-color: var(--sklearn-color-background);\n",
              "  position: relative;\n",
              "}\n",
              "\n",
              "#sk-container-id-2 div.sk-parallel-item {\n",
              "  display: flex;\n",
              "  flex-direction: column;\n",
              "}\n",
              "\n",
              "#sk-container-id-2 div.sk-parallel-item:first-child::after {\n",
              "  align-self: flex-end;\n",
              "  width: 50%;\n",
              "}\n",
              "\n",
              "#sk-container-id-2 div.sk-parallel-item:last-child::after {\n",
              "  align-self: flex-start;\n",
              "  width: 50%;\n",
              "}\n",
              "\n",
              "#sk-container-id-2 div.sk-parallel-item:only-child::after {\n",
              "  width: 0;\n",
              "}\n",
              "\n",
              "/* Serial-specific style estimator block */\n",
              "\n",
              "#sk-container-id-2 div.sk-serial {\n",
              "  display: flex;\n",
              "  flex-direction: column;\n",
              "  align-items: center;\n",
              "  background-color: var(--sklearn-color-background);\n",
              "  padding-right: 1em;\n",
              "  padding-left: 1em;\n",
              "}\n",
              "\n",
              "\n",
              "/* Toggleable style: style used for estimator/Pipeline/ColumnTransformer box that is\n",
              "clickable and can be expanded/collapsed.\n",
              "- Pipeline and ColumnTransformer use this feature and define the default style\n",
              "- Estimators will overwrite some part of the style using the `sk-estimator` class\n",
              "*/\n",
              "\n",
              "/* Pipeline and ColumnTransformer style (default) */\n",
              "\n",
              "#sk-container-id-2 div.sk-toggleable {\n",
              "  /* Default theme specific background. It is overwritten whether we have a\n",
              "  specific estimator or a Pipeline/ColumnTransformer */\n",
              "  background-color: var(--sklearn-color-background);\n",
              "}\n",
              "\n",
              "/* Toggleable label */\n",
              "#sk-container-id-2 label.sk-toggleable__label {\n",
              "  cursor: pointer;\n",
              "  display: block;\n",
              "  width: 100%;\n",
              "  margin-bottom: 0;\n",
              "  padding: 0.5em;\n",
              "  box-sizing: border-box;\n",
              "  text-align: center;\n",
              "}\n",
              "\n",
              "#sk-container-id-2 label.sk-toggleable__label-arrow:before {\n",
              "  /* Arrow on the left of the label */\n",
              "  content: \"▸\";\n",
              "  float: left;\n",
              "  margin-right: 0.25em;\n",
              "  color: var(--sklearn-color-icon);\n",
              "}\n",
              "\n",
              "#sk-container-id-2 label.sk-toggleable__label-arrow:hover:before {\n",
              "  color: var(--sklearn-color-text);\n",
              "}\n",
              "\n",
              "/* Toggleable content - dropdown */\n",
              "\n",
              "#sk-container-id-2 div.sk-toggleable__content {\n",
              "  max-height: 0;\n",
              "  max-width: 0;\n",
              "  overflow: hidden;\n",
              "  text-align: left;\n",
              "  /* unfitted */\n",
              "  background-color: var(--sklearn-color-unfitted-level-0);\n",
              "}\n",
              "\n",
              "#sk-container-id-2 div.sk-toggleable__content.fitted {\n",
              "  /* fitted */\n",
              "  background-color: var(--sklearn-color-fitted-level-0);\n",
              "}\n",
              "\n",
              "#sk-container-id-2 div.sk-toggleable__content pre {\n",
              "  margin: 0.2em;\n",
              "  border-radius: 0.25em;\n",
              "  color: var(--sklearn-color-text);\n",
              "  /* unfitted */\n",
              "  background-color: var(--sklearn-color-unfitted-level-0);\n",
              "}\n",
              "\n",
              "#sk-container-id-2 div.sk-toggleable__content.fitted pre {\n",
              "  /* unfitted */\n",
              "  background-color: var(--sklearn-color-fitted-level-0);\n",
              "}\n",
              "\n",
              "#sk-container-id-2 input.sk-toggleable__control:checked~div.sk-toggleable__content {\n",
              "  /* Expand drop-down */\n",
              "  max-height: 200px;\n",
              "  max-width: 100%;\n",
              "  overflow: auto;\n",
              "}\n",
              "\n",
              "#sk-container-id-2 input.sk-toggleable__control:checked~label.sk-toggleable__label-arrow:before {\n",
              "  content: \"▾\";\n",
              "}\n",
              "\n",
              "/* Pipeline/ColumnTransformer-specific style */\n",
              "\n",
              "#sk-container-id-2 div.sk-label input.sk-toggleable__control:checked~label.sk-toggleable__label {\n",
              "  color: var(--sklearn-color-text);\n",
              "  background-color: var(--sklearn-color-unfitted-level-2);\n",
              "}\n",
              "\n",
              "#sk-container-id-2 div.sk-label.fitted input.sk-toggleable__control:checked~label.sk-toggleable__label {\n",
              "  background-color: var(--sklearn-color-fitted-level-2);\n",
              "}\n",
              "\n",
              "/* Estimator-specific style */\n",
              "\n",
              "/* Colorize estimator box */\n",
              "#sk-container-id-2 div.sk-estimator input.sk-toggleable__control:checked~label.sk-toggleable__label {\n",
              "  /* unfitted */\n",
              "  background-color: var(--sklearn-color-unfitted-level-2);\n",
              "}\n",
              "\n",
              "#sk-container-id-2 div.sk-estimator.fitted input.sk-toggleable__control:checked~label.sk-toggleable__label {\n",
              "  /* fitted */\n",
              "  background-color: var(--sklearn-color-fitted-level-2);\n",
              "}\n",
              "\n",
              "#sk-container-id-2 div.sk-label label.sk-toggleable__label,\n",
              "#sk-container-id-2 div.sk-label label {\n",
              "  /* The background is the default theme color */\n",
              "  color: var(--sklearn-color-text-on-default-background);\n",
              "}\n",
              "\n",
              "/* On hover, darken the color of the background */\n",
              "#sk-container-id-2 div.sk-label:hover label.sk-toggleable__label {\n",
              "  color: var(--sklearn-color-text);\n",
              "  background-color: var(--sklearn-color-unfitted-level-2);\n",
              "}\n",
              "\n",
              "/* Label box, darken color on hover, fitted */\n",
              "#sk-container-id-2 div.sk-label.fitted:hover label.sk-toggleable__label.fitted {\n",
              "  color: var(--sklearn-color-text);\n",
              "  background-color: var(--sklearn-color-fitted-level-2);\n",
              "}\n",
              "\n",
              "/* Estimator label */\n",
              "\n",
              "#sk-container-id-2 div.sk-label label {\n",
              "  font-family: monospace;\n",
              "  font-weight: bold;\n",
              "  display: inline-block;\n",
              "  line-height: 1.2em;\n",
              "}\n",
              "\n",
              "#sk-container-id-2 div.sk-label-container {\n",
              "  text-align: center;\n",
              "}\n",
              "\n",
              "/* Estimator-specific */\n",
              "#sk-container-id-2 div.sk-estimator {\n",
              "  font-family: monospace;\n",
              "  border: 1px dotted var(--sklearn-color-border-box);\n",
              "  border-radius: 0.25em;\n",
              "  box-sizing: border-box;\n",
              "  margin-bottom: 0.5em;\n",
              "  /* unfitted */\n",
              "  background-color: var(--sklearn-color-unfitted-level-0);\n",
              "}\n",
              "\n",
              "#sk-container-id-2 div.sk-estimator.fitted {\n",
              "  /* fitted */\n",
              "  background-color: var(--sklearn-color-fitted-level-0);\n",
              "}\n",
              "\n",
              "/* on hover */\n",
              "#sk-container-id-2 div.sk-estimator:hover {\n",
              "  /* unfitted */\n",
              "  background-color: var(--sklearn-color-unfitted-level-2);\n",
              "}\n",
              "\n",
              "#sk-container-id-2 div.sk-estimator.fitted:hover {\n",
              "  /* fitted */\n",
              "  background-color: var(--sklearn-color-fitted-level-2);\n",
              "}\n",
              "\n",
              "/* Specification for estimator info (e.g. \"i\" and \"?\") */\n",
              "\n",
              "/* Common style for \"i\" and \"?\" */\n",
              "\n",
              ".sk-estimator-doc-link,\n",
              "a:link.sk-estimator-doc-link,\n",
              "a:visited.sk-estimator-doc-link {\n",
              "  float: right;\n",
              "  font-size: smaller;\n",
              "  line-height: 1em;\n",
              "  font-family: monospace;\n",
              "  background-color: var(--sklearn-color-background);\n",
              "  border-radius: 1em;\n",
              "  height: 1em;\n",
              "  width: 1em;\n",
              "  text-decoration: none !important;\n",
              "  margin-left: 1ex;\n",
              "  /* unfitted */\n",
              "  border: var(--sklearn-color-unfitted-level-1) 1pt solid;\n",
              "  color: var(--sklearn-color-unfitted-level-1);\n",
              "}\n",
              "\n",
              ".sk-estimator-doc-link.fitted,\n",
              "a:link.sk-estimator-doc-link.fitted,\n",
              "a:visited.sk-estimator-doc-link.fitted {\n",
              "  /* fitted */\n",
              "  border: var(--sklearn-color-fitted-level-1) 1pt solid;\n",
              "  color: var(--sklearn-color-fitted-level-1);\n",
              "}\n",
              "\n",
              "/* On hover */\n",
              "div.sk-estimator:hover .sk-estimator-doc-link:hover,\n",
              ".sk-estimator-doc-link:hover,\n",
              "div.sk-label-container:hover .sk-estimator-doc-link:hover,\n",
              ".sk-estimator-doc-link:hover {\n",
              "  /* unfitted */\n",
              "  background-color: var(--sklearn-color-unfitted-level-3);\n",
              "  color: var(--sklearn-color-background);\n",
              "  text-decoration: none;\n",
              "}\n",
              "\n",
              "div.sk-estimator.fitted:hover .sk-estimator-doc-link.fitted:hover,\n",
              ".sk-estimator-doc-link.fitted:hover,\n",
              "div.sk-label-container:hover .sk-estimator-doc-link.fitted:hover,\n",
              ".sk-estimator-doc-link.fitted:hover {\n",
              "  /* fitted */\n",
              "  background-color: var(--sklearn-color-fitted-level-3);\n",
              "  color: var(--sklearn-color-background);\n",
              "  text-decoration: none;\n",
              "}\n",
              "\n",
              "/* Span, style for the box shown on hovering the info icon */\n",
              ".sk-estimator-doc-link span {\n",
              "  display: none;\n",
              "  z-index: 9999;\n",
              "  position: relative;\n",
              "  font-weight: normal;\n",
              "  right: .2ex;\n",
              "  padding: .5ex;\n",
              "  margin: .5ex;\n",
              "  width: min-content;\n",
              "  min-width: 20ex;\n",
              "  max-width: 50ex;\n",
              "  color: var(--sklearn-color-text);\n",
              "  box-shadow: 2pt 2pt 4pt #999;\n",
              "  /* unfitted */\n",
              "  background: var(--sklearn-color-unfitted-level-0);\n",
              "  border: .5pt solid var(--sklearn-color-unfitted-level-3);\n",
              "}\n",
              "\n",
              ".sk-estimator-doc-link.fitted span {\n",
              "  /* fitted */\n",
              "  background: var(--sklearn-color-fitted-level-0);\n",
              "  border: var(--sklearn-color-fitted-level-3);\n",
              "}\n",
              "\n",
              ".sk-estimator-doc-link:hover span {\n",
              "  display: block;\n",
              "}\n",
              "\n",
              "/* \"?\"-specific style due to the `<a>` HTML tag */\n",
              "\n",
              "#sk-container-id-2 a.estimator_doc_link {\n",
              "  float: right;\n",
              "  font-size: 1rem;\n",
              "  line-height: 1em;\n",
              "  font-family: monospace;\n",
              "  background-color: var(--sklearn-color-background);\n",
              "  border-radius: 1rem;\n",
              "  height: 1rem;\n",
              "  width: 1rem;\n",
              "  text-decoration: none;\n",
              "  /* unfitted */\n",
              "  color: var(--sklearn-color-unfitted-level-1);\n",
              "  border: var(--sklearn-color-unfitted-level-1) 1pt solid;\n",
              "}\n",
              "\n",
              "#sk-container-id-2 a.estimator_doc_link.fitted {\n",
              "  /* fitted */\n",
              "  border: var(--sklearn-color-fitted-level-1) 1pt solid;\n",
              "  color: var(--sklearn-color-fitted-level-1);\n",
              "}\n",
              "\n",
              "/* On hover */\n",
              "#sk-container-id-2 a.estimator_doc_link:hover {\n",
              "  /* unfitted */\n",
              "  background-color: var(--sklearn-color-unfitted-level-3);\n",
              "  color: var(--sklearn-color-background);\n",
              "  text-decoration: none;\n",
              "}\n",
              "\n",
              "#sk-container-id-2 a.estimator_doc_link.fitted:hover {\n",
              "  /* fitted */\n",
              "  background-color: var(--sklearn-color-fitted-level-3);\n",
              "}\n",
              "</style><div id=\"sk-container-id-2\" class=\"sk-top-container\"><div class=\"sk-text-repr-fallback\"><pre>KNeighborsRegressor()</pre><b>In a Jupyter environment, please rerun this cell to show the HTML representation or trust the notebook. <br />On GitHub, the HTML representation is unable to render, please try loading this page with nbviewer.org.</b></div><div class=\"sk-container\" hidden><div class=\"sk-item\"><div class=\"sk-estimator fitted sk-toggleable\"><input class=\"sk-toggleable__control sk-hidden--visually\" id=\"sk-estimator-id-2\" type=\"checkbox\" checked><label for=\"sk-estimator-id-2\" class=\"sk-toggleable__label fitted sk-toggleable__label-arrow fitted\">&nbsp;&nbsp;KNeighborsRegressor<a class=\"sk-estimator-doc-link fitted\" rel=\"noreferrer\" target=\"_blank\" href=\"https://scikit-learn.org/1.5/modules/generated/sklearn.neighbors.KNeighborsRegressor.html\">?<span>Documentation for KNeighborsRegressor</span></a><span class=\"sk-estimator-doc-link fitted\">i<span>Fitted</span></span></label><div class=\"sk-toggleable__content fitted\"><pre>KNeighborsRegressor()</pre></div> </div></div></div></div>"
            ],
            "text/plain": [
              "KNeighborsRegressor()"
            ]
          },
          "execution_count": 98,
          "metadata": {},
          "output_type": "execute_result"
        }
      ],
      "source": [
        "# Train the model\n",
        "knn_regressor.fit(X_train_scaled, y_train)"
      ]
    },
    {
      "cell_type": "code",
      "execution_count": 104,
      "metadata": {
        "id": "4Ee69luWcyXW"
      },
      "outputs": [],
      "source": [
        "# Predict on scaled test data\n",
        "y_pred_knn = knn_regressor.predict(X_test_scaled)"
      ]
    },
    {
      "cell_type": "code",
      "execution_count": 105,
      "metadata": {
        "id": "QYAe4Rdbc3fE"
      },
      "outputs": [],
      "source": [
        "# Evaluate the KNN Regressor model\n",
        "mae_knn = mean_absolute_error(y_test, y_pred_knn)  # Mean Absolute Error\n",
        "mse_knn = mean_squared_error(y_test, y_pred_knn)   # Mean Squared Error\n",
        "r2_knn = r2_score(y_test, y_pred_knn)              # R-squared Score"
      ]
    },
    {
      "cell_type": "code",
      "execution_count": 100,
      "metadata": {
        "colab": {
          "base_uri": "https://localhost:8080/"
        },
        "id": "jr3z9FQVfrAw",
        "outputId": "05c22aa4-2069-4550-b339-e26ac660b8af"
      },
      "outputs": [
        {
          "name": "stdout",
          "output_type": "stream",
          "text": [
            "KNN Model Performance:\n",
            "Mean Absolute Error (MAE) (train): 0.19577083512519258\n",
            "Mean Absolute Error (MAE) (test): 0.24961821247538463\n",
            "Mean Squared Error (MSE) (train): 0.07037707622819474\n",
            "Mean Squared Error (MSE) (test): 0.1143465950401099\n",
            "R2 Score (train): 0.8771731402733721\n",
            "R2 Score (test): 0.7953729383886438\n"
          ]
        }
      ],
      "source": [
        "y_test_pred_knn = knn_regressor.predict(X_test_scaled)\n",
        "y_train_pred_knn = knn_regressor.predict(X_train_scaled)\n",
        "\n",
        "\n",
        "mae_train_knn = mean_absolute_error(y_train, y_train_pred_knn)  # Mean Absolute Error\n",
        "mse_train_knn = mean_squared_error(y_train, y_train_pred_knn)   # Mean Squared Error\n",
        "r2_train_knn = r2_score(y_train, y_train_pred_knn)              # R2 Score\n",
        "\n",
        "\n",
        "mae_test_knn = mean_absolute_error(y_test, y_test_pred_knn)  # Mean Absolute Error\n",
        "mse_test_knn = mean_squared_error(y_test, y_test_pred_knn)   # Mean Squared Error\n",
        "r2_test_knn = r2_score(y_test, y_test_pred_knn)              # R2 Score\n",
        "\n",
        "\n",
        "print(\"KNN Model Performance:\")\n",
        "print(\"Mean Absolute Error (MAE) (train):\", mae_train_knn)\n",
        "print(\"Mean Absolute Error (MAE) (test):\", mae_test_knn)\n",
        "print(\"Mean Squared Error (MSE) (train):\", mse_train_knn)\n",
        "print(\"Mean Squared Error (MSE) (test):\", mse_test_knn)\n",
        "print(\"R2 Score (train):\", r2_train_knn)\n",
        "print(\"R2 Score (test):\", r2_test_knn)\n"
      ]
    },
    {
      "cell_type": "markdown",
      "metadata": {},
      "source": [
        "Even with the scaling the knn still over fits"
      ]
    },
    {
      "cell_type": "markdown",
      "metadata": {},
      "source": [
        "# function to take inputs from the user and give him the price prediction"
      ]
    },
    {
      "cell_type": "code",
      "execution_count": 94,
      "metadata": {
        "id": "JxuqpEDIV-td"
      },
      "outputs": [],
      "source": [
        "import pandas as pd\n",
        "import numpy as np\n",
        "\n",
        "def predict_property_price(model):\n",
        "    # Define the feature names as expected by the model\n",
        "    feature_names = [\n",
        "        'Type', 'Bedrooms', 'Bathrooms', 'Area', 'Furnished', 'Level', \n",
        "        'Payment_Option', '10th of Ramadan', '15 May City', '6th of October',\n",
        "        'Agami', 'Ain Sukhna', 'Alamein', 'Amreya', 'Asafra', 'Asyut City',\n",
        "        'Badr City', 'Borg al-Arab', 'Dabaa', 'Dokki', 'Faisal', 'Gesr Al Suez',\n",
        "        'Giza District', 'Glim', 'Gouna', 'Hadayek 6th of October',\n",
        "        'Hadayek al-Ahram', 'Hadayek al-Kobba', 'Haram', 'Heliopolis',\n",
        "        'Helmeyat El Zaytoun', 'Hurghada', 'Ismailia City', 'Kafr Abdo',\n",
        "        'Katameya', 'Laurent', 'Maadi', 'Madinaty', 'Mandara', 'Mansura',\n",
        "        'Marsa Matrouh', 'Miami', 'Mohandessin', 'Moharam Bik', 'Mokattam',\n",
        "        'Mostakbal City', 'Nasr City', 'New Cairo - El Tagamoa',\n",
        "        'New Capital City', 'New Damietta', 'New Heliopolis', 'New Mansoura',\n",
        "        'New Nozha', 'North Coast', 'Obour City', 'Ras Sedr', 'Ras al-Bar',\n",
        "        'Rehab City', 'Roushdy', 'Saba Pasha', 'Seyouf', 'Sharm al-Sheikh',\n",
        "        'Sharq District', 'Sheikh Zayed', 'Sheraton', 'Shorouk City', 'Shubra',\n",
        "        'Sidi Beshr', 'Smoha', 'Tanta', 'West Somid', 'Zagazig',\n",
        "        'Zahraa Al Maadi', 'Zamalek', 'Zezenia'\n",
        "    ]\n",
        "    \n",
        "    # Mapping explanation\n",
        "    type_mapping = {'apartment': 0, 'duplex': 1, 'chalet': 2, 'twin house': 3, 'town house': 4, 'standalone villa': 5}\n",
        "    furnished_mapping = {'No': 0, 'Yes': 1}\n",
        "    payment_option_mapping = {'Cash': 0, 'Installment': 1, 'Cash or Installment': 2}\n",
        "    \n",
        "    # Input prompts\n",
        "    print(\"Enter property details:\")\n",
        "    property_type = input(f\"Type (options: {list(type_mapping.keys())}): \")\n",
        "    bedrooms = int(input(\"Bedrooms: \"))\n",
        "    bathrooms = int(input(\"Bathrooms: \"))\n",
        "    area = float(input(\"Area (in square meters): \"))\n",
        "    furnished = input(f\"Furnished (options: {list(furnished_mapping.keys())}): \")\n",
        "    level = int(input(\"Level: \"))\n",
        "    payment_option = input(f\"Payment Option (options: {list(payment_option_mapping.keys())}): \")\n",
        "    \n",
        "    city = input(\"City (choose from the list below):\\n\" +\n",
        "                 \"\\n\".join(feature_names[7:]) + \"\\nCity: \")\n",
        "    \n",
        "    # Map inputs\n",
        "    property_type = type_mapping[property_type]\n",
        "    furnished = furnished_mapping[furnished]\n",
        "    payment_option = payment_option_mapping[payment_option]\n",
        "    \n",
        "    # Create a dictionary to hold the feature values\n",
        "    features = {col: 0 for col in feature_names}\n",
        "    features['Type'] = property_type\n",
        "    features['Bedrooms'] = bedrooms\n",
        "    features['Bathrooms'] = bathrooms\n",
        "    features['Area'] = area\n",
        "    features['Furnished'] = furnished\n",
        "    features['Level'] = level\n",
        "    features['Payment_Option'] = payment_option\n",
        "    features[city] = 1  # Set the one-hot encoded city to 1\n",
        "    \n",
        "    # Convert the dictionary to a DataFrame\n",
        "    input_df = pd.DataFrame([features], columns=feature_names)\n",
        "    \n",
        "    # Predict using the trained model\n",
        "    log_prediction = model.predict(input_df)  # Model outputs log(price)\n",
        "    actual_price = np.exp(log_prediction[0])  # Convert log(price) to actual price\n",
        "    print(f\"Predicted Price: {actual_price:.2f}\")\n"
      ]
    },
    {
      "cell_type": "code",
      "execution_count": 106,
      "metadata": {},
      "outputs": [
        {
          "name": "stdout",
          "output_type": "stream",
          "text": [
            "Enter property details:\n",
            "Predicted Price: 5337341.20\n"
          ]
        }
      ],
      "source": [
        "predict_property_price(linear_regressor)"
      ]
    },
    {
      "cell_type": "code",
      "execution_count": null,
      "metadata": {},
      "outputs": [],
      "source": []
    }
  ],
  "metadata": {
    "colab": {
      "provenance": []
    },
    "kernelspec": {
      "display_name": "Python 3",
      "language": "python",
      "name": "python3"
    },
    "language_info": {
      "codemirror_mode": {
        "name": "ipython",
        "version": 3
      },
      "file_extension": ".py",
      "mimetype": "text/x-python",
      "name": "python",
      "nbconvert_exporter": "python",
      "pygments_lexer": "ipython3",
      "version": "3.11.0"
    }
  },
  "nbformat": 4,
  "nbformat_minor": 0
}
